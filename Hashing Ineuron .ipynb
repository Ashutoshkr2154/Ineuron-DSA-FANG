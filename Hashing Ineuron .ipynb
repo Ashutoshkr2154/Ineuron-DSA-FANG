{
 "cells": [
  {
   "cell_type": "markdown",
   "id": "f23c8a72-041a-4cf7-8566-a7282f1b812f",
   "metadata": {},
   "source": [
    "##### Importing the demo file  "
   ]
  },
  {
   "cell_type": "code",
   "execution_count": 1,
   "id": "48ede3f4-1c01-4a9b-9a24-cfc95c9d1bb9",
   "metadata": {},
   "outputs": [],
   "source": [
    "import pandas as pd \n",
    "data = pd.read_csv('Annual Price.csv')"
   ]
  },
  {
   "cell_type": "code",
   "execution_count": 2,
   "id": "0c2a01df-cb51-4fa0-a423-ed9f90348f41",
   "metadata": {},
   "outputs": [
    {
     "data": {
      "text/html": [
       "<div>\n",
       "<style scoped>\n",
       "    .dataframe tbody tr th:only-of-type {\n",
       "        vertical-align: middle;\n",
       "    }\n",
       "\n",
       "    .dataframe tbody tr th {\n",
       "        vertical-align: top;\n",
       "    }\n",
       "\n",
       "    .dataframe thead th {\n",
       "        text-align: right;\n",
       "    }\n",
       "</style>\n",
       "<table border=\"1\" class=\"dataframe\">\n",
       "  <thead>\n",
       "    <tr style=\"text-align: right;\">\n",
       "      <th></th>\n",
       "      <th>Date</th>\n",
       "      <th>Price</th>\n",
       "    </tr>\n",
       "  </thead>\n",
       "  <tbody>\n",
       "    <tr>\n",
       "      <th>0</th>\n",
       "      <td>March2020</td>\n",
       "      <td>234</td>\n",
       "    </tr>\n",
       "    <tr>\n",
       "      <th>1</th>\n",
       "      <td>March2021</td>\n",
       "      <td>345</td>\n",
       "    </tr>\n",
       "    <tr>\n",
       "      <th>2</th>\n",
       "      <td>March2022</td>\n",
       "      <td>445</td>\n",
       "    </tr>\n",
       "    <tr>\n",
       "      <th>3</th>\n",
       "      <td>March2023</td>\n",
       "      <td>553</td>\n",
       "    </tr>\n",
       "    <tr>\n",
       "      <th>4</th>\n",
       "      <td>March2025</td>\n",
       "      <td>678</td>\n",
       "    </tr>\n",
       "    <tr>\n",
       "      <th>5</th>\n",
       "      <td>March2026</td>\n",
       "      <td>789</td>\n",
       "    </tr>\n",
       "    <tr>\n",
       "      <th>6</th>\n",
       "      <td>March2027</td>\n",
       "      <td>598</td>\n",
       "    </tr>\n",
       "    <tr>\n",
       "      <th>7</th>\n",
       "      <td>March2028</td>\n",
       "      <td>569</td>\n",
       "    </tr>\n",
       "    <tr>\n",
       "      <th>8</th>\n",
       "      <td>March2029</td>\n",
       "      <td>987</td>\n",
       "    </tr>\n",
       "  </tbody>\n",
       "</table>\n",
       "</div>"
      ],
      "text/plain": [
       "       Date   Price \n",
       "0  March2020     234\n",
       "1  March2021     345\n",
       "2  March2022     445\n",
       "3  March2023     553\n",
       "4  March2025     678\n",
       "5  March2026     789\n",
       "6  March2027     598\n",
       "7  March2028     569\n",
       "8  March2029     987"
      ]
     },
     "execution_count": 2,
     "metadata": {},
     "output_type": "execute_result"
    }
   ],
   "source": [
    "data\n"
   ]
  },
  {
   "cell_type": "code",
   "execution_count": 3,
   "id": "192d44c3-6429-4af1-865c-02874a9ea5b4",
   "metadata": {},
   "outputs": [],
   "source": [
    "data_List=data.values.tolist()"
   ]
  },
  {
   "cell_type": "markdown",
   "id": "68f6bb31-0a44-43ce-a568-f4d449d2af54",
   "metadata": {},
   "source": [
    "#### Implementation of the search using list and why dict is required"
   ]
  },
  {
   "cell_type": "code",
   "execution_count": 4,
   "id": "0e245f8d-7439-4c1b-9e60-2d1bd691d2d0",
   "metadata": {},
   "outputs": [
    {
     "data": {
      "text/plain": [
       "[['March2020', 234],\n",
       " ['March2021', 345],\n",
       " ['March2022', 445],\n",
       " ['March2023', 553],\n",
       " ['March2025', 678],\n",
       " ['March2026', 789],\n",
       " ['March2027', 598],\n",
       " ['March2028', 569],\n",
       " ['March2029', 987]]"
      ]
     },
     "execution_count": 4,
     "metadata": {},
     "output_type": "execute_result"
    }
   ],
   "source": [
    "data_List"
   ]
  },
  {
   "cell_type": "markdown",
   "id": "17661aff-5d8f-4e14-9153-a4842c9f0cb5",
   "metadata": {},
   "source": [
    "### Price on March 2026"
   ]
  },
  {
   "cell_type": "markdown",
   "id": "0ddf7bcd-f8fe-461f-b2e9-b45b2235f68b",
   "metadata": {},
   "source": [
    "#### Time Complexity: O(n)\n",
    "####  Approach : Linear Search "
   ]
  },
  {
   "cell_type": "code",
   "execution_count": 5,
   "id": "b3e40aa8-2e08-43dc-9c48-a2ad97b3ff0d",
   "metadata": {},
   "outputs": [
    {
     "name": "stdout",
     "output_type": "stream",
     "text": [
      "789\n"
     ]
    }
   ],
   "source": [
    "for elements in data_List:\n",
    "    if elements[0] == 'March2026':\n",
    "        print(elements[1])"
   ]
  },
  {
   "cell_type": "markdown",
   "id": "1227d0da-8284-4cdc-bd0f-5223c9a84722",
   "metadata": {},
   "source": [
    "#### Implementation using dictionary "
   ]
  },
  {
   "cell_type": "code",
   "execution_count": 6,
   "id": "9fd3b1c7-6047-4c5c-b6b9-2ccb508bc3c4",
   "metadata": {},
   "outputs": [
    {
     "data": {
      "text/plain": [
       "{'March2020': 234,\n",
       " 'March2021': 345,\n",
       " 'March2022': 445,\n",
       " 'March2023': 553,\n",
       " 'March2025': 678,\n",
       " 'March2026': 789,\n",
       " 'March2027': 598,\n",
       " 'March2028': 569,\n",
       " 'March2029': 987}"
      ]
     },
     "execution_count": 6,
     "metadata": {},
     "output_type": "execute_result"
    }
   ],
   "source": [
    "hashing = dict(data.values)\n",
    "hashing"
   ]
  },
  {
   "cell_type": "code",
   "execution_count": 7,
   "id": "b631e9b3-ed21-4aec-bed3-a63558d892f6",
   "metadata": {},
   "outputs": [
    {
     "data": {
      "text/plain": [
       "789"
      ]
     },
     "execution_count": 7,
     "metadata": {},
     "output_type": "execute_result"
    }
   ],
   "source": [
    "hashing['March2026']"
   ]
  },
  {
   "cell_type": "markdown",
   "id": "4cb1f841-0191-44de-9b9f-febf066081cc",
   "metadata": {},
   "source": [
    "#### Create a own hash function which is responsible to generate the key of the given value ."
   ]
  },
  {
   "cell_type": "code",
   "execution_count": 8,
   "id": "e0cf264e-14a9-47d7-a569-d02ce4515df0",
   "metadata": {},
   "outputs": [
    {
     "data": {
      "text/plain": [
       "77"
      ]
     },
     "execution_count": 8,
     "metadata": {},
     "output_type": "execute_result"
    }
   ],
   "source": [
    "ord ('M')"
   ]
  },
  {
   "cell_type": "code",
   "execution_count": 9,
   "id": "b8de50c1-439f-4930-8ab0-425b84e406b0",
   "metadata": {},
   "outputs": [],
   "source": [
    "def hash_function(key):\n",
    "    summation = 0\n",
    "    ## size of the hashtable \n",
    "    m= 10 \n",
    "    for char in key :\n",
    "        summation += ord(char)\n",
    "    ## division modulo hash function \n",
    "    return summation % m "
   ]
  },
  {
   "cell_type": "code",
   "execution_count": 10,
   "id": "fb0078b9-4a6d-4a57-b03b-41da09defb8a",
   "metadata": {},
   "outputs": [
    {
     "data": {
      "text/plain": [
       "3"
      ]
     },
     "execution_count": 10,
     "metadata": {},
     "output_type": "execute_result"
    }
   ],
   "source": [
    "hash_function('March2026')"
   ]
  },
  {
   "cell_type": "code",
   "execution_count": 11,
   "id": "af7068ab-766d-48cd-bc0e-03789ce460ea",
   "metadata": {},
   "outputs": [
    {
     "data": {
      "text/plain": [
       "7"
      ]
     },
     "execution_count": 11,
     "metadata": {},
     "output_type": "execute_result"
    }
   ],
   "source": [
    "hash_function('March2020')"
   ]
  },
  {
   "cell_type": "markdown",
   "id": "06226744-0931-4d9a-91f6-b4211b3a2acb",
   "metadata": {},
   "source": [
    "## Create a class of Hash Table in which we will be able to perform the below operations :\n",
    "- 1. Addition of an item in the hash table \n",
    "- 2. Extraction of any item in the hash table \n",
    "- 3. Creation of any hash function "
   ]
  },
  {
   "cell_type": "code",
   "execution_count": 12,
   "id": "3349b136-48a6-41e0-902b-a08bda3179ac",
   "metadata": {},
   "outputs": [],
   "source": [
    "class HashTable:\n",
    "    def __init__(self):\n",
    "        # Size of hash table is 10\n",
    "        self.MAX = 10\n",
    "        # Initialize all elements as None\n",
    "        self.arr = [None for _ in range(self.MAX)]\n",
    "\n",
    "    # Hash function method definition\n",
    "    def hash_function(self, key):\n",
    "        summation = 0\n",
    "        # Size of the hash table\n",
    "        m = 10\n",
    "        for char in key:\n",
    "            summation += ord(char)\n",
    "        # Division modulo hash function\n",
    "        return summation % m\n",
    "\n",
    "    # Addition of an item in the hash table\n",
    "    def addItem(self, key, value):\n",
    "        h = self.hash_function(key)\n",
    "        self.arr[h] = value\n",
    "\n",
    "    # Get any item from the hash table\n",
    "    def getItem(self, key):\n",
    "        h = self.hash_function(key)\n",
    "        return self.arr[h]\n"
   ]
  },
  {
   "cell_type": "code",
   "execution_count": 13,
   "id": "c95f1326-47d9-4ee9-843c-d80726814806",
   "metadata": {},
   "outputs": [],
   "source": [
    "## Create an object of the class Hash Table \n",
    "obj = HashTable()"
   ]
  },
  {
   "cell_type": "code",
   "execution_count": 14,
   "id": "6f952a86-d7a5-4b85-bebb-88172675b207",
   "metadata": {},
   "outputs": [
    {
     "data": {
      "text/plain": [
       "[None, None, None, None, None, None, None, None, None, None]"
      ]
     },
     "execution_count": 14,
     "metadata": {},
     "output_type": "execute_result"
    }
   ],
   "source": [
    "## display the array elements of the hash table \n",
    "obj.arr"
   ]
  },
  {
   "cell_type": "code",
   "execution_count": 15,
   "id": "21720837-ad44-465a-8fd1-4cbf82ded625",
   "metadata": {},
   "outputs": [],
   "source": [
    "obj.addItem('March2020', 234)\n",
    "obj.addItem( 'March2021', 345)\n",
    "obj.addItem('March2022' ,445)\n",
    "obj.addItem('March2023' ,553)\n",
    "obj.addItem( 'March2025', 678)\n",
    "obj.addItem( 'March2026', 789)\n",
    "obj.addItem( 'March2027', 598)\n",
    "obj.addItem( 'March2028', 569)\n",
    "obj.addItem( 'March2029', 987)"
   ]
  },
  {
   "cell_type": "code",
   "execution_count": 16,
   "id": "5c5d4ef6-03cd-43eb-b935-d3aadacad4c1",
   "metadata": {},
   "outputs": [
    {
     "data": {
      "text/plain": [
       "[553, None, 678, 789, 598, 569, 987, 234, 345, 445]"
      ]
     },
     "execution_count": 16,
     "metadata": {},
     "output_type": "execute_result"
    }
   ],
   "source": [
    "obj.arr"
   ]
  },
  {
   "cell_type": "code",
   "execution_count": 17,
   "id": "df3d2e8d-d02a-4338-84bf-989260a0a1b9",
   "metadata": {},
   "outputs": [
    {
     "data": {
      "text/plain": [
       "553"
      ]
     },
     "execution_count": 17,
     "metadata": {},
     "output_type": "execute_result"
    }
   ],
   "source": [
    "obj.getItem('March2023')"
   ]
  },
  {
   "cell_type": "markdown",
   "id": "e55c46fc-4490-465d-9011-a526805d19fd",
   "metadata": {},
   "source": [
    "## Method Overloading and Method Overriding"
   ]
  },
  {
   "cell_type": "code",
   "execution_count": 18,
   "id": "654d303a-dda1-49a0-882b-2b3abfca63c4",
   "metadata": {},
   "outputs": [],
   "source": [
    "class HashTable:\n",
    "    def __init__(self):\n",
    "        # Size of hash table is 10 \n",
    "        self.MAX = 10 \n",
    "        # Initialize all elements as None \n",
    "        self.arr = [None for i in range(self.MAX)]\n",
    "    \n",
    "    # Hash function method definition \n",
    "    def hash_function(self, key):\n",
    "        summation = 0\n",
    "        for char in key:\n",
    "            summation += ord(char)\n",
    "        # Division modulo hash function \n",
    "        return summation % self.MAX\n",
    "    \n",
    "    # Addition of an item in the hash table \n",
    "    def __setitem__(self, key, value):\n",
    "        h = self.hash_function(key)\n",
    "        self.arr[h] = value\n",
    "    \n",
    "    # Get an item in the hash table \n",
    "    def __getitem__(self, key):\n",
    "        h = self.hash_function(key)\n",
    "        return self.arr[h]\n"
   ]
  },
  {
   "cell_type": "code",
   "execution_count": 19,
   "id": "224f7400-b739-4cda-8af7-356e3280b771",
   "metadata": {},
   "outputs": [],
   "source": [
    "obj1 = HashTable()\n",
    "obj1 ['March2025']=678"
   ]
  },
  {
   "cell_type": "code",
   "execution_count": 20,
   "id": "092e6c19-7360-44a6-9d2a-97187cb6f472",
   "metadata": {},
   "outputs": [
    {
     "data": {
      "text/plain": [
       "678"
      ]
     },
     "execution_count": 20,
     "metadata": {},
     "output_type": "execute_result"
    }
   ],
   "source": [
    "obj1 ['March2025']"
   ]
  },
  {
   "cell_type": "markdown",
   "id": "c9525597-d4b9-446a-ab72-1ff03536b1a1",
   "metadata": {},
   "source": [
    "obj1 ['march 6'] = 20 \n",
    "obj1['march 17 '] = 27"
   ]
  },
  {
   "cell_type": "markdown",
   "id": "fa1e00ed-52ee-4319-8c33-714c4cc2d20d",
   "metadata": {},
   "source": [
    "## Stack interview questions "
   ]
  },
  {
   "cell_type": "code",
   "execution_count": null,
   "id": "1dd151fa-847a-49d8-adc2-bffce100f692",
   "metadata": {},
   "outputs": [],
   "source": [
    "## Using two queue do the implementation of stack "
   ]
  },
  {
   "cell_type": "code",
   "execution_count": null,
   "id": "c6d2c322-734a-42bf-b191-1c4672babbe9",
   "metadata": {},
   "outputs": [],
   "source": [
    "class MyStack:\n",
    "    def __init__(self):\n",
    "        self.q1 = []\n",
    "        self.q2 = []\n",
    "        \n",
    "    def push(self , x:int ) -> None:\n",
    "        self.q1.append(x)\n",
    "        \n",
    "    def pop(self) -> int :\n",
    "        if len(self.q1) == 0:\n",
    "            return -1 \n",
    "        while len(self.q1) >1 :\n",
    "            num = self.q1.pop(0)\n",
    "            self.q2.append(num)\n",
    "        our_num = self.q1.pop(0)\n",
    "        while len(self.q2) > 0:\n",
    "            num = self.q2.pop(0)\n",
    "            self.q1.append(num)\n",
    "        return our_num \n",
    "    \n",
    "    def top(self) -> int:\n",
    "        if len(self.q1)  ==0 :\n",
    "            return -1\n",
    "        return self.q1[-1]\n",
    "    \n",
    "    def empty (self) -> bool:\n",
    "        return len(self.q1) == 0\n",
    "    \n",
    "## Examples usage:\n",
    "stack = MyStack()\n",
    "stack.push(1)\n",
    "stack.push(2)\n",
    "print(stack.top())\n",
    "print(stack.pop())\n",
    "print(stack.empty())\n",
    "print(stack.pop())\n",
    "print(stack.empty())"
   ]
  },
  {
   "cell_type": "markdown",
   "id": "ac1e015c-717f-4e0a-afe7-c3f49091d29e",
   "metadata": {},
   "source": [
    "## Implementation of queue using two stacks \n"
   ]
  },
  {
   "cell_type": "code",
   "execution_count": null,
   "id": "2095c8c1-28cf-429f-9163-c8e60febb7e7",
   "metadata": {},
   "outputs": [],
   "source": [
    "class MyQueue:\n",
    "    def __init__(self):\n",
    "        self.stack1 = []\n",
    "        self.stack2 = []\n",
    "    \n",
    "    def push(self, x:int) -> None:\n",
    "        self.stack1.append(x)\n",
    "        \n",
    "    def pop(self) -> int :\n",
    "        if not self.stack1:\n",
    "            return -1\n",
    "        while len(self.stack1) >1:\n",
    "            self.stack2.append(self.stack1.pop())\n",
    "        our_num = self.stack1.pop()\n",
    "        while self.stack2:\n",
    "            self.stack1.append(self.stack2.pop())\n",
    "        return our_num\n",
    "    \n",
    "    def peek(self) -> int:\n",
    "        if not self.stack1:\n",
    "            return -1\n",
    "        return self.stack1[0]\n",
    "    \n",
    "    def empty(self) -> bool:\n",
    "        return len(self.stack1) == 0\n",
    "    \n",
    "\n",
    "# Example usage:\n",
    "queue = MyQueue()\n",
    "queue.push(1)\n",
    "queue.push(2)\n",
    "print(queue.peek())  # Output: 1\n",
    "print(queue.pop())   # Output: 1\n",
    "print(queue.empty()) # Output: False\n",
    "print(queue.pop())   # Output: 2\n",
    "print(queue.empty()) # Output: True"
   ]
  },
  {
   "cell_type": "markdown",
   "id": "0b54dd75-c571-49f8-ac35-7fad95f6dd78",
   "metadata": {},
   "source": [
    "### Chaining Implementation - to avoid the collisions inside the HashTable "
   ]
  },
  {
   "cell_type": "code",
   "execution_count": 56,
   "id": "60b38eb9-d0db-4166-bbd0-f6199af43501",
   "metadata": {},
   "outputs": [],
   "source": [
    "class HashTable:\n",
    "    def __init__(self):\n",
    "        # Size of hash table is 10\n",
    "        self.MAX = 10\n",
    "        # Initialize each bucket with an empty list for separate chaining\n",
    "        self.arr = [[] for _ in range(self.MAX)]\n",
    "\n",
    "    def hash_function(self, key):\n",
    "        summation = 0\n",
    "        for char in key:\n",
    "            summation += ord(char)\n",
    "        # Division modulo hash function\n",
    "        return summation % self.MAX\n",
    "\n",
    "    def __setitem__(self, key, value):\n",
    "        h = self.hash_function(key)\n",
    "        found = False\n",
    "        # Check if the key already exists in the bucket\n",
    "        for idx, element in enumerate(self.arr[h]):\n",
    "            if element[0] == key:\n",
    "                self.arr[h][idx] = (key, value)\n",
    "                found = True\n",
    "                break\n",
    "        # If key does not exist, append the new key-value pair\n",
    "        if not found:\n",
    "            self.arr[h].append((key, value))\n",
    "\n",
    "    def __getitem__(self, key):\n",
    "        h = self.hash_function(key)\n",
    "        # Search for the key in the bucket\n",
    "        for element in self.arr[h]:\n",
    "            if element[0] == key:\n",
    "                return element[1]\n",
    "        # If key is not found, raise KeyError\n",
    "        raise KeyError(f'Key {key} not found in hash table.')\n",
    "\n",
    "    def __delitem__(self, key):\n",
    "        h = self.hash_function(key)\n",
    "        # Search for the key in the bucket\n",
    "        for idx, element in enumerate(self.arr[h]):\n",
    "            if element[0] == key:\n",
    "                # If key is found, delete the key-value pair\n",
    "                del self.arr[h][idx]\n",
    "                return\n",
    "        # If key is not found, raise KeyError\n",
    "        raise KeyError(f'Key {key} not found in hash table.')\n",
    "\n",
    "    def __str__(self):\n",
    "        # For debugging: print the current state of the hash table\n",
    "        return str(self.arr)\n"
   ]
  },
  {
   "cell_type": "raw",
   "id": "d91bc5c8-0164-4f29-ba1c-caf4e6d8397c",
   "metadata": {},
   "source": [
    "## Collisions happen when march 6 and march 17 will br the key because the hash value of both of them is  9 only "
   ]
  },
  {
   "cell_type": "markdown",
   "id": "b4cef9c8-120c-4824-a177-507f332ddf47",
   "metadata": {},
   "source": [
    "###### here , we are not handling any collisions in hash table "
   ]
  },
  {
   "cell_type": "markdown",
   "id": "eb0d213d-2169-4b7a-a5d6-552f79420f6e",
   "metadata": {},
   "source": [
    "hash_function('march6')\n",
    "#### output = 9"
   ]
  },
  {
   "cell_type": "code",
   "execution_count": 57,
   "id": "deffc249-b79c-4dcc-9819-b6be0343e04f",
   "metadata": {},
   "outputs": [],
   "source": [
    "obj1['march 6'] = 20\n",
    "obj1['march 17'] = 27"
   ]
  },
  {
   "cell_type": "markdown",
   "id": "1fd943e8-a4e0-4642-8857-c8257256ecd9",
   "metadata": {},
   "source": [
    "- Observation : Data loss \n",
    "why ??\n",
    "- Because value will be observation if you will face collisions in the hashtable "
   ]
  },
  {
   "cell_type": "code",
   "execution_count": 58,
   "id": "1c35bda6-0e27-4ac3-96cf-b94a6010887c",
   "metadata": {},
   "outputs": [
    {
     "data": {
      "text/plain": [
       "27"
      ]
     },
     "execution_count": 58,
     "metadata": {},
     "output_type": "execute_result"
    }
   ],
   "source": [
    "\n",
    "obj1 ['march 6']"
   ]
  },
  {
   "cell_type": "code",
   "execution_count": 59,
   "id": "c6938966-5ce3-4aaa-a5d2-53b63512d0ca",
   "metadata": {},
   "outputs": [
    {
     "data": {
      "text/plain": [
       "[None, None, 678, None, None, None, None, None, None, 27]"
      ]
     },
     "execution_count": 59,
     "metadata": {},
     "output_type": "execute_result"
    }
   ],
   "source": [
    "obj1.arr"
   ]
  },
  {
   "cell_type": "markdown",
   "id": "3c52a0ca-443a-4923-8a5e-4ca845d009a2",
   "metadata": {},
   "source": [
    "##### Collisions happen when march 6 and march 17 will be the key because the hash value of both of them is 9 inly "
   ]
  },
  {
   "cell_type": "code",
   "execution_count": 60,
   "id": "5aeed84d-158c-4dc1-9ac4-3dae21959365",
   "metadata": {},
   "outputs": [
    {
     "data": {
      "text/plain": [
       "9"
      ]
     },
     "execution_count": 60,
     "metadata": {},
     "output_type": "execute_result"
    }
   ],
   "source": [
    "hash_function('march 6')"
   ]
  },
  {
   "cell_type": "code",
   "execution_count": 61,
   "id": "be1a55cf-de26-4c4d-96f9-c62619b5f728",
   "metadata": {},
   "outputs": [
    {
     "data": {
      "text/plain": [
       "9"
      ]
     },
     "execution_count": 61,
     "metadata": {},
     "output_type": "execute_result"
    }
   ],
   "source": [
    "hash_function('march 17')"
   ]
  },
  {
   "cell_type": "code",
   "execution_count": 62,
   "id": "4282ea2c-3c05-4bfa-9d02-9d0a830d047f",
   "metadata": {},
   "outputs": [],
   "source": [
    "obj2 = HashTable()\n",
    "obj2['march 6'] = 20 \n",
    "obj2['march 17'] = 27"
   ]
  },
  {
   "cell_type": "code",
   "execution_count": 63,
   "id": "ccddfff2-dd7a-425c-93a8-8aac59932483",
   "metadata": {},
   "outputs": [
    {
     "data": {
      "text/plain": [
       "20"
      ]
     },
     "execution_count": 63,
     "metadata": {},
     "output_type": "execute_result"
    }
   ],
   "source": [
    "obj2['march 6']\n",
    "## output = [('march 6' ,20),('march 17' , 27 )]"
   ]
  },
  {
   "cell_type": "code",
   "execution_count": 64,
   "id": "405848eb-a50e-4024-beae-1617f7ce792e",
   "metadata": {},
   "outputs": [
    {
     "data": {
      "text/plain": [
       "[[], [], [], [], [], [], [], [], [], [('march 6', 20), ('march 17', 27)]]"
      ]
     },
     "execution_count": 64,
     "metadata": {},
     "output_type": "execute_result"
    }
   ],
   "source": [
    "obj2.arr\n",
    "\n",
    "##output:-{[],[],[],[],[],[],[],[],[('march 6' ,20),('march 17' , 27 )]}"
   ]
  },
  {
   "cell_type": "code",
   "execution_count": 65,
   "id": "ef6e5a06-b92c-48a5-b1b9-6d8fc9d22b96",
   "metadata": {},
   "outputs": [
    {
     "data": {
      "text/plain": [
       "[[], [], [], [], [], [], [], [], [], [('march 6', 20), ('march 17', 27)]]"
      ]
     },
     "execution_count": 65,
     "metadata": {},
     "output_type": "execute_result"
    }
   ],
   "source": [
    "obj2.arr"
   ]
  },
  {
   "cell_type": "code",
   "execution_count": null,
   "id": "e4b627b9-352d-44ec-b0ce-1788b08c5859",
   "metadata": {},
   "outputs": [],
   "source": []
  }
 ],
 "metadata": {
  "kernelspec": {
   "display_name": "Python 3 (ipykernel)",
   "language": "python",
   "name": "python3"
  },
  "language_info": {
   "codemirror_mode": {
    "name": "ipython",
    "version": 3
   },
   "file_extension": ".py",
   "mimetype": "text/x-python",
   "name": "python",
   "nbconvert_exporter": "python",
   "pygments_lexer": "ipython3",
   "version": "3.10.8"
  }
 },
 "nbformat": 4,
 "nbformat_minor": 5
}

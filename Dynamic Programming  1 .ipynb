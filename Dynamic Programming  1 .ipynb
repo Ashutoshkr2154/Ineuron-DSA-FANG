{
 "cells": [
  {
   "cell_type": "markdown",
   "id": "2811503f-cdf8-45bf-9ecc-44aacbf950d3",
   "metadata": {},
   "source": [
    "## Fibonacci Series using Dynamic Programming "
   ]
  },
  {
   "cell_type": "markdown",
   "id": "7422e4b7-0ce5-44ce-9661-79a060b0944d",
   "metadata": {},
   "source": [
    "### Solve the fibonacci Series problem using recursion "
   ]
  },
  {
   "cell_type": "code",
   "execution_count": 1,
   "id": "04b7f2e1-23fa-4fd3-ba3e-98a888dbcba1",
   "metadata": {},
   "outputs": [
    {
     "data": {
      "text/plain": [
       "13"
      ]
     },
     "execution_count": 1,
     "metadata": {},
     "output_type": "execute_result"
    }
   ],
   "source": [
    "def fib(n):\n",
    "    ## Base case Condition \n",
    "    if n == 0 or n== 1:\n",
    "        return n \n",
    "    else:\n",
    "        result = fib(n-1) + fib(n-2)\n",
    "    return result\n",
    "\n",
    "## Drivers Code \n",
    "## function calling \n",
    "fib(7)"
   ]
  },
  {
   "cell_type": "code",
   "execution_count": 2,
   "id": "617cc5c7-f096-45b1-bec4-f936d79792e2",
   "metadata": {},
   "outputs": [],
   "source": [
    "##fib(50)"
   ]
  },
  {
   "cell_type": "markdown",
   "id": "338a6b93-d7d7-4103-b41c-cfe613e9d79c",
   "metadata": {},
   "source": [
    "Observations : Using recursion , we are getting an exponential time complexity and when value of n is small , it is giving us the result within few seconds but as the value of n is increasing , the time required to generate the results is too much."
   ]
  },
  {
   "cell_type": "markdown",
   "id": "417745b7-61d2-4fe3-bd9e-901338d1555a",
   "metadata": {},
   "source": [
    "#### Why it is taking too much time when n is quite high?\n",
    "\n",
    "- Overlapping subproblem - Recomputation of same subproblems again and again \n",
    "\n",
    "#### Solution :(overlapping subproblem)\n",
    "\n",
    "- Dynamic Problem\n",
    "- 1 . Memoization(Top Down Approach)\n",
    "- 2 . Tabulation(Bottom Up Approach)"
   ]
  },
  {
   "cell_type": "markdown",
   "id": "110e959d-cc62-4998-a3bf-827dff034276",
   "metadata": {},
   "source": [
    "### Memoization : \n",
    "Recursion but storing every recursive function call  solution in one data structure "
   ]
  },
  {
   "cell_type": "code",
   "execution_count": 3,
   "id": "109e440b-836b-445f-9f78-ec9353cee556",
   "metadata": {},
   "outputs": [],
   "source": [
    "## Method definition \n",
    "def fib_topDown(n , memo):\n",
    "    ## Storing the results of the function call \n",
    "    if memo[n] is not None:\n",
    "        return memo[n]\n",
    "    \n",
    "    ## base case conditon \n",
    "    if n == 0 or n == 1:\n",
    "        result = n \n",
    "    else:\n",
    "        result = fib_topDown(n-1 , memo) + fib_topDown(n-2 , memo)\n",
    "    memo[n] = result \n",
    "    return result \n",
    "def fib_memo(n):\n",
    "    ## Create a list to store the results of every function call \n",
    "    memo = [None] * (n+1)\n",
    "    ## Function Calling\n",
    "    return fib_topDown(n , memo)"
   ]
  },
  {
   "cell_type": "code",
   "execution_count": 4,
   "id": "9981a442-8a6e-418f-9400-0a6b1caa1694",
   "metadata": {},
   "outputs": [
    {
     "data": {
      "text/plain": [
       "13"
      ]
     },
     "execution_count": 4,
     "metadata": {},
     "output_type": "execute_result"
    }
   ],
   "source": [
    "fib_memo(7)"
   ]
  },
  {
   "cell_type": "code",
   "execution_count": 5,
   "id": "af88d636-8985-4f11-b6cb-41928a6380b6",
   "metadata": {},
   "outputs": [
    {
     "data": {
      "text/plain": [
       "12586269025"
      ]
     },
     "execution_count": 5,
     "metadata": {},
     "output_type": "execute_result"
    }
   ],
   "source": [
    "fib_memo(50)"
   ]
  },
  {
   "cell_type": "code",
   "execution_count": 6,
   "id": "fb31823f-c8ac-40e1-889d-0685a89d8430",
   "metadata": {},
   "outputs": [
    {
     "data": {
      "text/plain": [
       "354224848179261915075"
      ]
     },
     "execution_count": 6,
     "metadata": {},
     "output_type": "execute_result"
    }
   ],
   "source": [
    "fib_memo(100)"
   ]
  },
  {
   "cell_type": "code",
   "execution_count": 7,
   "id": "4b9ae063-9d34-42b2-842f-61fc8fc44a7d",
   "metadata": {},
   "outputs": [
    {
     "data": {
      "text/plain": [
       "43466557686937456435688527675040625802564660517371780402481729089536555417949051890403879840079255169295922593080322634775209689623239873322471161642996440906533187938298969649928516003704476137795166849228875"
      ]
     },
     "execution_count": 7,
     "metadata": {},
     "output_type": "execute_result"
    }
   ],
   "source": [
    "fib_memo(1000)"
   ]
  },
  {
   "cell_type": "code",
   "execution_count": 8,
   "id": "e4e98309-f949-45a4-88ba-9f72ca29d0d3",
   "metadata": {
    "collapsed": true,
    "jupyter": {
     "outputs_hidden": true
    },
    "tags": []
   },
   "outputs": [
    {
     "ename": "RecursionError",
     "evalue": "maximum recursion depth exceeded in comparison",
     "output_type": "error",
     "traceback": [
      "\u001b[0;31m---------------------------------------------------------------------------\u001b[0m",
      "\u001b[0;31mRecursionError\u001b[0m                            Traceback (most recent call last)",
      "Cell \u001b[0;32mIn[8], line 1\u001b[0m\n\u001b[0;32m----> 1\u001b[0m \u001b[43mfib_memo\u001b[49m\u001b[43m(\u001b[49m\u001b[38;5;241;43m10000\u001b[39;49m\u001b[43m)\u001b[49m\n",
      "Cell \u001b[0;32mIn[3], line 18\u001b[0m, in \u001b[0;36mfib_memo\u001b[0;34m(n)\u001b[0m\n\u001b[1;32m     16\u001b[0m memo \u001b[38;5;241m=\u001b[39m [\u001b[38;5;28;01mNone\u001b[39;00m] \u001b[38;5;241m*\u001b[39m (n\u001b[38;5;241m+\u001b[39m\u001b[38;5;241m1\u001b[39m)\n\u001b[1;32m     17\u001b[0m \u001b[38;5;66;03m## Function Calling\u001b[39;00m\n\u001b[0;32m---> 18\u001b[0m \u001b[38;5;28;01mreturn\u001b[39;00m \u001b[43mfib_topDown\u001b[49m\u001b[43m(\u001b[49m\u001b[43mn\u001b[49m\u001b[43m \u001b[49m\u001b[43m,\u001b[49m\u001b[43m \u001b[49m\u001b[43mmemo\u001b[49m\u001b[43m)\u001b[49m\n",
      "Cell \u001b[0;32mIn[3], line 11\u001b[0m, in \u001b[0;36mfib_topDown\u001b[0;34m(n, memo)\u001b[0m\n\u001b[1;32m      9\u001b[0m     result \u001b[38;5;241m=\u001b[39m n \n\u001b[1;32m     10\u001b[0m \u001b[38;5;28;01melse\u001b[39;00m:\n\u001b[0;32m---> 11\u001b[0m     result \u001b[38;5;241m=\u001b[39m \u001b[43mfib_topDown\u001b[49m\u001b[43m(\u001b[49m\u001b[43mn\u001b[49m\u001b[38;5;241;43m-\u001b[39;49m\u001b[38;5;241;43m1\u001b[39;49m\u001b[43m \u001b[49m\u001b[43m,\u001b[49m\u001b[43m \u001b[49m\u001b[43mmemo\u001b[49m\u001b[43m)\u001b[49m \u001b[38;5;241m+\u001b[39m fib_topDown(n\u001b[38;5;241m-\u001b[39m\u001b[38;5;241m2\u001b[39m , memo)\n\u001b[1;32m     12\u001b[0m memo[n] \u001b[38;5;241m=\u001b[39m result \n\u001b[1;32m     13\u001b[0m \u001b[38;5;28;01mreturn\u001b[39;00m result\n",
      "Cell \u001b[0;32mIn[3], line 11\u001b[0m, in \u001b[0;36mfib_topDown\u001b[0;34m(n, memo)\u001b[0m\n\u001b[1;32m      9\u001b[0m     result \u001b[38;5;241m=\u001b[39m n \n\u001b[1;32m     10\u001b[0m \u001b[38;5;28;01melse\u001b[39;00m:\n\u001b[0;32m---> 11\u001b[0m     result \u001b[38;5;241m=\u001b[39m \u001b[43mfib_topDown\u001b[49m\u001b[43m(\u001b[49m\u001b[43mn\u001b[49m\u001b[38;5;241;43m-\u001b[39;49m\u001b[38;5;241;43m1\u001b[39;49m\u001b[43m \u001b[49m\u001b[43m,\u001b[49m\u001b[43m \u001b[49m\u001b[43mmemo\u001b[49m\u001b[43m)\u001b[49m \u001b[38;5;241m+\u001b[39m fib_topDown(n\u001b[38;5;241m-\u001b[39m\u001b[38;5;241m2\u001b[39m , memo)\n\u001b[1;32m     12\u001b[0m memo[n] \u001b[38;5;241m=\u001b[39m result \n\u001b[1;32m     13\u001b[0m \u001b[38;5;28;01mreturn\u001b[39;00m result\n",
      "    \u001b[0;31m[... skipping similar frames: fib_topDown at line 11 (2968 times)]\u001b[0m\n",
      "Cell \u001b[0;32mIn[3], line 11\u001b[0m, in \u001b[0;36mfib_topDown\u001b[0;34m(n, memo)\u001b[0m\n\u001b[1;32m      9\u001b[0m     result \u001b[38;5;241m=\u001b[39m n \n\u001b[1;32m     10\u001b[0m \u001b[38;5;28;01melse\u001b[39;00m:\n\u001b[0;32m---> 11\u001b[0m     result \u001b[38;5;241m=\u001b[39m \u001b[43mfib_topDown\u001b[49m\u001b[43m(\u001b[49m\u001b[43mn\u001b[49m\u001b[38;5;241;43m-\u001b[39;49m\u001b[38;5;241;43m1\u001b[39;49m\u001b[43m \u001b[49m\u001b[43m,\u001b[49m\u001b[43m \u001b[49m\u001b[43mmemo\u001b[49m\u001b[43m)\u001b[49m \u001b[38;5;241m+\u001b[39m fib_topDown(n\u001b[38;5;241m-\u001b[39m\u001b[38;5;241m2\u001b[39m , memo)\n\u001b[1;32m     12\u001b[0m memo[n] \u001b[38;5;241m=\u001b[39m result \n\u001b[1;32m     13\u001b[0m \u001b[38;5;28;01mreturn\u001b[39;00m result\n",
      "Cell \u001b[0;32mIn[3], line 8\u001b[0m, in \u001b[0;36mfib_topDown\u001b[0;34m(n, memo)\u001b[0m\n\u001b[1;32m      5\u001b[0m     \u001b[38;5;28;01mreturn\u001b[39;00m memo[n]\n\u001b[1;32m      7\u001b[0m \u001b[38;5;66;03m## base case conditon \u001b[39;00m\n\u001b[0;32m----> 8\u001b[0m \u001b[38;5;28;01mif\u001b[39;00m \u001b[43mn\u001b[49m\u001b[43m \u001b[49m\u001b[38;5;241;43m==\u001b[39;49m\u001b[43m \u001b[49m\u001b[38;5;241;43m0\u001b[39;49m \u001b[38;5;129;01mor\u001b[39;00m n \u001b[38;5;241m==\u001b[39m \u001b[38;5;241m1\u001b[39m:\n\u001b[1;32m      9\u001b[0m     result \u001b[38;5;241m=\u001b[39m n \n\u001b[1;32m     10\u001b[0m \u001b[38;5;28;01melse\u001b[39;00m:\n",
      "\u001b[0;31mRecursionError\u001b[0m: maximum recursion depth exceeded in comparison"
     ]
    }
   ],
   "source": [
    "fib_memo(10000)"
   ]
  },
  {
   "cell_type": "markdown",
   "id": "d8d56fa5-0fa0-484f-969d-2a3076444d9f",
   "metadata": {},
   "source": [
    "## Tabultion :\n",
    "Get rid of the recursion itself"
   ]
  },
  {
   "cell_type": "markdown",
   "id": "362b1084-1eba-4084-840e-bb05b77bba74",
   "metadata": {},
   "source": [
    "- Time complexity :O(n)\n",
    "- Space Complexity : O(n)"
   ]
  },
  {
   "cell_type": "code",
   "execution_count": 9,
   "id": "8ed83bc2-1e08-4c9c-8cfb-eaf121f08078",
   "metadata": {},
   "outputs": [],
   "source": [
    "def fib_bottomUp(n):\n",
    "    bottomUp = [None] * (n+1)\n",
    "    bottomUp[0] = 0 \n",
    "    bottomUp[1] = 1 \n",
    "    ## No recursive function call\n",
    "    for i in range(2 , n+1):\n",
    "        bottomUp[i] = bottomUp[i-1] + bottomUp[i-2]\n",
    "    return bottomUp[n]"
   ]
  },
  {
   "cell_type": "code",
   "execution_count": 10,
   "id": "79db411d-8f43-42f4-9e41-14eb71cbff45",
   "metadata": {},
   "outputs": [
    {
     "data": {
      "text/plain": [
       "13"
      ]
     },
     "execution_count": 10,
     "metadata": {},
     "output_type": "execute_result"
    }
   ],
   "source": [
    "fib_bottomUp(7)"
   ]
  },
  {
   "cell_type": "code",
   "execution_count": 11,
   "id": "d75b4dde-75ce-4532-afa7-3abbcb4131ce",
   "metadata": {},
   "outputs": [
    {
     "data": {
      "text/plain": [
       "12586269025"
      ]
     },
     "execution_count": 11,
     "metadata": {},
     "output_type": "execute_result"
    }
   ],
   "source": [
    "fib_bottomUp(50)"
   ]
  },
  {
   "cell_type": "code",
   "execution_count": 12,
   "id": "f8a790e8-d0f0-427a-a0b5-99dba9233eb7",
   "metadata": {},
   "outputs": [
    {
     "data": {
      "text/plain": [
       "43466557686937456435688527675040625802564660517371780402481729089536555417949051890403879840079255169295922593080322634775209689623239873322471161642996440906533187938298969649928516003704476137795166849228875"
      ]
     },
     "execution_count": 12,
     "metadata": {},
     "output_type": "execute_result"
    }
   ],
   "source": [
    "fib_bottomUp(1000)"
   ]
  },
  {
   "cell_type": "code",
   "execution_count": 13,
   "id": "ac031960-eede-498e-b3d9-2982b84b6ceb",
   "metadata": {
    "collapsed": true,
    "jupyter": {
     "outputs_hidden": true
    },
    "tags": []
   },
   "outputs": [
    {
     "data": {
      "text/plain": [
       "33644764876431783266621612005107543310302148460680063906564769974680081442166662368155595513633734025582065332680836159373734790483865268263040892463056431887354544369559827491606602099884183933864652731300088830269235673613135117579297437854413752130520504347701602264758318906527890855154366159582987279682987510631200575428783453215515103870818298969791613127856265033195487140214287532698187962046936097879900350962302291026368131493195275630227837628441540360584402572114334961180023091208287046088923962328835461505776583271252546093591128203925285393434620904245248929403901706233888991085841065183173360437470737908552631764325733993712871937587746897479926305837065742830161637408969178426378624212835258112820516370298089332099905707920064367426202389783111470054074998459250360633560933883831923386783056136435351892133279732908133732642652633989763922723407882928177953580570993691049175470808931841056146322338217465637321248226383092103297701648054726243842374862411453093812206564914032751086643394517512161526545361333111314042436854805106765843493523836959653428071768775328348234345557366719731392746273629108210679280784718035329131176778924659089938635459327894523777674406192240337638674004021330343297496902028328145933418826817683893072003634795623117103101291953169794607632737589253530772552375943788434504067715555779056450443016640119462580972216729758615026968443146952034614932291105970676243268515992834709891284706740862008587135016260312071903172086094081298321581077282076353186624611278245537208532365305775956430072517744315051539600905168603220349163222640885248852433158051534849622434848299380905070483482449327453732624567755879089187190803662058009594743150052402532709746995318770724376825907419939632265984147498193609285223945039707165443156421328157688908058783183404917434556270520223564846495196112460268313970975069382648706613264507665074611512677522748621598642530711298441182622661057163515069260029861704945425047491378115154139941550671256271197133252763631939606902895650288268608362241082050562430701794976171121233066073310059947366875"
      ]
     },
     "execution_count": 13,
     "metadata": {},
     "output_type": "execute_result"
    }
   ],
   "source": [
    "fib_bottomUp(10000)"
   ]
  },
  {
   "cell_type": "markdown",
   "id": "fc504202-4b0a-4878-a08b-582ad814b1fd",
   "metadata": {},
   "source": [
    "### Space Complexity in tabulation approach is constant \n",
    "- Time complexity : O(n)\n",
    "- Space Complexity : O(1)"
   ]
  },
  {
   "cell_type": "markdown",
   "id": "4e529930-1dcb-4644-bfde-ba0ecd197353",
   "metadata": {},
   "source": [
    "## Highly Optimized solution of fibonacci Series Problem "
   ]
  },
  {
   "cell_type": "code",
   "execution_count": 14,
   "id": "aff873e8-4cdf-48a5-81cf-7f01afb069d6",
   "metadata": {},
   "outputs": [],
   "source": [
    "def fib(n):\n",
    "    first = 0 \n",
    "    second = 1 \n",
    "    for i in range(2 , n+1 ):\n",
    "        next = first + second \n",
    "        first , second = second , next \n",
    "    return next"
   ]
  },
  {
   "cell_type": "code",
   "execution_count": 15,
   "id": "c9952b5d-cf3d-48d5-bd36-df65851a128b",
   "metadata": {},
   "outputs": [
    {
     "data": {
      "text/plain": [
       "13"
      ]
     },
     "execution_count": 15,
     "metadata": {},
     "output_type": "execute_result"
    }
   ],
   "source": [
    "fib(7)"
   ]
  },
  {
   "cell_type": "code",
   "execution_count": 16,
   "id": "4ef40bf6-67fc-4c5a-9ada-6cc5c5a9219e",
   "metadata": {},
   "outputs": [
    {
     "data": {
      "text/plain": [
       "354224848179261915075"
      ]
     },
     "execution_count": 16,
     "metadata": {},
     "output_type": "execute_result"
    }
   ],
   "source": [
    "fib(100)"
   ]
  },
  {
   "cell_type": "code",
   "execution_count": 17,
   "id": "c63a413c-9da2-4bc6-9e7b-3dadfe819a02",
   "metadata": {
    "collapsed": true,
    "jupyter": {
     "outputs_hidden": true
    },
    "tags": []
   },
   "outputs": [
    {
     "data": {
      "text/plain": [
       "33644764876431783266621612005107543310302148460680063906564769974680081442166662368155595513633734025582065332680836159373734790483865268263040892463056431887354544369559827491606602099884183933864652731300088830269235673613135117579297437854413752130520504347701602264758318906527890855154366159582987279682987510631200575428783453215515103870818298969791613127856265033195487140214287532698187962046936097879900350962302291026368131493195275630227837628441540360584402572114334961180023091208287046088923962328835461505776583271252546093591128203925285393434620904245248929403901706233888991085841065183173360437470737908552631764325733993712871937587746897479926305837065742830161637408969178426378624212835258112820516370298089332099905707920064367426202389783111470054074998459250360633560933883831923386783056136435351892133279732908133732642652633989763922723407882928177953580570993691049175470808931841056146322338217465637321248226383092103297701648054726243842374862411453093812206564914032751086643394517512161526545361333111314042436854805106765843493523836959653428071768775328348234345557366719731392746273629108210679280784718035329131176778924659089938635459327894523777674406192240337638674004021330343297496902028328145933418826817683893072003634795623117103101291953169794607632737589253530772552375943788434504067715555779056450443016640119462580972216729758615026968443146952034614932291105970676243268515992834709891284706740862008587135016260312071903172086094081298321581077282076353186624611278245537208532365305775956430072517744315051539600905168603220349163222640885248852433158051534849622434848299380905070483482449327453732624567755879089187190803662058009594743150052402532709746995318770724376825907419939632265984147498193609285223945039707165443156421328157688908058783183404917434556270520223564846495196112460268313970975069382648706613264507665074611512677522748621598642530711298441182622661057163515069260029861704945425047491378115154139941550671256271197133252763631939606902895650288268608362241082050562430701794976171121233066073310059947366875"
      ]
     },
     "execution_count": 17,
     "metadata": {},
     "output_type": "execute_result"
    }
   ],
   "source": [
    "fib(10000)"
   ]
  },
  {
   "cell_type": "markdown",
   "id": "2e9f8d13-16f0-4de1-ac26-286b2732e7a1",
   "metadata": {},
   "source": [
    "## Tabulation:-"
   ]
  },
  {
   "cell_type": "markdown",
   "id": "b90c17d1-f212-4116-81e4-8344b5db89ab",
   "metadata": {},
   "source": [
    "##  Dynamic Programming implementation of LCS Problem "
   ]
  },
  {
   "cell_type": "markdown",
   "id": "2d3888b3-cf79-4e5a-8df5-51c93eb7405a",
   "metadata": {},
   "source": [
    "#### Time Complexity : O(m*n)\n",
    "#### Space Complexity : O(m*n)"
   ]
  },
  {
   "cell_type": "code",
   "execution_count": 18,
   "id": "1cdc026f-45c3-49b2-90bc-d8b51c98cb4b",
   "metadata": {},
   "outputs": [
    {
     "name": "stdout",
     "output_type": "stream",
     "text": [
      "The length of the LCS is 2\n"
     ]
    }
   ],
   "source": [
    "def lcs(X , Y ):\n",
    "    ## Find the length of the strings \n",
    "    m = len(X)\n",
    "    n=  len(Y)\n",
    "    \n",
    "    ## Declaring the array for storing the dp values \n",
    "    LCS_table= [[None]*(n+1) for i in range(m+1)]\n",
    "    \n",
    "    for i in range(m+1):\n",
    "        for j in range(n+1):\n",
    "            ## Base Condition \n",
    "            if i == 0 or j== 0 :\n",
    "                LCS_table[i][j] = 0\n",
    "            ## If there is a match of the characters in Strig1 and String2 \n",
    "            elif X[i-1] == Y[j-1]:\n",
    "                LCS_table[i][j] = LCS_table [i-1][j-1] + 1\n",
    "            else:\n",
    "                ## If there is no match of characters in String1 and String2 \n",
    "                LCS_table[i][j] = max(LCS_table[i-1][j] , LCS_table[i][j-1])\n",
    "                \n",
    "    return LCS_table[m][n]\n",
    "\n",
    "## Drivers Code \n",
    "string1 = \"BD\"\n",
    "string2 = \"ABCD\"\n",
    "\n",
    "## Function Call\n",
    "print(f\"The length of the LCS is {lcs(string1 , string2)}\")"
   ]
  },
  {
   "cell_type": "markdown",
   "id": "332f3e6c-1cf7-4f27-85c6-beb549789b9a",
   "metadata": {},
   "source": [
    "#### TASk to print the longest common subsequence\n"
   ]
  },
  {
   "cell_type": "code",
   "execution_count": 19,
   "id": "1e95186d-7663-4525-a658-34015dad8628",
   "metadata": {},
   "outputs": [
    {
     "name": "stdout",
     "output_type": "stream",
     "text": [
      "The length of the LCS is 2\n",
      "The LCS is BD\n"
     ]
    }
   ],
   "source": [
    "def lcs(X, Y):\n",
    "    ## Find the length of the strings \n",
    "    m = len(X)\n",
    "    n = len(Y)\n",
    "    \n",
    "    ## TASK to print the longest common subsequence\n",
    "    ## Declaring the array for storing the dp values \n",
    "    LCS_table = [[None]*(n+1) for i in range(m+1)]\n",
    "    \n",
    "    for i in range(m+1):\n",
    "        for j in range(n+1):\n",
    "            ## Base Condition \n",
    "            if i == 0 or j == 0:\n",
    "                LCS_table[i][j] = 0\n",
    "            ## If there is a match of the characters in String1 and String2 \n",
    "            elif X[i-1] == Y[j-1]:\n",
    "                LCS_table[i][j] = LCS_table[i-1][j-1] + 1\n",
    "            else:\n",
    "                ## If there is no match of characters in String1 and String2 \n",
    "                LCS_table[i][j] = max(LCS_table[i-1][j], LCS_table[i][j-1])\n",
    "    \n",
    "    ## Backtrack to find the LCS string\n",
    "    index = LCS_table[m][n]\n",
    "    lcs_str = [\"\"] * index  # Create a character array to store the lcs string\n",
    "    \n",
    "    # Start from the right-most-bottom-most corner and store characters in lcs_str\n",
    "    i = m\n",
    "    j = n\n",
    "    while i > 0 and j > 0:\n",
    "        # If current character in X and Y are same, then it is part of LCS\n",
    "        if X[i-1] == Y[j-1]:\n",
    "            lcs_str[index-1] = X[i-1]\n",
    "            i -= 1\n",
    "            j -= 1\n",
    "            index -= 1\n",
    "        # If not same, then find the larger of two and go in the direction of larger value\n",
    "        elif LCS_table[i-1][j] > LCS_table[i][j-1]:\n",
    "            i -= 1\n",
    "        else:\n",
    "            j -= 1\n",
    "\n",
    "    return \"\".join(lcs_str), LCS_table[m][n]\n",
    "\n",
    "## Driver's Code \n",
    "string1 = \"BD\"\n",
    "string2 = \"ABCD\"\n",
    "\n",
    "## Function Call\n",
    "lcs_string, lcs_length = lcs(string1, string2)\n",
    "print(f\"The length of the LCS is {lcs_length}\")\n",
    "print(f\"The LCS is {lcs_string}\")\n"
   ]
  },
  {
   "cell_type": "markdown",
   "id": "4b9f5dbe-b580-47b4-bc94-f07d3cda1e46",
   "metadata": {},
   "source": [
    "## Using Memoization ,knapsack Algorithm"
   ]
  },
  {
   "cell_type": "code",
   "execution_count": 3,
   "id": "c1cb2953-fb8f-4f11-9dd6-b3c41741c677",
   "metadata": {},
   "outputs": [
    {
     "name": "stdout",
     "output_type": "stream",
     "text": [
      "220\n"
     ]
    }
   ],
   "source": [
    "## Method Definition \n",
    "## We initialize the matrix with -1 at first \n",
    "W = 50\n",
    "n = 3\n",
    "t = [[-1 for i in range(W + 1)] for j in range(n + 1)]\n",
    "\n",
    "def knapsack(wt, val, W, n):\n",
    "    ## Base Condition\n",
    "    if n == 0 or W == 0:\n",
    "        return 0\n",
    "    \n",
    "    ## Memoization approach to avoid overlapping subproblems\n",
    "    if t[n][W] != -1:\n",
    "        return t[n][W]\n",
    "\n",
    "    ## Choice diagram code\n",
    "    if wt[n-1] <= W:\n",
    "        ## Two choices: Either we include the object or we skip the object\n",
    "        t[n][W] = max(\n",
    "            val[n-1] + knapsack(wt, val, W - wt[n-1], n - 1),\n",
    "            knapsack(wt, val, W, n - 1)\n",
    "        )\n",
    "    else:\n",
    "        ## Skip the object completely\n",
    "        t[n][W] = knapsack(wt, val, W, n - 1)\n",
    "    \n",
    "    return t[n][W]\n",
    "\n",
    "## Driver's Code \n",
    "## val is profit array \n",
    "## wt is weight array \n",
    "## W is the maximum capacity \n",
    "val = [60, 100, 120]\n",
    "wt = [10, 20, 30]\n",
    "W = 50 \n",
    "n = len(val)\n",
    "\n",
    "print(knapsack(wt, val, W, n))\n"
   ]
  },
  {
   "cell_type": "markdown",
   "id": "67346c09-7e00-444c-8d82-2160cde80932",
   "metadata": {},
   "source": [
    "## Using Tabulation Knapsack Algorithm ."
   ]
  },
  {
   "cell_type": "code",
   "execution_count": 1,
   "id": "49418014-e4b8-4be3-84ce-20a394c38442",
   "metadata": {},
   "outputs": [
    {
     "name": "stdout",
     "output_type": "stream",
     "text": [
      "220\n"
     ]
    }
   ],
   "source": [
    "## A Dynamic Programming based Python \n",
    "## Program for 0-1 knapsack problem \n",
    "## returns the maximum value that can \n",
    "## be put in a knapsack of capacity W\n",
    "\n",
    "def knapsack(W, wt, val, n):\n",
    "    # Create a 2D array to store the maximum value that can be obtained\n",
    "    K = [[0 for x in range(W+1)] for x in range(n+1)]\n",
    "    \n",
    "    # Build table K[][] in bottom-up manner\n",
    "    for i in range(n+1):\n",
    "        for w in range(W+1):\n",
    "            if i == 0 or w == 0:\n",
    "                K[i][w] = 0\n",
    "            elif wt[i-1] <= w:\n",
    "                K[i][w] = max(val[i-1] + K[i-1][w-wt[i-1]], K[i-1][w])\n",
    "            else:\n",
    "                K[i][w] = K[i-1][w]\n",
    "                \n",
    "    return K[n][W]\n",
    "\n",
    "## Driver's Code \n",
    "val = [60, 100, 120]\n",
    "wt = [10, 20, 30]\n",
    "W = 50\n",
    "n = len(val)\n",
    "print(knapsack(W, wt, val, n))"
   ]
  },
  {
   "cell_type": "code",
   "execution_count": 6,
   "id": "c6e3b789-545f-4ca9-84e8-9080e683eea2",
   "metadata": {},
   "outputs": [
    {
     "name": "stdout",
     "output_type": "stream",
     "text": [
      "Maximum profit in 0-1 kanpsack is  3\n"
     ]
    }
   ],
   "source": [
    "def knapsack(W , wt , val , n):\n",
    "    ## Create a 2D array K of size (n+1) x (w+1) to store the maximum value that can be achieved \n",
    "    ## With the first i item and a knapsack capacity of w .'\n",
    "    K= [[0 for x in range(w +1)] for x in range(n+1)]\n",
    "    \n",
    "    ## Build the table K[][] in a bottom-up manner \n",
    "    for i in range(n+1):\n",
    "        for w in range(W+1):\n",
    "            ## If there are no items or the knapsack capacity is 0 , the maximum value is 0\n",
    "            if i==0 or w == 0:\n",
    "                k[i][w] = 0 \n",
    "                \n",
    "            ## If the weight of the current item is less than or equal to the current capacity \n",
    "            elif wt[i-1] <= w:\n",
    "                ## Include the current item and check the maximum value with and without including it .\n",
    "                K[i][w] = max(val[i-1]+K[i-1][w -wt[i-1]],K[i-1][w])\n",
    "            else:\n",
    "                ## If the current item's weight is greater than the current capacity , do not include it \n",
    "                K[i][w] = K[i-1][w]\n",
    "                \n",
    "            ## Return the maximum value that can be put in a knapsack of capacity W \n",
    "            return k[n][w]\n",
    "    ## Return the maximum value that can be put in a knapsack of capacity w \n",
    "    return K[n][W]\n",
    "\n",
    "## Drivers Code \n",
    "val = [1 ,2 , 3]  ## Values of the items \n",
    "wt = [4 ,5 ,1]    ## Weights of the items \n",
    "w = 4             ## Capacity of the kanpsack\n",
    "n = len(val)      ## Number of items \n",
    "\n",
    "## Function call and printing the result \n",
    "print(\"Maximum profit in 0-1 kanpsack is \" , knapSack(W , wt , val , n))"
   ]
  },
  {
   "cell_type": "markdown",
   "id": "67a18ab2-ad29-4ff9-87b9-4f37ab2f202e",
   "metadata": {},
   "source": [
    "### Matrix Chain multiplication "
   ]
  },
  {
   "cell_type": "code",
   "execution_count": 1,
   "id": "7e8089a7-50e1-40db-ab9f-1cc0f392fbae",
   "metadata": {},
   "outputs": [
    {
     "name": "stdout",
     "output_type": "stream",
     "text": [
      "Minimum number of multiplication is  11\n"
     ]
    }
   ],
   "source": [
    "import sys \n",
    "\n",
    "## Matrix A[i] has dimension p[i-1] x p[i]\n",
    "## for i = 1..n\n",
    "def MatrixChainOrder(p , i , j):\n",
    "    ## BaseCase Condition \n",
    "    if i  == j:\n",
    "        return 0 \n",
    "    \n",
    "    minVal = sys.maxsize \n",
    "    ## Place parenthesis at different places \n",
    "    ## between first and last matrix \n",
    "    ## Recursively calculate count of multiplications \n",
    "    ## For each parenthesis placement \n",
    "    ## and return the minimum count \n",
    "\n",
    "    for k in range(i , j ):\n",
    "        ## recursive Call\n",
    "        count = (MatrixChainOrder(p , i , k)\n",
    "                + MatrixChainOrder(p , k+1 , j)\n",
    "                + p[i-1] * p[k] * p[j])\n",
    "\n",
    "        if count < minVal:\n",
    "            minVal = count \n",
    "\n",
    "    ## Return minimum Count \n",
    "    return minVal \n",
    "\n",
    "## Driver's Code \n",
    "if __name__ == \"__main__\":\n",
    "    arr = [1 ,3,  1, 2, 3]\n",
    "    N = len(arr)\n",
    "    \n",
    "    ## Function call\n",
    "    print(\"Minimum number of multiplication is \", MatrixChainOrder(arr , 1 , N-1))\n",
    "    "
   ]
  },
  {
   "cell_type": "markdown",
   "id": "026969a8-5922-4bf9-81f3-b44b6a94c913",
   "metadata": {},
   "source": [
    "### memoization approach matrix chain multiplication "
   ]
  },
  {
   "cell_type": "code",
   "execution_count": 6,
   "id": "39463279-f640-4830-9e85-42e81f2ae1ba",
   "metadata": {},
   "outputs": [
    {
     "name": "stdout",
     "output_type": "stream",
     "text": [
      "Minimum number of multiplications is: 11\n"
     ]
    }
   ],
   "source": [
    "import sys\n",
    "\n",
    "# Initialize dp array with -1\n",
    "dp = [[-1 for i in range(100)] for j in range(100)]\n",
    "\n",
    "# Function for matrix chain multiplication\n",
    "def matrixChainMemoised(p, i, j):\n",
    "    ## Base Case Condition \n",
    "    if i == j:\n",
    "        return 0\n",
    "    if dp[i][j] != -1:\n",
    "        return dp[i][j]\n",
    "    \n",
    "    dp[i][j] = sys.maxsize\n",
    "\n",
    "    for k in range(i, j):\n",
    "        dp[i][j] = min(dp[i][j], matrixChainMemoised(p, i, k) + matrixChainMemoised(p, k+1, j) + p[i-1] * p[k] * p[j])\n",
    "\n",
    "    return dp[i][j]\n",
    "\n",
    "# Driver Code\n",
    "def MatrixChainOrder(p, n):\n",
    "    i = 1\n",
    "    j = n - 1\n",
    "    return matrixChainMemoised(p, i, j)\n",
    "\n",
    "arr = [1, 3, 1, 2, 3]\n",
    "n = len(arr)\n",
    "print('Minimum number of multiplications is:', MatrixChainOrder(arr, n))\n"
   ]
  },
  {
   "cell_type": "markdown",
   "id": "7bc157b3-694f-43f8-9d7c-17be17f86519",
   "metadata": {},
   "source": [
    "### Tabulation approach for matrix chain multiplication "
   ]
  },
  {
   "cell_type": "code",
   "execution_count": 8,
   "id": "2338511f-029e-454d-8e9c-abf5736001ea",
   "metadata": {},
   "outputs": [
    {
     "name": "stdout",
     "output_type": "stream",
     "text": [
      "Minimum number of multiplications is: 11\n"
     ]
    }
   ],
   "source": [
    "import sys\n",
    "\n",
    "def MatrixChainOrder(p, n):\n",
    "    # Initialize the dp table with 0s\n",
    "    dp = [[0 for i in range(n)] for j in range(n)]\n",
    "\n",
    "    # l is the chain length\n",
    "    for l in range(2, n):\n",
    "        for i in range(1, n - l + 1):\n",
    "            j = i + l - 1\n",
    "            dp[i][j] = sys.maxsize\n",
    "            for k in range(i, j):\n",
    "                q = dp[i][k] + dp[k + 1][j] + p[i - 1] * p[k] * p[j]\n",
    "                if q < dp[i][j]:\n",
    "                    dp[i][j] = q\n",
    "\n",
    "    return dp[1][n - 1]\n",
    "\n",
    "# Driver Code\n",
    "arr = [1, 3, 1, 2, 3]\n",
    "n = len(arr)\n",
    "print('Minimum number of multiplications is:', MatrixChainOrder(arr, n))\n"
   ]
  },
  {
   "cell_type": "markdown",
   "id": "682dcffd-7c3c-46df-a7bc-f19ef4db8ac5",
   "metadata": {},
   "source": [
    "## Sum of subset "
   ]
  },
  {
   "cell_type": "code",
   "execution_count": 2,
   "id": "0c33246a-79c7-490b-b103-6aa49fdf18a7",
   "metadata": {},
   "outputs": [
    {
     "name": "stdout",
     "output_type": "stream",
     "text": [
      "Found a subset with given sum\n"
     ]
    }
   ],
   "source": [
    "## A recursive solution for sum problem \n",
    "## returns true if there is a subset \n",
    "## of set[ ] with sum equal to given sum\n",
    "def isSubsetSum(set , n , sum):\n",
    "    \n",
    "    ## Base Cases \n",
    "    if sum == 0 :\n",
    "        return True \n",
    "    if n ==0 :\n",
    "        return False \n",
    "    \n",
    "    ## If last element is greater than \n",
    "    ## sum , then ignore it \n",
    "    if set[n-1] > sum:\n",
    "        return isSubsetSum(set , n-1 , sum)\n",
    "    \n",
    "    ## Else , check if sum can be obtained \n",
    "    ## by any of the following \n",
    "    ## (a) including the last element \n",
    "    ## (b) excluding the last element \n",
    "    return isSubsetSum(set , n-1 , sum) or isSubsetSum(set ,n-1 , sum-set[n-1])\n",
    "\n",
    "## Drivers Code \n",
    "set = [3 , 34, 4 , 12, 5 , 2]\n",
    "sum = 9 \n",
    "n = len(set)\n",
    "\n",
    "## Function Calling \n",
    "if isSubsetSum(set , n , sum) == True:\n",
    "    print(\"Found a subset with given sum\")\n",
    "else:\n",
    "    print(\"No subset with given sum\")"
   ]
  },
  {
   "cell_type": "markdown",
   "id": "dd4c3742-761d-4b6b-a3b9-f6ba6493d80a",
   "metadata": {},
   "source": [
    "### SUM OF SUBSET - TABULATION \n"
   ]
  },
  {
   "cell_type": "code",
   "execution_count": 2,
   "id": "f2c339cf-3e1b-4a04-9ce7-a701e98328ea",
   "metadata": {},
   "outputs": [
    {
     "name": "stdout",
     "output_type": "stream",
     "text": [
      "Found a subset with given sum\n"
     ]
    }
   ],
   "source": [
    "def isSubsetSum(set, n, sum):\n",
    "    # Create a 2D array to store results of subproblems\n",
    "    subset = [[False for _ in range(sum + 1)] for _ in range(n + 1)]\n",
    "    \n",
    "    # If sum is 0, then answer is true\n",
    "    for i in range(n + 1):\n",
    "        subset[i][0] = True\n",
    "    \n",
    "    # Fill the subset table in bottom-up manner\n",
    "    for i in range(1, n + 1):\n",
    "        for j in range(1, sum + 1):\n",
    "            if j < set[i - 1]:\n",
    "                subset[i][j] = subset[i - 1][j]\n",
    "            else:\n",
    "                subset[i][j] = subset[i - 1][j] or subset[i - 1][j - set[i - 1]]\n",
    "    \n",
    "    # Uncomment the following code to print the table\n",
    "    # for i in range(n + 1):\n",
    "    #     for j in range(sum + 1):\n",
    "    #         print(subset[i][j], end=' ')\n",
    "    #     print()\n",
    "    \n",
    "    return subset[n][sum]\n",
    "\n",
    "# Driver code\n",
    "if __name__ == \"__main__\":\n",
    "    set = [3, 34, 4, 12, 5, 2]\n",
    "    sum = 9\n",
    "    n = len(set)\n",
    "    if isSubsetSum(set, n, sum):\n",
    "        print(\"Found a subset with given sum\")\n",
    "   \n"
   ]
  },
  {
   "cell_type": "code",
   "execution_count": null,
   "id": "b1936cdd-ec59-4298-a5e5-4723e20a308f",
   "metadata": {},
   "outputs": [],
   "source": []
  },
  {
   "cell_type": "code",
   "execution_count": null,
   "id": "b9878d29-da79-4871-b68b-b7ab620fcd2c",
   "metadata": {},
   "outputs": [],
   "source": []
  },
  {
   "cell_type": "code",
   "execution_count": null,
   "id": "b59820b2-6756-46f9-8cd9-12e827a706c1",
   "metadata": {},
   "outputs": [],
   "source": []
  },
  {
   "cell_type": "code",
   "execution_count": null,
   "id": "d977c636-9520-42b9-b97a-106552abca72",
   "metadata": {},
   "outputs": [],
   "source": []
  }
 ],
 "metadata": {
  "kernelspec": {
   "display_name": "Python 3 (ipykernel)",
   "language": "python",
   "name": "python3"
  },
  "language_info": {
   "codemirror_mode": {
    "name": "ipython",
    "version": 3
   },
   "file_extension": ".py",
   "mimetype": "text/x-python",
   "name": "python",
   "nbconvert_exporter": "python",
   "pygments_lexer": "ipython3",
   "version": "3.10.8"
  }
 },
 "nbformat": 4,
 "nbformat_minor": 5
}

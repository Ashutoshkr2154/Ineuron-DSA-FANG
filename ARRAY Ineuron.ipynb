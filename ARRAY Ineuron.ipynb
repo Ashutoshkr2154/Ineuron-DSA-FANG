{
 "cells": [
  {
   "cell_type": "markdown",
   "id": "ae2957c6-0228-45f7-b3ae-c9c1ccd7cf32",
   "metadata": {},
   "source": [
    "## Searching algorithm : \n",
    "### Linear Search : "
   ]
  },
  {
   "cell_type": "code",
   "execution_count": 1,
   "id": "22b50401-fa9a-49c2-ae47-dda8d8ba6006",
   "metadata": {},
   "outputs": [
    {
     "name": "stdout",
     "output_type": "stream",
     "text": [
      "Searching element is present at the index 5\n"
     ]
    }
   ],
   "source": [
    "## Function defination \n",
    "## Time complexity is O(n)\n",
    "## Space complexity O(1)\n",
    "def linearSearch(arr , x):\n",
    "    for i in range(len(arr)):\n",
    "        if arr[i]== x:\n",
    "            return i \n",
    "    return -1\n",
    "## Drivers code \n",
    "arr = [20 ,45 ,27 ,47 ,55,67 ,75, 88 ,90]\n",
    "x = 67\n",
    "## Function calling \n",
    "result = linearSearch(arr,x)\n",
    "print(\"Searching element is present at the index\",result)"
   ]
  },
  {
   "cell_type": "code",
   "execution_count": 2,
   "id": "caa9c4ad-81ce-4245-8dd4-520fc32b10ae",
   "metadata": {},
   "outputs": [
    {
     "name": "stdout",
     "output_type": "stream",
     "text": [
      "Searching element is present at the index  -1\n"
     ]
    }
   ],
   "source": [
    "## Function defination \n",
    "## Time complexity is O(n)\n",
    "## Space ComplexityO(1)\n",
    "def linearSearch(arr , x ):\n",
    "    for i in range(len(arr)):\n",
    "        if arr[i] == x:\n",
    "            return i\n",
    "    return -1\n",
    "\n",
    "## Drivers code \n",
    "arr = [20 ,45 ,27 ,47 ,55,67 ,75, 88 ,90]\n",
    "x = 65\n",
    "## Function calling \n",
    "result = linearSearch(arr , x )\n",
    "print(\"Searching element is present at the index \", result )"
   ]
  },
  {
   "cell_type": "markdown",
   "id": "39daa8c9-7057-416a-96f9-69e343551208",
   "metadata": {},
   "source": [
    "## Binary Search :"
   ]
  },
  {
   "cell_type": "markdown",
   "id": "9a91874e-367e-4f5b-8645-daa9eeee4db1",
   "metadata": {},
   "source": [
    "### Recursive approch "
   ]
  },
  {
   "cell_type": "code",
   "execution_count": 3,
   "id": "6a165564-7932-4ea4-a4cd-1e7ae64502f3",
   "metadata": {},
   "outputs": [
    {
     "name": "stdout",
     "output_type": "stream",
     "text": [
      "The searching element is present at loction  6\n"
     ]
    }
   ],
   "source": [
    "##Binary Search algorithm \n",
    "## Function defination \n",
    "\n",
    "def binarySearch(arr , x , i , j):\n",
    "    while  i <= j :\n",
    "        mid = i+(j-i)//2\n",
    "        if arr[mid]== x :\n",
    "            return mid \n",
    "        elif arr[mid ]< x :\n",
    "            ## Right side to the mid \n",
    "            ## Search space to the mid +1 to j\n",
    "            ## Recursion is used - Calling the same function inside method defination \n",
    "            return   binarySearch  (arr , x , mid+1 , j)\n",
    "        else :\n",
    "            return  binarySearch (arr , x , i , mid -1 )\n",
    "    ## The searching element is not present in an aray \n",
    "    reutrn -1\n",
    "\n",
    "##Drivers code \n",
    "\n",
    "arr = [20 ,30 , 40 , 50 ,60 ,70 ,80 ,90 ]\n",
    "x = 80 \n",
    "i = 0 \n",
    "j = len(arr)-1 \n",
    "## Function calling \n",
    "result =  binarySearch(arr , x , i , j )\n",
    "print(\"The searching element is present at loction \",result )"
   ]
  },
  {
   "cell_type": "markdown",
   "id": "0bce37c9-1cdf-45bd-8ddf-ebf7f6e9344a",
   "metadata": {},
   "source": [
    "### Binary Search: \n",
    " ### Iterative  approch "
   ]
  },
  {
   "cell_type": "code",
   "execution_count": 4,
   "id": "8fa04060-c2e8-478e-baa7-b47a6d6007af",
   "metadata": {},
   "outputs": [
    {
     "name": "stdout",
     "output_type": "stream",
     "text": [
      "The searching element is present at location  4\n"
     ]
    }
   ],
   "source": [
    "## Bianary Search Algorithm \n",
    "##  Function Defination \n",
    "def BinarySearch (arr , x, i , j):\n",
    "    while (i<= j ):\n",
    "        mid = i +(j-i)//2\n",
    "        if arr[mid] == x :\n",
    "            return mid \n",
    "        elif arr[mid] < x:\n",
    "            i = mid +1 \n",
    "        else : \n",
    "            j = mid -1\n",
    "    return -1 \n",
    "\n",
    "##Drivers Code \n",
    "arr = [20 ,30 , 40 ,50 ,60 ,70 ,80,90]\n",
    "x = 60 \n",
    "i = 0  \n",
    "j = len(arr)-1\n",
    "##Function calling \n",
    "result = binarySearch(arr ,x ,i , j  )\n",
    "print(\"The searching element is present at location \",result )"
   ]
  },
  {
   "cell_type": "markdown",
   "id": "46453cf7-0bb0-4bf2-9500-02cb4900ccd4",
   "metadata": {},
   "source": [
    "## Two pointer Approach "
   ]
  },
  {
   "cell_type": "code",
   "execution_count": 5,
   "id": "376c36d2-25e4-45d1-8a22-a2edf4f3abc7",
   "metadata": {},
   "outputs": [
    {
     "name": "stdout",
     "output_type": "stream",
     "text": [
      "(4, 5)\n"
     ]
    }
   ],
   "source": [
    "## Time complexity : O(n)\n",
    "## two Pointer approach \n",
    "def two_sum  (arr , target_sum):\n",
    "    left = 0 \n",
    "    right = len(arr)-1\n",
    "    while left < right :\n",
    "        if (arr[left]+ arr[right]== target_sum):\n",
    "            return left , right \n",
    "        elif (arr[left] + arr[right] <target_sum):\n",
    "            left +=1 \n",
    "        else:\n",
    "            right -= 1\n",
    "    return -1 ,-1 \n",
    "    \n",
    "## Drivers code \n",
    "arr =[20,40,60,80,90,120,240]\n",
    "target_sum = 210 \n",
    "result = two_sum (arr, target_sum)\n",
    "print(result)"
   ]
  },
  {
   "cell_type": "markdown",
   "id": "9e3ae5c7-1afe-46b9-80ba-14d391d0ba68",
   "metadata": {},
   "source": [
    "### Best  time to buy and sell the stocks \n"
   ]
  },
  {
   "cell_type": "code",
   "execution_count": 6,
   "id": "7fd64064-edbc-46ab-99a3-6ba557f19bae",
   "metadata": {},
   "outputs": [
    {
     "name": "stdout",
     "output_type": "stream",
     "text": [
      "The maximum profit of buying and selling the stock is  5\n"
     ]
    }
   ],
   "source": [
    "## Function defination \n",
    "## Time complexity: O(n)\n",
    "\n",
    "def findmaxProfit(price):\n",
    "    ## initialization \n",
    "    minPrice = float('inf')\n",
    "    maxProfit =0 \n",
    "    \n",
    "    for i in range(len(price)):\n",
    "        if price[i] < minPrice:\n",
    "            minPrice = price[i]\n",
    "        elif price[i] - minPrice > maxProfit:\n",
    "            maxProfit = price[i] - minPrice\n",
    "    return maxProfit\n",
    "\n",
    "## Drivers code \n",
    "price = [7,1,5,3,6,4]\n",
    "maxProfit_value = findmaxProfit(price)\n",
    "print(\"The maximum profit of buying and selling the stock is \" , maxProfit_value)"
   ]
  },
  {
   "cell_type": "markdown",
   "id": "e5a5e513-2fa6-42de-a032-666b7c3d47e2",
   "metadata": {},
   "source": [
    "## 2D  Array question\n",
    "here an sorted array is given and the last element of the each row is less than its next element value .\n",
    "Here we have to find the target value \n",
    "\n",
    "\n",
    "\n",
    "The approach of its answer is to :-\n",
    "- Finding the mid value first \n",
    "- first index of array = 0 \n",
    "- last index of the array = (m*n )-1\n",
    "- Then apply the binary search\n"
   ]
  },
  {
   "cell_type": "code",
   "execution_count": 7,
   "id": "edf77516-2fec-4f7c-af2b-a8d166b5aa15",
   "metadata": {},
   "outputs": [
    {
     "name": "stdout",
     "output_type": "stream",
     "text": [
      "True\n"
     ]
    }
   ],
   "source": [
    "## Function defination \n",
    "## Time complexity : log (m*n)\n",
    "def search2DArray(arr , target):\n",
    "    ## number of rows \n",
    "    m = len(arr)\n",
    "    if m == 0 :\n",
    "        return False \n",
    "    ## number of columns \n",
    "    n = len(arr[0])\n",
    "    left , right = 0 , m*n-1 \n",
    "    \n",
    "    ## Binary search implementation \n",
    "    ## Row_number -> mid//n\n",
    "    ## column_number -> mid%n\n",
    "    \n",
    "    while left <= right :\n",
    "        mid = left + (right - left) // 2\n",
    "        mid_element = arr[mid//n][mid%n]\n",
    "        if target == mid_element :\n",
    "            return True \n",
    "        elif target < mid_element :\n",
    "            right = mid -1\n",
    "        else :\n",
    "            left = mid +1 \n",
    "    return False        \n",
    "## Drivers code \n",
    "arr= [[1 , 3, 5, 7],[10,11,16,20],[23,30,34,60]]\n",
    "target =30\n",
    "result = search2DArray(arr ,target)\n",
    "print(result)"
   ]
  },
  {
   "cell_type": "markdown",
   "id": "64fe08e4-4698-4056-af16-c1d04264930e",
   "metadata": {},
   "source": [
    "## Ternary Search \n",
    "### Recursive approach "
   ]
  },
  {
   "cell_type": "code",
   "execution_count": 8,
   "id": "2ab46702-40f6-4384-be60-b92d6cdea45e",
   "metadata": {},
   "outputs": [
    {
     "name": "stdin",
     "output_type": "stream",
     "text": [
      "Enter the number to be found  82\n"
     ]
    },
    {
     "name": "stdout",
     "output_type": "stream",
     "text": [
      "8\n"
     ]
    }
   ],
   "source": [
    "##Function Defination \n",
    "def ternarySearch(arr , i , j , key):\n",
    "    # Compute the values of mid1 and mid2\n",
    "    mid1 = i+(j-i)//3\n",
    "    mid2 = j-(j-i)//3\n",
    "    while i<=j :\n",
    "        if arr[mid1] == key :\n",
    "            return mid1\n",
    "        elif arr[mid2] == key :\n",
    "            return mid2\n",
    "        \n",
    "        ## first part of the teranry Search \n",
    "        elif key < arr[mid1]:\n",
    "            ## Recursive call \n",
    "            return ternarySearch(arr, i , mid1 -1 , key)\n",
    "        \n",
    "        ## Third part of the ternary Search \n",
    "        elif key > arr[mid2]:\n",
    "            ## Reursive call \n",
    "            return ternarySearch(arr, mid2 + 1 ,j , key)\n",
    "        else:\n",
    "            ## Seacond part of the ternary Search \n",
    "            ## Reursive call \n",
    "            return ternarySearch(arr , mid1 +1 , mid2 -1  ,key)\n",
    "    ## If the searching element is not present in the array\n",
    "    return -1 \n",
    "##Drivers Code \n",
    "arr =[20,25,47,56,59,63,65,79, 82]\n",
    "i = 0 \n",
    "j = len(arr)-1 \n",
    "\n",
    "key =int(input (\"Enter the number to be found \"))\n",
    "## Function calling \n",
    "position = ternarySearch(arr,i , j ,key)\n",
    "print(position)"
   ]
  },
  {
   "cell_type": "code",
   "execution_count": 3,
   "id": "1a83ae2c-b89b-4072-a664-dd8a2577daf3",
   "metadata": {},
   "outputs": [
    {
     "name": "stdin",
     "output_type": "stream",
     "text": [
      "Enter the number to be found  63\n"
     ]
    },
    {
     "name": "stdout",
     "output_type": "stream",
     "text": [
      "5\n"
     ]
    }
   ],
   "source": [
    "## Function Defination \n",
    "def ternarySearch (arr , i , j , key):\n",
    "    while i<=j:\n",
    "        ## Computing the values of mid1 and mid2 \n",
    "        mid1 =i +(j-i)//3\n",
    "        mid2 =j -(j-i)//3\n",
    "        if arr[mid1]== key:\n",
    "            return mid1 \n",
    "        elif arr[mid2]== key:\n",
    "            return mid2 \n",
    "        elif arr[mid1]> key :\n",
    "            j= mid1 -1\n",
    "        elif arr[mid2] < key:\n",
    "            i= mid2 + 1\n",
    "        else :\n",
    "            i =  mid1 +1 \n",
    "            j = mid2 -1\n",
    "    return -1\n",
    "## Drivers code \n",
    "arr =[20,25,47,56,59,63,65,79, 82]\n",
    "i = 0 \n",
    "j = len(arr)-1 \n",
    "\n",
    "key = int (input (\"Enter the number to be found \"))\n",
    "position = ternarySearch(arr,i , j ,key)\n",
    "print(position)"
   ]
  },
  {
   "cell_type": "markdown",
   "id": "10217038-0b2b-489a-afb9-fa005892807f",
   "metadata": {},
   "source": [
    "## Bubble Sort"
   ]
  },
  {
   "cell_type": "code",
   "execution_count": 7,
   "id": "cf1a7c5d-65b2-458d-9eef-2466705ab0cb",
   "metadata": {},
   "outputs": [
    {
     "name": "stdout",
     "output_type": "stream",
     "text": [
      "Array after using bubble sort is : [20, 35, 47, 50, 60, 70]\n"
     ]
    }
   ],
   "source": [
    "## Method implementation \n",
    "#Time complexity : O(n2)\n",
    "def bubbleSort(arr):\n",
    "    n = len(arr)\n",
    "    for i in range(n):\n",
    "        for j in range (0 , n-i-1):\n",
    "            if arr[j] > arr[j+1]:\n",
    "                ## Swap of the elements \n",
    "                arr[j] , arr[j+1 ]= arr[j+1] ,arr[j]\n",
    "    return arr\n",
    "## Drivers Code \n",
    "arr = [70, 20, 50 ,60 ,35, 47]\n",
    "result = bubbleSort(arr)\n",
    "print(\"Array after using bubble sort is :\" , result )"
   ]
  },
  {
   "cell_type": "markdown",
   "id": "3d51f90e-113f-4e7d-a710-3c4d7e9d6722",
   "metadata": {},
   "source": [
    "## Selection sort "
   ]
  },
  {
   "cell_type": "code",
   "execution_count": 12,
   "id": "83ea803e-90af-472b-8784-ce2739cd4359",
   "metadata": {},
   "outputs": [
    {
     "name": "stdout",
     "output_type": "stream",
     "text": [
      "Sorted array after applying selection sort : [19, 23, 25, 48, 56, 70]\n"
     ]
    }
   ],
   "source": [
    "## Implementation of the selection sort \n",
    "### Method  Defination \n",
    "## Time complexity \n",
    "def selectionSort(arr):\n",
    "    n = len(arr)\n",
    "    for i in range(n):\n",
    "        min_idx = i \n",
    "        for j in range (i+1 , n ):\n",
    "            if arr[j] < arr[min_idx]:\n",
    "                min_idx = j \n",
    "        ## Swop happend after every pass \n",
    "        arr[i] , arr[min_idx] = arr[min_idx], arr[i]\n",
    "    return arr\n",
    "## Drivers code \n",
    "arr = [70 ,56,23,19,25,48]\n",
    "result = selectionSort(arr)\n",
    "print(\"Sorted array after applying selection sort :\" , result )"
   ]
  },
  {
   "cell_type": "markdown",
   "id": "1b6aa742-79bc-4b06-82dd-4aeb3d1c3176",
   "metadata": {},
   "source": [
    "## Insertion Sort "
   ]
  },
  {
   "cell_type": "code",
   "execution_count": 3,
   "id": "6878ac2f-e904-4744-9eb5-d95a1c5e9602",
   "metadata": {},
   "outputs": [
    {
     "name": "stdout",
     "output_type": "stream",
     "text": [
      "Sorted array after applying the insertion sort: [75, 90, 100, 95, 85, 80]\n"
     ]
    }
   ],
   "source": [
    "##  implementation of Insertion sort \n",
    "## Time complexity : O(n^2)\n",
    "def insertion_sort(arr):\n",
    "    for i in range(1 , len(arr)):\n",
    "        j = i-1 \n",
    "        key = arr[i]\n",
    "        \n",
    "        while j >= 0 and arr[j] > key:\n",
    "            arr[j+1] = arr[j]\n",
    "            j -=1\n",
    "        arr[j+1] = key \n",
    "        return arr \n",
    "    \n",
    "## Drivers Code\n",
    "arr = [75 , 90 ,100,95,85, 80 ]\n",
    "result = insertion_sort(arr)\n",
    "print(\"Sorted array after applying the insertion sort:\", result )"
   ]
  },
  {
   "cell_type": "markdown",
   "id": "bd78384f-3aeb-406f-a52e-34384b82394f",
   "metadata": {},
   "source": [
    "## Finding the maximum and minimium using Divide and Conquer Approach ."
   ]
  },
  {
   "cell_type": "code",
   "execution_count": 9,
   "id": "1c2f2234-42e1-4bee-bd47-2b50662a0b8d",
   "metadata": {},
   "outputs": [
    {
     "name": "stdout",
     "output_type": "stream",
     "text": [
      "Maximum and minimum vlaue in the array is  92 20\n"
     ]
    }
   ],
   "source": [
    "## Method Defination of MaxandMin function \n",
    "## Recurrence relation : T(n) = 2T(n/2)+c\n",
    "## Using master's theorem : T(n) = O(n)\n",
    "def findMaxandMin (arr , i , j ):\n",
    "    ## Small problem -c\n",
    "    ## single element condition .\n",
    "    if i == j :\n",
    "        max_val = arr[i]\n",
    "        min_val = arr[i]\n",
    "    ## two element condition \n",
    "    elif i == j -1 :\n",
    "        if arr[i] < arr[j]:\n",
    "            max_val = arr[j]\n",
    "            min_val = arr[i]\n",
    "        else:\n",
    "            max_val  = arr[i]\n",
    "            min_val = arr[j]\n",
    "    ## Big problem -> n>2 \n",
    "    else :\n",
    "        ## Divide and conquer approach \n",
    "        ## 1. Divide - c\n",
    "        mid = i+(j-i)//2\n",
    "        ## 2.Recursion -> Conquer -2T(n/2)\n",
    "        max_1 , min_1 = findMaxandMin(arr , i , mid )\n",
    "        max_2 , min_2 = findMaxandMin(arr  , mid+1 , j)\n",
    "        ## 3.Combine \n",
    "        ## TO find the final maxima - c\n",
    "        if max_1 < max_2:\n",
    "            max_val = max_2 \n",
    "        else:\n",
    "            max_val = max_1 \n",
    "        ## To find the final minima\n",
    "        if min_1 < min_2 :\n",
    "            min_val = min_1 \n",
    "        else:\n",
    "            min_val  = min_2\n",
    "    return max_val , min_val \n",
    "## Drivers code \n",
    "arr = [20,39,45,65,21,44,89,92]\n",
    "i = 0 \n",
    "## i indicates the starting index \n",
    "j  = len(arr) - 1\n",
    "## Fucntion calling \n",
    "max_val , min_val =  findMaxandMin(arr,i,j)\n",
    "print('Maximum and minimum vlaue in the array is ' , max_val , min_val )"
   ]
  },
  {
   "cell_type": "markdown",
   "id": "ea9e239b-d6fa-4b39-ac6c-f383273021d0",
   "metadata": {},
   "source": [
    "## Finding the power of an Element "
   ]
  },
  {
   "cell_type": "code",
   "execution_count": 15,
   "id": "9ca1f336-46fa-4de1-abc5-dba5ef52dbd3",
   "metadata": {},
   "outputs": [
    {
     "name": "stdout",
     "output_type": "stream",
     "text": [
      "The power of an element is : 131072\n"
     ]
    }
   ],
   "source": [
    "def findPowerOfElement(a, n):\n",
    "    ## Small problem \n",
    "    if n == 1:\n",
    "        return a\n",
    "    elif n == 0 :\n",
    "        return 1 \n",
    "    else :\n",
    "        ## Big problem \n",
    "        ##  Divide and Conquer approach \n",
    "        ## 1 . Divide \n",
    "        mid = n//2\n",
    "        ## 2.Conquer \n",
    "        b = findPowerOfElement(a , mid)\n",
    "        ## 3.Combine\n",
    "        result = b*b \n",
    "    if n%2 == 0:\n",
    "        return result \n",
    "    return result * a \n",
    "        \n",
    "## Drivers code \n",
    "a= 2 \n",
    "n = 17\n",
    "## Function calling \n",
    "result = findPowerOfElement(a,n)\n",
    "print(\"The power of an element is :\", result)"
   ]
  },
  {
   "cell_type": "markdown",
   "id": "c0a3636a-8f74-46cf-a6e6-ef0755852744",
   "metadata": {},
   "source": [
    "## Count Number of ways "
   ]
  },
  {
   "cell_type": "code",
   "execution_count": 3,
   "id": "c78b9890-9b4e-4786-9ab3-1c4d13da46d9",
   "metadata": {},
   "outputs": [
    {
     "name": "stdout",
     "output_type": "stream",
     "text": [
      "89\n"
     ]
    }
   ],
   "source": [
    "def possibilities(n):\n",
    "    if n== 2 :\n",
    "        return 2 \n",
    "    elif  n ==1 :\n",
    "        return 1 \n",
    "    else :\n",
    "        ## Recurssion \n",
    "        return possibilities(n-1) + possibilities(n-2)\n",
    "## Drivers Code \n",
    "n= 10\n",
    "result = possibilities(n)\n",
    "print(result)"
   ]
  },
  {
   "cell_type": "markdown",
   "id": "5220316a-31e6-42b2-8461-2b4f4f29210e",
   "metadata": {},
   "source": [
    "#### Q1. Checking of whether the points are collinear or not .\n",
    "##### Approach1 : if m1 == m2 , then the points are collinear , otherwise the points are non-collinear"
   ]
  },
  {
   "cell_type": "code",
   "execution_count": 4,
   "id": "39ca5d90-b80f-4e64-82c7-da3c44f652ca",
   "metadata": {},
   "outputs": [
    {
     "name": "stdout",
     "output_type": "stream",
     "text": [
      "Yes\n"
     ]
    }
   ],
   "source": [
    "def collinear_points (x1 , y1, x2 , y2 ,x3, y3):\n",
    "    \n",
    "    if ((y3 -y2)* (x2 -x1) == (y2 -y1)* (x3 -x2)):\n",
    "        print(\"Yes\")\n",
    "    else:\n",
    "        print(\"No\")\n",
    "## Drivers Code \n",
    "x1 ,x2 , x3 ,y1 ,y2, y3 = 1 ,1,1,6,0,9\n",
    "collinear_points(x1, y1, x2, y2 ,x3, y3)"
   ]
  },
  {
   "cell_type": "markdown",
   "id": "7da334e7-76d7-4a07-9975-ca9096ab1ce3",
   "metadata": {},
   "source": [
    "#### Approach2 : Area of the triangle and if area==0 , then the points are collinear , otherwise the points are non collinear ."
   ]
  },
  {
   "cell_type": "code",
   "execution_count": 7,
   "id": "2a085aae-a2be-408e-a85a-80c204ed2bd6",
   "metadata": {},
   "outputs": [
    {
     "name": "stdout",
     "output_type": "stream",
     "text": [
      "Yes\n"
     ]
    }
   ],
   "source": [
    "def collinear_points(x1 , y1 , x2 , y2, x3 , y3):\n",
    "    \n",
    "    area = 0.5*(x1 *(y1 -y2)+ x2*(y3- y1)+x3*(y1-y2))\n",
    "    if (area):\n",
    "        print(\"Yes\")\n",
    "    else:\n",
    "        print(\"No\")\n",
    "\n",
    "## Drivers Code \n",
    "x1 ,x2 ,x3 , y1, y2,y3 = 1,1,1,6 ,0,9\n",
    "collinear_points(x1, y1 , x2 , y2 ,x3,y3)"
   ]
  },
  {
   "cell_type": "markdown",
   "id": "0727afcb-a448-4b93-b5e1-18fd48c65cc4",
   "metadata": {},
   "source": [
    "3. An e-commerce site tracks the purchases made each day. The product that is purchased the most one day is the featured product for the following day. If there is a tie for the product purchased most frequently, those product names are ordered alphabetically ascending and the last name in the list is chosen. [Amazon]\n",
    "['yellowShirt', 'redHat', 'blackShirt', 'bluePants', 'redHat', 'pinkHat', 'blackShirt', 'yellowShirt', 'greenPants', 'greenPants', 'greenPants\"]\n",
    "\n",
    "\n",
    "\n",
    "- 'yellowShirt' - 2\n",
    "- 'redHat' - 2\n",
    "- 'blackShirt' - 2\n",
    "- 'bluePants' - 1\n",
    "- 'greenPants' - 3\n",
    "- 'pinkHat' - 1\n",
    "- Output - greenPants"
   ]
  },
  {
   "cell_type": "code",
   "execution_count": 15,
   "id": "c503c599-3bbd-4a68-a6f6-2e26b9c222ae",
   "metadata": {},
   "outputs": [
    {
     "name": "stdout",
     "output_type": "stream",
     "text": [
      "['blackShirt', 'blackShirt', 'bluePants', 'greenPants', 'greenPants', 'pinkHat', 'redHat', 'redHat', 'yellowShirt', 'yellowShirt']\n",
      "{'blackShirt': 2, 'bluePants': 1, 'greenPants': 2, 'pinkHat': 1, 'redHat': 2, 'yellowShirt': 2}\n",
      "yellowShirt\n"
     ]
    }
   ],
   "source": [
    "from collections import Counter \n",
    "products = ['yellowShirt', 'redHat', 'blackShirt', 'bluePants', 'redHat', 'pinkHat', 'blackShirt', 'yellowShirt', 'greenPants', 'greenPants']\n",
    "products.sort()\n",
    "print(products)\n",
    "## Dictonary \n",
    "products_count= dict(Counter(products))\n",
    "print(products_count)\n",
    "max =0 \n",
    "rqd_product = []\n",
    "for i in products_count:\n",
    "    if max < products_count[i]:\n",
    "        max = products_count[i]\n",
    "for key , value  in products_count.items():\n",
    "    if  max == value:\n",
    "        rqd_product.append(key)\n",
    "print(rqd_product[-1])\n",
    "    "
   ]
  },
  {
   "cell_type": "markdown",
   "id": "aa375709-1c74-407e-a7ca-7f1fc1a51721",
   "metadata": {},
   "source": [
    "## Question number 1\n",
    "\n",
    "1 .Given an integer array nums of length n and an integer target, find three integers in nums such that the sum is closest to the target. [Amazon]\n",
    "You need to return the sum of three integers.\n",
    "For example:arr = [-1, 2, 1, -4], target = 1\n",
    "Output: 2\n",
    "\n",
    "\n",
    "Explanation: [-1+2+1] = 2 (The sum that is closest to the target is 2"
   ]
  },
  {
   "cell_type": "code",
   "execution_count": 9,
   "id": "6dfe0f74-8ad1-4684-8c65-68e4e522bcde",
   "metadata": {},
   "outputs": [
    {
     "name": "stdout",
     "output_type": "stream",
     "text": [
      "2\n"
     ]
    }
   ],
   "source": [
    "def closest_sum(arr, target):\n",
    "    # Sorting the array to use the two-pointer approach\n",
    "    arr.sort()\n",
    "    \n",
    "    # Initializing the closest sum with a large number\n",
    "    closest_sum = float('inf')\n",
    "    \n",
    "    # Looping through the array with the first element of the triplet\n",
    "    for i in range(len(arr) - 2):\n",
    "        left = i + 1\n",
    "        right = len(arr) - 1\n",
    "        \n",
    "        # Using two pointers to find the closest sum for the current first element\n",
    "        while left < right:\n",
    "            current_sum = arr[i] + arr[left] + arr[right]\n",
    "            \n",
    "            # If the current sum is closer to the target, update the closest_sum\n",
    "            if abs(current_sum - target) < abs(closest_sum - target):\n",
    "                closest_sum = current_sum\n",
    "            \n",
    "            # Move the pointers based on the comparison with the target\n",
    "            if current_sum < target:\n",
    "                left += 1\n",
    "            elif current_sum > target:\n",
    "                right -= 1\n",
    "            else:\n",
    "                # If the current_sum is exactly equal to the target, return it\n",
    "                return current_sum\n",
    "    \n",
    "    return closest_sum\n",
    "\n",
    "# Example usage\n",
    "arr = [-1, 2, 1, -4]\n",
    "target = 1\n",
    "print(closest_sum(arr, target))  # Output: 2\n"
   ]
  },
  {
   "cell_type": "markdown",
   "id": "9d8b0332-91cc-416d-9c9f-d4ee6577995b",
   "metadata": {},
   "source": [
    "## K nearest Term\n",
    "Given an array of points where points[i] = [x, y] represents a point on the X-Y plane and an integer k, return the k closest points to the origin (e, 0).\n",
    "The distance between two points on the X-Y plane is the Euclidean distance (i.e., √(X1-X2)^2+(y1- У2)^2).\n",
    "You may return the answer in any order. The answer is guaranteed to be unique (except for the order that it is in ."
   ]
  },
  {
   "cell_type": "code",
   "execution_count": 8,
   "id": "580b7d45-d3c4-4195-ac21-511b609746ff",
   "metadata": {},
   "outputs": [
    {
     "name": "stdout",
     "output_type": "stream",
     "text": [
      "[(0, 1), (-2, 2)]\n"
     ]
    }
   ],
   "source": [
    "from heapq import heappush, heappop\n",
    "import math\n",
    "\n",
    "class Solution:\n",
    "    def kClosest(self, points: list[list[int]], k: int) -> list[list[int]]:\n",
    "        min_heap = []\n",
    "        for (x, y) in points:\n",
    "            distance = self.get_dist(x, y)\n",
    "            heappush(min_heap, (distance, (x, y)))\n",
    "        \n",
    "        result = []\n",
    "        for i in range(k):\n",
    "            result.append(heappop(min_heap)[1])\n",
    "        \n",
    "        return result\n",
    "\n",
    "    def get_dist(self, x, y):\n",
    "        return math.sqrt(x**2 + y**2)\n",
    "\n",
    "# Driver code\n",
    "if __name__ == \"__main__\":\n",
    "    points = [[1, 3], [-2, 2], [5, 8], [0, 1]]\n",
    "    k = 2\n",
    "    sol = Solution()\n",
    "    print(sol.kClosest(points, k))  # Output: [[0, 1], [-2, 2]]\n"
   ]
  },
  {
   "cell_type": "markdown",
   "id": "d1b0cd9e-dc80-4a17-889e-b938cbc95a3d",
   "metadata": {},
   "source": [
    "## Merge Sort"
   ]
  },
  {
   "cell_type": "markdown",
   "id": "1839f98a-afea-4646-b23f-ff3c909a1f21",
   "metadata": {},
   "source": [
    "##### Application of divide and conquer - Implementation of Divide and conquer\n"
   ]
  },
  {
   "cell_type": "code",
   "execution_count": 7,
   "id": "5ffda73e-5154-4c47-9af2-62bf970947c4",
   "metadata": {},
   "outputs": [
    {
     "name": "stdout",
     "output_type": "stream",
     "text": [
      "Sorted array after applying merge sort is: [13, 27, 50, 62, 65, 70, 80, 98]\n"
     ]
    }
   ],
   "source": [
    "def mergeProcedure(arr, i, mid, j):\n",
    "    # n1 -> number of elements in the left subarray (i to mid)\n",
    "    n1 = mid - i + 1\n",
    "    # n2 -> number of elements in the right subarray (mid+1 to j)\n",
    "    n2 = j - mid\n",
    "\n",
    "    # Initialization of left and right subarrays\n",
    "    leftSubarray = [0] * n1\n",
    "    rightSubarray = [0] * n2\n",
    "\n",
    "    # Copy the elements from the array to the subarrays\n",
    "    for m in range(n1):\n",
    "        leftSubarray[m] = arr[i + m]\n",
    "        \n",
    "    for n in range(n2):\n",
    "        rightSubarray[n] = arr[mid + 1 + n]\n",
    "\n",
    "    p = 0\n",
    "    q = 0\n",
    "    k = i\n",
    "\n",
    "    # Merge the subarrays back into arr[i..j]\n",
    "    while p < n1 and q < n2:\n",
    "        if leftSubarray[p] <= rightSubarray[q]:\n",
    "            arr[k] = leftSubarray[p]\n",
    "            p += 1\n",
    "        else:\n",
    "            arr[k] = rightSubarray[q]\n",
    "            q += 1\n",
    "        k += 1\n",
    "\n",
    "    # Copy the remaining elements of leftSubarray, if any\n",
    "    while p < n1:\n",
    "        arr[k] = leftSubarray[p]\n",
    "        p += 1\n",
    "        k += 1\n",
    "\n",
    "    # Copy the remaining elements of rightSubarray, if any\n",
    "    while q < n2:\n",
    "        arr[k] = rightSubarray[q]\n",
    "        q += 1\n",
    "        k += 1\n",
    "\n",
    "def mergeSort(arr, i, j):\n",
    "    if i < j:\n",
    "        # Divide\n",
    "        mid = i + (j - i) // 2\n",
    "\n",
    "        # Conquer\n",
    "        # Recursive call to sort the left subtree\n",
    "        mergeSort(arr, i, mid)\n",
    "        # Recursive call to sort the right subtree\n",
    "        mergeSort(arr, mid + 1, j)\n",
    "\n",
    "        # Combine by merging the sorted subarrays\n",
    "        mergeProcedure(arr, i, mid, j)\n",
    "    \n",
    "    return arr\n",
    "\n",
    "# Driver code\n",
    "arr = [50, 70, 65, 13, 80, 62, 98, 27]\n",
    "# Starting index\n",
    "i = 0\n",
    "# Ending index\n",
    "j = len(arr) - 1\n",
    "# Function calling\n",
    "result = mergeSort(arr, i, j)\n",
    "print(\"Sorted array after applying merge sort is:\", result)\n"
   ]
  },
  {
   "cell_type": "markdown",
   "id": "e550bc4e-575d-4173-9ba3-74d4a7ab3d8f",
   "metadata": {},
   "source": [
    "## Quick Sort \n",
    "#### Implementation of normal quick sort "
   ]
  },
  {
   "cell_type": "code",
   "execution_count": 4,
   "id": "66c2433f-6ce0-4e58-bc1a-dcbf538d50bf",
   "metadata": {},
   "outputs": [
    {
     "name": "stdout",
     "output_type": "stream",
     "text": [
      "[12, 15, 26, 29, 29, 46, 50, 67, 70, 100]\n"
     ]
    }
   ],
   "source": [
    "## Method defination of the partition \n",
    "def partition(arr , p , q):\n",
    "    pivot = arr[p]\n",
    "    i = p \n",
    "    for j in range(i+1 , q+1):\n",
    "        if arr[j] <= pivot :\n",
    "            i += 1 \n",
    "            ## swap between the values of arr[i] and arr[j]\n",
    "            arr[i] , arr[j] = arr[j] , arr[i]\n",
    "    ## final swap between the value of arr[i] and arr[p]\n",
    "    arr[i] ,arr[p] = arr[p] , arr[i]\n",
    "    return i \n",
    "## method definition  of Quick sort :\n",
    "def quickSort(arr , p , q):\n",
    "    if p < q :\n",
    "        ## Divide and Conquer Approach \n",
    "        ## 1. Divide \n",
    "        ## function calling for the partition method \n",
    "        mid = partition(arr , p ,q)\n",
    "        ## Recursive function call for the left subtree \n",
    "        quickSort (arr , p , mid-1)\n",
    "        ## Recursive function call for the right subtree\n",
    "        quickSort (arr , mid+1, q)\n",
    "    return arr         \n",
    "## Drivers Code \n",
    "arr = [50 , 70 , 29 , 67 ,12 , 15 ,46, 100 , 29 ,26]\n",
    "p = 0 \n",
    "q = len(arr) - 1 \n",
    "## Function calling \n",
    "result  = quickSort(arr , p ,q)\n",
    "print(result)"
   ]
  },
  {
   "cell_type": "markdown",
   "id": "412e5805-705e-485c-9413-55018c892a3e",
   "metadata": {},
   "source": [
    "### Time complexity :\n",
    "- 1 . Best or average case scenario : O(n logn )\n",
    "- 2 . Wrost case scanerio: O(n^2)\n",
    "### Space complexity : O(n)"
   ]
  },
  {
   "cell_type": "markdown",
   "id": "ed2d51de-6a39-4223-835e-1dee5aa786c1",
   "metadata": {},
   "source": [
    "#### Implementation of randomized quick sort "
   ]
  },
  {
   "cell_type": "code",
   "execution_count": 14,
   "id": "4ba5d974-720e-4a65-8859-85381205b4aa",
   "metadata": {},
   "outputs": [
    {
     "name": "stdout",
     "output_type": "stream",
     "text": [
      "[12, 15, 26, 29, 29, 46, 50, 67, 70, 100]\n"
     ]
    }
   ],
   "source": [
    "import random \n",
    "## Method defination of randomized Partition \n",
    "def randomizedPartition(arr , p , q ):\n",
    "    ## random pivot index \n",
    "    randomPivotIndex = random.randrange(p,q)\n",
    "    ## Swap the random index with the first index \n",
    "    arr[p] , arr[randomPivotIndex] = arr[randomPivotIndex], arr[p]\n",
    "    return partition(arr, p , q)\n",
    "\n",
    "## Method defination of the partition \n",
    "def randomizedPartition(arr , p , q):\n",
    "    pivot = arr[p]\n",
    "    i = p \n",
    "    for j in range(i+1 , q+1):\n",
    "        if arr[j] <= pivot :\n",
    "            i += 1 \n",
    "            ## swap between the values of arr[i] and arr[j]\n",
    "            arr[i] , arr[j] = arr[j] , arr[i]\n",
    "    ## final swap between the value of arr[i] and arr[p]\n",
    "    arr[i] ,arr[p] = arr[p] , arr[i]\n",
    "    return i \n",
    "## method definition  of Quick sort :\n",
    "def quickSort(arr , p , q):\n",
    "    if p < q :\n",
    "        ## Divide and Conquer Approach \n",
    "        ## 1. Divide \n",
    "        ## function calling for the partition method \n",
    "        mid = randomizedPartition(arr , p ,q)\n",
    "        ## Recursive function call for the left subtree \n",
    "        quickSort (arr , p , mid-1)\n",
    "        ## Recursive function call for the right subtree\n",
    "        quickSort (arr , mid+1, q)\n",
    "    return arr         \n",
    "## Drivers Code \n",
    "arr = [50 , 70 , 29 , 67 ,12 , 15 ,46, 100 , 29 ,26]\n",
    "p = 0 \n",
    "q = len(arr) - 1 \n",
    "## Function calling \n",
    "result  = quickSort(arr , p ,q)\n",
    "print(result)"
   ]
  },
  {
   "cell_type": "markdown",
   "id": "c4004225-127f-4344-80d9-a432cc7544d7",
   "metadata": {},
   "source": [
    "## kTH Smallest element \n",
    "by partition algorithm "
   ]
  },
  {
   "cell_type": "code",
   "execution_count": 17,
   "id": "b1d10486-986c-4353-84ac-fd46871415ba",
   "metadata": {},
   "outputs": [
    {
     "name": "stdout",
     "output_type": "stream",
     "text": [
      "The 6-th smallest element is: 46\n"
     ]
    }
   ],
   "source": [
    "def partition(nums, lb, ub):\n",
    "    # Fixing the pivot\n",
    "    pivot = nums[lb]\n",
    "    # Lower portion segmenting pointer\n",
    "    i = lb\n",
    "    for j in range(i + 1, ub + 1):\n",
    "        # If value at j-th position is less than or equal to pivot, then increment i by 1 and swap the values at i and j\n",
    "        if nums[j] <= pivot:\n",
    "            i += 1\n",
    "            nums[i], nums[j] = nums[j], nums[i]\n",
    "    # Final swap between the value of nums[i] and nums[lb]\n",
    "    nums[i], nums[lb] = nums[lb], nums[i]\n",
    "    return i\n",
    "\n",
    "def getKSmallest(nums, kSmallestIndex, lb, ub):\n",
    "    if lb <= ub:\n",
    "        pivot = partition(nums, lb, ub)\n",
    "        requiredIndex = kSmallestIndex - 1\n",
    "        # If the pivot index is equivalent to k-th smallest term, return the number at that index\n",
    "        if pivot == requiredIndex:\n",
    "            return nums[requiredIndex]\n",
    "        # If the pivot index is less than the required smallest index, search the larger side\n",
    "        elif pivot < requiredIndex:\n",
    "            return getKSmallest(nums, kSmallestIndex, pivot + 1, ub)\n",
    "        # If the pivot index is greater than the required smallest index, search the smaller side\n",
    "        else:\n",
    "            return getKSmallest(nums, kSmallestIndex, lb, pivot - 1)\n",
    "    return nums[kSmallestIndex - 1]\n",
    "\n",
    "# Example usage:\n",
    "nums = [50, 70, 29, 67, 12, 15, 46, 100, 26, 29]\n",
    "k = 6def partition(nums, lb, ub):\n",
    "    # Fixing the pivot\n",
    "    pivot = nums[lb]\n",
    "    # Lower portion segmenting pointer\n",
    "    i = lb\n",
    "    for j in range(i + 1, ub + 1):\n",
    "        # If value at j-th position is less than or equal to pivot, then increment i by 1 and swap the values at i and j\n",
    "        if nums[j] <= pivot:\n",
    "            i += 1\n",
    "            nums[i], nums[j] = nums[j], nums[i]\n",
    "    # Final swap between the value of nums[i] and nums[lb]\n",
    "    nums[i], nums[lb] = nums[lb], nums[i]\n",
    "    return i\n",
    "\n",
    "def getKSmallest(nums, kSmallestIndex, lb, ub):\n",
    "    if lb <= ub:\n",
    "        pivot = partition(nums, lb, ub)\n",
    "        requiredIndex = kSmallestIndex - 1\n",
    "        # If the pivot index is equivalent to k-th smallest term, return the number at that index\n",
    "        if pivot == requiredIndex:\n",
    "            return nums[requiredIndex]\n",
    "        # If the pivot index is less than the required smallest index, search the larger side\n",
    "        elif pivot < requiredIndex:\n",
    "            return getKSmallest(nums, kSmallestIndex, pivot + 1, ub)\n",
    "        # If the pivot index is greater than the required smallest index, search the smaller side\n",
    "        else:\n",
    "            return getKSmallest(nums, kSmallestIndex, lb, pivot - 1)\n",
    "    return nums[kSmallestIndex - 1]\n",
    "\n",
    "# Example usage:\n",
    "nums = [50, 70, 29, 67, 12, 15, 46, 100, 26, 29]\n",
    "k = 3  # For example, finding the 3rd smallest element\n",
    "lb = 0\n",
    "ub = len(nums) - 1\n",
    "\n",
    "# Function calling\n",
    "result = getKSmallest(nums, k, lb, ub)\n",
    "print(f\"The {k}-th smallest element is: {result}\")\n",
    "\n",
    "lb = 0\n",
    "ub = len(nums) - 1\n",
    "\n",
    "# Function calling\n",
    "result = getKSmallest(nums, k, lb, ub)\n",
    "print(f\"The {k}-th smallest element is: {result}\")\n"
   ]
  },
  {
   "cell_type": "markdown",
   "id": "bcf0eb5f-6a2d-424b-82f7-7c7e707e85c2",
   "metadata": {},
   "source": [
    "## kTH Largest element "
   ]
  },
  {
   "cell_type": "code",
   "execution_count": 6,
   "id": "336306e0-b989-4816-b6c3-8a5e652730cc",
   "metadata": {},
   "outputs": [
    {
     "name": "stdout",
     "output_type": "stream",
     "text": [
      "The 2-th largest element is : 89\n"
     ]
    }
   ],
   "source": [
    "import random \n",
    "def partition(nums , lb , ub ):\n",
    "    pivot = nums[lb]\n",
    "    i = lb \n",
    "    for j in range(i+ 1 , ub +1 ):\n",
    "        if nums[j] >=pivot:\n",
    "            i+= 1\n",
    "            nums[i] , nums[j] = nums[j] , nums[i]\n",
    "    nums[i] , nums[lb] = nums[lb] , nums[i]\n",
    "    return i \n",
    "\n",
    "def randomizedPartition(nums  , lb  , ub):\n",
    "    randomPivotIndex = random.randrange(lb , ub+1 )\n",
    "    nums[lb] , nums[randomPivotIndex] = nums[randomPivotIndex] , nums[lb]\n",
    "    return partition(nums , lb , ub)\n",
    "def getKthLargest(nums , KLargestIndex , lb , ub ):\n",
    "    if lb <= ub :\n",
    "        pivot = randomizedPartition(nums , lb , ub )\n",
    "        requiredIndex = KLargestIndex - 1\n",
    "        if pivot == requiredIndex :\n",
    "            return nums[requiredIndex]\n",
    "        elif pivot < requiredIndex:\n",
    "            return getKthLargest(nums , KLargestIndex , pivot+1 , ub )\n",
    "        else:\n",
    "            return getKthLargest(nums , KLargestIndex , lb ,pivot -1 )\n",
    "    return nums[KLargestIndex - 1]\n",
    "\n",
    "## Example usage :\n",
    "nums = [40 , 25,68, 79, 52, 66 ,89 , 97 ]\n",
    "k = 2 \n",
    "lb = 0 \n",
    "ub = len(nums) - 1 \n",
    "\n",
    "## Function calling \n",
    "result = getKthLargest(nums , k , lb , ub )\n",
    "print(f\"The {k}-th largest element is : {result}\")"
   ]
  },
  {
   "cell_type": "markdown",
   "id": "823f10dd-d1ec-4e8f-a9b0-4d4ae35e7c70",
   "metadata": {},
   "source": [
    "# Sort Colors \n",
    "#### Two Pointers approach "
   ]
  },
  {
   "cell_type": "code",
   "execution_count": 10,
   "id": "3020423f-17a3-4dc7-b3cd-f8819a40e3bc",
   "metadata": {},
   "outputs": [
    {
     "name": "stdout",
     "output_type": "stream",
     "text": [
      "[0, 0, 1, 1, 2, 2]\n"
     ]
    }
   ],
   "source": [
    "##Approch 1 :Count Sort TC = O(n) ,Sc =O(1)\n",
    "## Approach 2 : Two pointers Approach TC =O(n) , sc +O(1)\n",
    "## Method Definition \n",
    "def sortColors(nums):\n",
    "    p0 = curr = 0 \n",
    "    p2 = len(nums)-1\n",
    "    while curr <= p2 :\n",
    "        if nums[curr] == 0 :\n",
    "            nums[p0], nums[curr] = nums[curr] , nums[p0] \n",
    "            p0 += 1\n",
    "            curr += 1\n",
    "        if nums[curr] ==2:\n",
    "            nums[p2] , nums[curr] = nums[curr] , nums[p2]\n",
    "            p2 -= 1\n",
    "            \n",
    "        else:\n",
    "            curr += 1\n",
    "    return nums\n",
    "## Drivers Code \n",
    "#nums = [2, 0, 2,1,1,0 ]\n",
    "nums = [2,1,1, 0,2,0]\n",
    "result = sortColors(nums)\n",
    "print(result)"
   ]
  },
  {
   "cell_type": "code",
   "execution_count": 12,
   "id": "6d68c26f-0eec-47d0-94ff-ac4941eed88e",
   "metadata": {},
   "outputs": [
    {
     "name": "stdout",
     "output_type": "stream",
     "text": [
      "[0, 0, 0, 1, 1, 1, 1, 2, 2, 2, 2]\n"
     ]
    }
   ],
   "source": [
    "## Approach 1 : Count Sort aapproach \n",
    "def sortColors(nums):\n",
    "    ## Initialize count of each color \n",
    "    count = [0] *3\n",
    "    \n",
    "    for num in nums :\n",
    "        count[num] += 1\n",
    "        \n",
    "    ## overwrite the array with the correct number of each color \n",
    "    index = 0 \n",
    "    for color in range(3):\n",
    "        for i in range (count [color]):\n",
    "            nums[index] = color \n",
    "            index += 1\n",
    "    return nums \n",
    "## Drivers Code \n",
    "nums = [2, 0,2,0,2,2,1,1,0,1,1]\n",
    "## nums = [2, 0,2,0,1,1]\n",
    "result = sortColors(nums)\n",
    "print(result)"
   ]
  },
  {
   "cell_type": "markdown",
   "id": "6e9a787a-e713-48e6-84c8-9e61b211b6df",
   "metadata": {},
   "source": [
    "## Majority Element "
   ]
  },
  {
   "cell_type": "markdown",
   "id": "1018f883-a2aa-4e57-9f28-2a33363043ce",
   "metadata": {},
   "source": [
    "Given array nums of size n , return the majority element present in the array \n",
    "Assume that the majority element always exists in an array . \n",
    "For Example :\n",
    "Nums = [2,2,1,1,1,2,2]\n",
    "Output:2 "
   ]
  },
  {
   "cell_type": "markdown",
   "id": "7d829b05-2125-42ae-8691-bb48fd1ae4f6",
   "metadata": {},
   "source": [
    "## Majority Element\n",
    "Approach 1 : Hash Table \n"
   ]
  },
  {
   "cell_type": "code",
   "execution_count": 13,
   "id": "f29e6d11-a4c1-4543-a700-b16def67030b",
   "metadata": {},
   "outputs": [
    {
     "name": "stdout",
     "output_type": "stream",
     "text": [
      "Counter({2: 4, 1: 3})\n",
      "Majority element in an array is  2\n"
     ]
    }
   ],
   "source": [
    "## Majority Element \n",
    "## Method defination \n",
    "## Dictionary -> {}\n",
    "## list -> []\n",
    "## Time complexity is O(n)\n",
    "## Space Complexity is O(n)\n",
    "from collections import Counter \n",
    "def majorityElement (nums):\n",
    "    counts  =Counter(nums)\n",
    "    print(counts)\n",
    "    return max(counts.keys() , key = counts.get)\n",
    "## Drivers Code \n",
    "nums = [2, 2, 1, 1,1, 2, 2]\n",
    "result  = majorityElement(nums)\n",
    "print(\"Majority element in an array is \" , result )"
   ]
  },
  {
   "cell_type": "markdown",
   "id": "887492a9-3563-4d0f-9c5b-3468b53daf1d",
   "metadata": {},
   "source": [
    "##### Approch 2 :-> Boyer -Moore Voting Algotihms"
   ]
  },
  {
   "cell_type": "code",
   "execution_count": 10,
   "id": "032004bb-f929-43d8-8edf-5b3c01b0a377",
   "metadata": {},
   "outputs": [
    {
     "name": "stdout",
     "output_type": "stream",
     "text": [
      "No Majority element exists in an array \n"
     ]
    }
   ],
   "source": [
    "## Method definition of findCandidate \n",
    "def findCandidate(nums):\n",
    "    candidate = None \n",
    "    count = 0 \n",
    "    for num in nums :\n",
    "        if count == 0 :\n",
    "            candidate = num \n",
    "        count += (1 if num == candidate else -1 )\n",
    "    return candidate \n",
    "\n",
    "## Method defiation of isMajorityElement \n",
    "def isMajorityElement(nums , candidate):\n",
    "    cnt = 0 \n",
    "    size = len(nums)\n",
    "    for i in range(size):\n",
    "        if nums[i] == candidate:\n",
    "            cnt += 1\n",
    "    if cnt > size/2 :\n",
    "        return  1\n",
    "    else :\n",
    "        return 0 \n",
    "## Method definition of printMajorityElement \n",
    "def printMajorityElement(nums):\n",
    "    cand = findCandidate(nums)\n",
    "    if isMajorityElement(nums , cand ):\n",
    "        print(\"Majority element is \" , cand)\n",
    "    else :\n",
    "        print(\"No Majority element exists in an array \")\n",
    "## Drivers code\n",
    "##nums =[2, 2, 1,1,1,2,2]\n",
    "nums =[2,1,1,1,2,2]\n",
    "printMajorityElement(nums)\n"
   ]
  },
  {
   "cell_type": "code",
   "execution_count": 15,
   "id": "990fb7c8-47b3-4858-8ce2-beaf961f9f69",
   "metadata": {},
   "outputs": [
    {
     "name": "stdout",
     "output_type": "stream",
     "text": [
      "Majority element in an arary is  2\n"
     ]
    }
   ],
   "source": [
    "## Approch 2 :-> Boyer -Moore Voting Algotihms\n",
    "## Time complexity -> O(n)\n",
    "## Space complexity -> O(1)\n",
    "\n",
    "def majorityElement(nums):\n",
    "    count = 0 \n",
    "    candidate = None\n",
    "    \n",
    "    ## Phase 1 : Find a candidate for the majority element\n",
    "    for num in nums :\n",
    "        if count == 0 :\n",
    "            candidate = num \n",
    "        count += (1 if num == candidate else -1 )\\\n",
    "    ## Phase 2 : Verify the candidate \n",
    "        count= 0\n",
    "        for num in nums :\n",
    "            if num == candidate : \n",
    "                count += 1\n",
    "         \n",
    "        if count  > len(nums) // 2:\n",
    "            return candidate \n",
    "        else :\n",
    "            return None\n",
    "\n",
    "## Drivers Code \n",
    "nums = [2,2,1,1,1,2,2]\n",
    "result = majorityElement(nums)\n",
    "print(\"Majority element in an arary is \" ,result )"
   ]
  },
  {
   "cell_type": "markdown",
   "id": "d0c5610a-efbc-4577-961a-42627488cad5",
   "metadata": {},
   "source": [
    "## Peak element "
   ]
  },
  {
   "cell_type": "markdown",
   "id": "41906ce6-70e5-4edc-a86f-bc8cfc5fd38e",
   "metadata": {},
   "source": [
    "The peak element is the element that is strictly greater than its neighbours , if an array contains multiple peak elements , return the index of any of the peak elements .For example :[1,2,3,1]\n",
    "\n",
    "\n",
    "output :- 2 "
   ]
  },
  {
   "cell_type": "code",
   "execution_count": 3,
   "id": "143b1601-fafb-426d-be8b-11bdbd55466a",
   "metadata": {},
   "outputs": [
    {
     "name": "stdout",
     "output_type": "stream",
     "text": [
      "peak Element in an array is  2\n"
     ]
    }
   ],
   "source": [
    "## Problem : Finding of peak element in an array \n",
    "## Approach : Modified Binary Search \n",
    "## Method Definition \n",
    "## Time complexity is O(log N )\n",
    "\n",
    "def findpeakElement(nums):\n",
    "    start , end  = 0 , len(nums)-1 \n",
    "    \n",
    "    if nums[0]  > nums[1]:\n",
    "        return 0 \n",
    "    \n",
    "    if nums [-1] > nums[-2]:\n",
    "        return len(nums) -1\n",
    "    ## Modified type of binary search \n",
    "    while start < end :\n",
    "        mid = start +(end -start )//2\n",
    "        \n",
    "        if nums[mid] > nums[mid + 1]:\n",
    "            end = mid \n",
    "        else :\n",
    "            start = mid +1 \n",
    "    return end \n",
    "## Driveres Code \n",
    "## nums = [1, 2, 1, 3 ,5, 6 ,4]\n",
    "nums = [1 ,2, 4, 3]\n",
    "result = findpeakElement(nums)\n",
    "print(\"peak Element in an array is \" , result )"
   ]
  },
  {
   "cell_type": "code",
   "execution_count": null,
   "id": "3ef31a8b-453f-42c2-a041-9e3e804ba900",
   "metadata": {},
   "outputs": [],
   "source": []
  }
 ],
 "metadata": {
  "kernelspec": {
   "display_name": "Python 3 (ipykernel)",
   "language": "python",
   "name": "python3"
  },
  "language_info": {
   "codemirror_mode": {
    "name": "ipython",
    "version": 3
   },
   "file_extension": ".py",
   "mimetype": "text/x-python",
   "name": "python",
   "nbconvert_exporter": "python",
   "pygments_lexer": "ipython3",
   "version": "3.10.8"
  }
 },
 "nbformat": 4,
 "nbformat_minor": 5
}

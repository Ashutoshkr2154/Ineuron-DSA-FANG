{
 "cells": [
  {
   "cell_type": "markdown",
   "id": "f8d64bc9-9e56-4384-8fde-e5126d39cea1",
   "metadata": {},
   "source": [
    "### Implementation of stack using list(Dynamic List)"
   ]
  },
  {
   "cell_type": "code",
   "execution_count": 1,
   "id": "d7cab924-1bce-477c-81f5-54e01f99cc62",
   "metadata": {},
   "outputs": [],
   "source": [
    "stack =[]\n",
    "stack.append('ABC')\n",
    "stack.append('DEF')\n",
    "stack.append('GHI')\n",
    "stack.append('JKL')"
   ]
  },
  {
   "cell_type": "code",
   "execution_count": 2,
   "id": "3ee9a294-bb81-4b54-a6ce-a9debb2e8211",
   "metadata": {},
   "outputs": [
    {
     "data": {
      "text/plain": [
       "'JKL'"
      ]
     },
     "execution_count": 2,
     "metadata": {},
     "output_type": "execute_result"
    }
   ],
   "source": [
    "stack.pop()"
   ]
  },
  {
   "cell_type": "code",
   "execution_count": 3,
   "id": "eea041b8-d525-49f4-8b7e-c421da19fb1d",
   "metadata": {},
   "outputs": [
    {
     "data": {
      "text/plain": [
       "['ABC', 'DEF', 'GHI']"
      ]
     },
     "execution_count": 3,
     "metadata": {},
     "output_type": "execute_result"
    }
   ],
   "source": [
    "stack "
   ]
  },
  {
   "cell_type": "markdown",
   "id": "0c041a2e-d0ed-41a2-8c08-b53ea976e5fa",
   "metadata": {},
   "source": [
    "## Implementation of stack using deque"
   ]
  },
  {
   "cell_type": "code",
   "execution_count": 4,
   "id": "fa2d279f-0123-463a-acae-6cc78742ccb8",
   "metadata": {},
   "outputs": [],
   "source": [
    "from collections import deque\n",
    "stack = deque()"
   ]
  },
  {
   "cell_type": "code",
   "execution_count": 5,
   "id": "46f2f35a-896b-48fb-9f4c-73f4a904dd75",
   "metadata": {},
   "outputs": [
    {
     "data": {
      "text/plain": [
       "['__add__',\n",
       " '__bool__',\n",
       " '__class__',\n",
       " '__class_getitem__',\n",
       " '__contains__',\n",
       " '__copy__',\n",
       " '__delattr__',\n",
       " '__delitem__',\n",
       " '__dir__',\n",
       " '__doc__',\n",
       " '__eq__',\n",
       " '__format__',\n",
       " '__ge__',\n",
       " '__getattribute__',\n",
       " '__getitem__',\n",
       " '__gt__',\n",
       " '__hash__',\n",
       " '__iadd__',\n",
       " '__imul__',\n",
       " '__init__',\n",
       " '__init_subclass__',\n",
       " '__iter__',\n",
       " '__le__',\n",
       " '__len__',\n",
       " '__lt__',\n",
       " '__mul__',\n",
       " '__ne__',\n",
       " '__new__',\n",
       " '__reduce__',\n",
       " '__reduce_ex__',\n",
       " '__repr__',\n",
       " '__reversed__',\n",
       " '__rmul__',\n",
       " '__setattr__',\n",
       " '__setitem__',\n",
       " '__sizeof__',\n",
       " '__str__',\n",
       " '__subclasshook__',\n",
       " 'append',\n",
       " 'appendleft',\n",
       " 'clear',\n",
       " 'copy',\n",
       " 'count',\n",
       " 'extend',\n",
       " 'extendleft',\n",
       " 'index',\n",
       " 'insert',\n",
       " 'maxlen',\n",
       " 'pop',\n",
       " 'popleft',\n",
       " 'remove',\n",
       " 'reverse',\n",
       " 'rotate']"
      ]
     },
     "execution_count": 5,
     "metadata": {},
     "output_type": "execute_result"
    }
   ],
   "source": [
    "dir(stack )"
   ]
  },
  {
   "cell_type": "code",
   "execution_count": 6,
   "id": "fdf9b32a-4f7e-45ab-917a-999c8c1437f9",
   "metadata": {},
   "outputs": [],
   "source": [
    "stack.append('ABC')\n",
    "stack.append('DEF')\n",
    "stack.append('GHI')\n",
    "stack.append('JKL')"
   ]
  },
  {
   "cell_type": "code",
   "execution_count": 7,
   "id": "4230ff79-bd94-4180-9b57-ddcb5d10c285",
   "metadata": {},
   "outputs": [
    {
     "data": {
      "text/plain": [
       "deque(['ABC', 'DEF', 'GHI', 'JKL'])"
      ]
     },
     "execution_count": 7,
     "metadata": {},
     "output_type": "execute_result"
    }
   ],
   "source": [
    "stack "
   ]
  },
  {
   "cell_type": "code",
   "execution_count": 8,
   "id": "64d5f4e8-11fe-4058-b92d-573073eec15b",
   "metadata": {},
   "outputs": [
    {
     "data": {
      "text/plain": [
       "'JKL'"
      ]
     },
     "execution_count": 8,
     "metadata": {},
     "output_type": "execute_result"
    }
   ],
   "source": [
    "stack.pop()"
   ]
  },
  {
   "cell_type": "markdown",
   "id": "0935d673-f3d1-4114-b9c3-ab6a187e6383",
   "metadata": {},
   "source": [
    "### Interview question\n",
    "Given a string s contains just the character '(' ,')' ',' '{' ,'}' '[' ,']' , determine if the input string is valid \n",
    "\n",
    "{[]} - valid \n",
    "[}]  - invalid "
   ]
  },
  {
   "cell_type": "code",
   "execution_count": 9,
   "id": "8f1a8d23-130e-4d71-a619-a2b007ee02a6",
   "metadata": {},
   "outputs": [
    {
     "name": "stdout",
     "output_type": "stream",
     "text": [
      "Invalid parentheses\n"
     ]
    }
   ],
   "source": [
    "def isValid(string):\n",
    "    bracketMapping = {\"(\": \")\", \"[\": \"]\", \"{\": \"}\"}\n",
    "    openParams = set([\"(\", \"[\", \"{\"])\n",
    "    stack = []\n",
    "\n",
    "    for s in string:\n",
    "        if s in openParams:\n",
    "            stack.append(s)\n",
    "        elif stack and s == bracketMapping[stack[-1]]:\n",
    "            stack.pop()\n",
    "        else:\n",
    "            return False\n",
    "    return stack == []\n",
    "\n",
    "# Driver code\n",
    "string = \"{[]}}\"\n",
    "if isValid(string):\n",
    "    print(\"Valid parentheses\")\n",
    "else:\n",
    "    print(\"Invalid parentheses\")\n"
   ]
  },
  {
   "cell_type": "markdown",
   "id": "89ec587f-f1ce-4d3e-a246-73043016eab5",
   "metadata": {},
   "source": [
    "## Linked list assignment question \n",
    "\n",
    " - ###  Converting Singly linked list to a circular linked list "
   ]
  },
  {
   "cell_type": "code",
   "execution_count": 10,
   "id": "50ebf085-d78d-4680-947f-9026ea607feb",
   "metadata": {},
   "outputs": [
    {
     "name": "stdout",
     "output_type": "stream",
     "text": [
      "10  20  30  40  50  Circular Linked list\n",
      "10  20  30  40  50  \n"
     ]
    }
   ],
   "source": [
    "class Node:\n",
    "    def __init__(self,data):\n",
    "        self.data = data \n",
    "        self.nextPtr = None\n",
    "\n",
    "class LinkedList:\n",
    "    def __init__(self):\n",
    "        self.head = None \n",
    "\n",
    "## insert the new node at the end of the linked list .\n",
    "    def insertAtEnd(self , new_data):\n",
    "        ## Create a new node for new data \n",
    "        new_node = Node(new_data)\n",
    "        \n",
    "    ## Check wether linked list is empty or different \n",
    "        if self.head is None :\n",
    "            self.head = new_node\n",
    "            return \n",
    "    \n",
    "    ##insert the data at the end \n",
    "        temp =self.head\n",
    "        while temp.nextPtr :\n",
    "            temp = temp.nextPtr \n",
    "        \n",
    "        temp.nextPtr = new_node \n",
    "        \n",
    "    def circularLLConversion(self):\n",
    "        temp = self.head \n",
    "        while temp.nextPtr:\n",
    "            temp = temp.nextPtr\n",
    "            \n",
    "            \n",
    "        temp.next= self.head \n",
    "    \n",
    "    ## print the linked list \n",
    "    def printLinkedList(self):\n",
    "        temp = self.head\n",
    "        while temp :\n",
    "            print(str(temp.data)+\" \" , end = \" \")\n",
    "            temp = temp.nextPtr \n",
    "\n",
    "## Drivers Code \n",
    "llist = LinkedList()\n",
    "llist.insertAtEnd(10)\n",
    "llist.insertAtEnd(20)\n",
    "llist.insertAtEnd(30)\n",
    "llist.insertAtEnd(40)\n",
    "llist.insertAtEnd(50)\n",
    "llist.printLinkedList()\n",
    "\n",
    "llist.circularLLConversion()\n",
    "print(\"Circular Linked list\")\n",
    "llist.printLinkedList()\n",
    "print()"
   ]
  },
  {
   "cell_type": "code",
   "execution_count": 11,
   "id": "d3bc854e-c0ed-4db3-b665-5c01a09cedd6",
   "metadata": {},
   "outputs": [
    {
     "name": "stdout",
     "output_type": "stream",
     "text": [
      "Linked List:\n",
      "10  20  30  40  50  \n",
      "Circular Linked List:\n",
      "10  20  30  40  50  \n"
     ]
    }
   ],
   "source": [
    "class Node:\n",
    "    def __init__(self, data):\n",
    "        self.data = data\n",
    "        self.nextPtr = None\n",
    "\n",
    "class LinkedList:\n",
    "    def __init__(self):\n",
    "        self.head = None\n",
    "\n",
    "    # Insert a new node at the end of the linked list.\n",
    "    def insertAtEnd(self, new_data):\n",
    "        # Create a new node with new data.\n",
    "        new_node = Node(new_data)\n",
    "        \n",
    "        # Check whether linked list is empty.\n",
    "        if self.head is None:\n",
    "            self.head = new_node\n",
    "            return\n",
    "    \n",
    "        # Insert the new node at the end.\n",
    "        temp = self.head\n",
    "        while temp.nextPtr:\n",
    "            temp = temp.nextPtr\n",
    "        \n",
    "        temp.nextPtr = new_node \n",
    "        \n",
    "    def circularLLConversion(self):\n",
    "        if self.head is None:\n",
    "            return\n",
    "        \n",
    "        temp = self.head\n",
    "        while temp.nextPtr:\n",
    "            temp = temp.nextPtr\n",
    "        \n",
    "        # Make the linked list circular.\n",
    "        temp.nextPtr = self.head \n",
    "    \n",
    "    # Print the linked list.\n",
    "    def printLinkedList(self):\n",
    "        temp = self.head\n",
    "        while temp:\n",
    "            print(str(temp.data) + \" \", end=\" \")\n",
    "            temp = temp.nextPtr\n",
    "        print()  # For new line\n",
    "\n",
    "    # Print the circular linked list.\n",
    "    def printCircularLinkedList(self):\n",
    "        if self.head is None:\n",
    "            return\n",
    "        \n",
    "        temp = self.head\n",
    "        while True:\n",
    "            print(str(temp.data) + \" \", end=\" \")\n",
    "            temp = temp.nextPtr\n",
    "            if temp == self.head:\n",
    "                break\n",
    "        print()  # For new line\n",
    "\n",
    "# Driver code\n",
    "llist = LinkedList()\n",
    "llist.insertAtEnd(10)\n",
    "llist.insertAtEnd(20)\n",
    "llist.insertAtEnd(30)\n",
    "llist.insertAtEnd(40)\n",
    "llist.insertAtEnd(50)\n",
    "print(\"Linked List:\")\n",
    "llist.printLinkedList()\n",
    "\n",
    "llist.circularLLConversion()\n",
    "print(\"Circular Linked List:\")\n",
    "llist.printCircularLinkedList()\n"
   ]
  },
  {
   "cell_type": "markdown",
   "id": "320e4ad0-a6e9-4af2-920f-da0f7ae854d2",
   "metadata": {},
   "source": [
    "## Palindrome"
   ]
  },
  {
   "cell_type": "code",
   "execution_count": 12,
   "id": "1fcc0685-0105-4bd3-b93f-29a5f909de66",
   "metadata": {},
   "outputs": [
    {
     "name": "stdout",
     "output_type": "stream",
     "text": [
      "1 -> 2 -> 3 -> 2 -> 1 -> None\n",
      "Given linked list is a palindrome\n",
      "1 -> 2 -> 3 -> 2 -> 1 -> None\n"
     ]
    }
   ],
   "source": [
    "class Node:\n",
    "    def __init__(self, data):\n",
    "        self.data = data\n",
    "        self.next = None\n",
    "\n",
    "class LinkedList:\n",
    "    def __init__(self):\n",
    "        self.head = None\n",
    "        \n",
    "    ## Insert at the end of the linked list \n",
    "    def insertAtEnd(self, new_data):\n",
    "        new_node = Node(new_data)\n",
    "        \n",
    "        ## If the linked list is empty\n",
    "        if self.head is None:\n",
    "            self.head = new_node\n",
    "            return \n",
    "        \n",
    "        ## Insertion at the end\n",
    "        temp = self.head\n",
    "        while temp.next:\n",
    "            temp = temp.next\n",
    "            \n",
    "        temp.next = new_node \n",
    "    \n",
    "    ## Check if the linked list is a palindrome\n",
    "    def checkPalindrome(self):\n",
    "        stack = []\n",
    "        temp = self.head\n",
    "        \n",
    "        ## Push all elements of the linked list to the stack\n",
    "        while temp:\n",
    "            stack.append(temp.data)\n",
    "            temp = temp.next\n",
    "            \n",
    "        temp = self.head\n",
    "        \n",
    "        ## Check if the linked list is a palindrome\n",
    "        for _ in range(len(stack) // 2):\n",
    "            stack_ele = stack.pop()\n",
    "            if stack_ele == temp.data:\n",
    "                temp = temp.next\n",
    "                continue \n",
    "            else:\n",
    "                return False\n",
    "        return True \n",
    "    \n",
    "    ## Print the linked list\n",
    "    def printList(self):\n",
    "        temp = self.head\n",
    "        while temp:\n",
    "            print(temp.data, end=\" -> \")\n",
    "            temp = temp.next\n",
    "        print(\"None\")\n",
    "\n",
    "## Driver's code \n",
    "llist = LinkedList()\n",
    "## Function Calling \n",
    "llist.insertAtEnd(1)\n",
    "llist.insertAtEnd(2)\n",
    "llist.insertAtEnd(3)\n",
    "llist.insertAtEnd(2)\n",
    "llist.insertAtEnd(1)\n",
    "llist.printList()\n",
    "\n",
    "if llist.checkPalindrome():\n",
    "    print(\"Given linked list is a palindrome\")\n",
    "else:\n",
    "    print(\"Given linked list is not a palindrome\")\n",
    "\n",
    "llist.printList()\n"
   ]
  },
  {
   "cell_type": "markdown",
   "id": "7c8d78cd-9b61-4123-afa3-afaea4e28497",
   "metadata": {},
   "source": [
    "## Sort "
   ]
  },
  {
   "cell_type": "code",
   "execution_count": 13,
   "id": "9315310a-4755-474c-a037-eca218c5314f",
   "metadata": {},
   "outputs": [
    {
     "name": "stdout",
     "output_type": "stream",
     "text": [
      "1  0  1  2  0  \n",
      "0  0  1  1  2  \n",
      "\n"
     ]
    }
   ],
   "source": [
    "class Node:\n",
    "    def __init__(self, data):\n",
    "        self.data = data\n",
    "        self.next = None\n",
    "        \n",
    "class LinkedList:\n",
    "    def __init__(self):\n",
    "        self.head = None\n",
    "        \n",
    "    ## Insert at the end of the linked list \n",
    "    def insertAtEnd (self,new_data):\n",
    "        new_node = Node(new_data)\n",
    "        \n",
    "        ## If the linked list is empty \n",
    "        if self.head is None:\n",
    "            self.head = new_node \n",
    "            return \n",
    "        \n",
    "        ## Insertion at the end \n",
    "        temp = self.head\n",
    "        while temp.next:\n",
    "            temp= temp.next\n",
    "        \n",
    "        temp.next = new_node \n",
    "    ## Sort the linked list containing only 0s, 1s, and 2s\n",
    "    def sort012(self):\n",
    "        ## Base case condition\n",
    "        if self.head is None or self.head.next is None:\n",
    "            return self.head\n",
    "        \n",
    "        ## Create three counters to store that count value for 0 , 1 and 2 \n",
    "        count0 = 0 \n",
    "        count1 = 0 \n",
    "        count2 = 0\n",
    "        \n",
    "        curr = self.head\n",
    "        while curr:\n",
    "            if curr.data ==0 :\n",
    "                count0 +=1\n",
    "            elif curr.data == 1:\n",
    "                count1 += 1\n",
    "            else:\n",
    "                count2 +=1\n",
    "            curr = curr.next\n",
    "            \n",
    "        temp = self.head\n",
    "        while temp:\n",
    "            if count0 > 0:\n",
    "                temp.data = 0 \n",
    "                count0-= 1\n",
    "                 \n",
    "            elif count1 > 0:\n",
    "                temp.data = 1 \n",
    "                count1 -=1\n",
    "                    \n",
    "            else:\n",
    "                temp.data = 2\n",
    "                count2  -= 1\n",
    "            temp = temp.next\n",
    " \n",
    "    ## Print the linked list \n",
    "    def printList(self):\n",
    "        temp = self.head\n",
    "        while temp:\n",
    "            print(str(temp.data)+\" \", end =\" \" )\n",
    "            temp = temp.next\n",
    "        print() \n",
    "\n",
    "## Drivers Code \n",
    "llist = LinkedList()\n",
    "## Function calling \n",
    "llist.insertAtEnd(1)\n",
    "llist.insertAtEnd(0)\n",
    "llist.insertAtEnd(1)\n",
    "llist.insertAtEnd(2)\n",
    "llist.insertAtEnd(0)\n",
    "llist.printList()\n",
    "\n",
    "llist.sort012()\n",
    "llist.printList()\n",
    "print()\n",
    "    "
   ]
  },
  {
   "cell_type": "markdown",
   "id": "bff90571-1ee0-4a30-842b-786528e58c75",
   "metadata": {},
   "source": [
    "### Remove Nth Node from End of list \n",
    "#### Given the head of the linked list , remove the nth node from the end of the list and return its head."
   ]
  },
  {
   "cell_type": "markdown",
   "id": "1f346aac-b42e-4575-ba20-3542620af540",
   "metadata": {},
   "source": [
    "### Approach 1"
   ]
  },
  {
   "cell_type": "code",
   "execution_count": 14,
   "id": "a08e4fe9-3492-456a-aafc-448049ce837b",
   "metadata": {},
   "outputs": [
    {
     "name": "stdout",
     "output_type": "stream",
     "text": [
      "Original list:\n",
      "1 -> 2 -> 3 -> 4 -> 5 -> None\n",
      "List after removing 2th  node from the end:\n",
      "1 -> 2 -> 3 -> 5 -> None\n"
     ]
    }
   ],
   "source": [
    "from typing import Optional \n",
    "\n",
    "## Definition for singly - linked list \n",
    "class ListNode:\n",
    "    def __init__(self, val =0 , next = None):\n",
    "        self.val = val \n",
    "        self.next = next \n",
    "        \n",
    "class Solution :\n",
    "    def removeNthFromEnd (self, head:Optional[ListNode] , n: int)->Optional[ListNode]:\n",
    "        dummy = ListNode(next = head )\n",
    "        first = dummy \n",
    "        second = dummy \n",
    "        \n",
    "        ## Move first pointer so that there is a gap of n nodes between first and second \n",
    "        for i in range(n +1):\n",
    "            first = first.next\n",
    "            \n",
    "        ## Move first to the end , maintaining the gap \n",
    "        while first :\n",
    "            first = first.next\n",
    "            second = second.next\n",
    "        \n",
    "        ## Remove the nth node from the end \n",
    "        second.next = second.next.next\n",
    "        \n",
    "        return dummy.next\n",
    "    \n",
    "    \n",
    "    ## Helper functions to create and print linked list(for testing )\n",
    "\n",
    "def create_linked_list(lst):\n",
    "    dummy = ListNode()\n",
    "    curr = dummy \n",
    "    for val in lst:\n",
    "        curr.next = ListNode(val)\n",
    "        curr = curr.next\n",
    "    return dummy.next\n",
    "    \n",
    "    \n",
    "def print_linked_list(head):\n",
    "    curr = head \n",
    "    while curr:\n",
    "        print(curr.val, end =\" -> \")\n",
    "        curr = curr.next \n",
    "    print(\"None\")\n",
    "\n",
    "## Drivers Code \n",
    "lst = [1,2,3,4,5]\n",
    "n = 2 \n",
    "head = create_linked_list(lst)\n",
    "print(\"Original list:\")\n",
    "print_linked_list(head)\n",
    "\n",
    "solution = Solution()\n",
    "head = solution.removeNthFromEnd(head , n)\n",
    "print(f'List after removing {n}th  node from the end:')\n",
    "print_linked_list(head)"
   ]
  },
  {
   "cell_type": "markdown",
   "id": "dea8d0ea-ab91-429d-b072-27b7cb0b3615",
   "metadata": {},
   "source": [
    "### Approach 2"
   ]
  },
  {
   "cell_type": "code",
   "execution_count": 15,
   "id": "e1b9615d-3934-4050-8862-848171115608",
   "metadata": {},
   "outputs": [
    {
     "name": "stdout",
     "output_type": "stream",
     "text": [
      "Original list:\n",
      "1 -> 2 -> 3 -> 4 -> 5 -> None\n",
      "List after removing 2th node from the end:\n",
      "1 -> 2 -> 3 -> 5 -> None\n"
     ]
    }
   ],
   "source": [
    "from typing import Optional\n",
    "\n",
    "## Definition for singly-linked list.\n",
    "class ListNode:\n",
    "    def __init__(self, val=0, next=None):\n",
    "        self.val = val\n",
    "        self.next = next\n",
    "\n",
    "class Solution:\n",
    "    def removeNthFromEnd(self, head: Optional[ListNode], n: int) -> Optional[ListNode]:\n",
    "        dummy = ListNode(next=head)\n",
    "        count = 0 \n",
    "        temp = head \n",
    "        \n",
    "        ## Count the number of nodes in the linked list\n",
    "        while temp:\n",
    "            count += 1\n",
    "            temp = temp.next\n",
    "        \n",
    "        numOfSteps = count - n\n",
    "        temp = dummy\n",
    "        \n",
    "        ## Move towards the right number of steps\n",
    "        while numOfSteps > 0:\n",
    "            numOfSteps -= 1\n",
    "            temp = temp.next\n",
    "        \n",
    "        ## Remove the nth node from the end\n",
    "        temp.next = temp.next.next\n",
    "        \n",
    "        return dummy.next\n",
    "\n",
    "# Helper functions to create and print linked list (for testing)\n",
    "def create_linked_list(lst):\n",
    "    dummy = ListNode()\n",
    "    curr = dummy\n",
    "    for val in lst:\n",
    "        curr.next = ListNode(val)\n",
    "        curr = curr.next\n",
    "    return dummy.next\n",
    "\n",
    "def print_linked_list(head):\n",
    "    curr = head\n",
    "    while curr:\n",
    "        print(curr.val, end=\" -> \")\n",
    "        curr = curr.next\n",
    "    print(\"None\")\n",
    "\n",
    "# Driver's code (for testing)\n",
    "lst = [1, 2, 3, 4, 5]\n",
    "n = 2\n",
    "head = create_linked_list(lst)\n",
    "print(\"Original list:\")\n",
    "print_linked_list(head)\n",
    "\n",
    "solution = Solution()\n",
    "head = solution.removeNthFromEnd(head, n)\n",
    "print(f\"List after removing {n}th node from the end:\")\n",
    "print_linked_list(head)\n"
   ]
  },
  {
   "cell_type": "markdown",
   "id": "50b73620-efac-450d-8e3d-a12e95fe35ec",
   "metadata": {},
   "source": [
    "# Queue & Stack "
   ]
  },
  {
   "cell_type": "markdown",
   "id": "98330f1b-8a7c-4496-9bde-16672d9187bc",
   "metadata": {},
   "source": [
    "## Pop , Push , Peek , is_empty, size"
   ]
  },
  {
   "cell_type": "code",
   "execution_count": 16,
   "id": "721e1dbf-d455-45b2-94dc-d23e269b3ecc",
   "metadata": {},
   "outputs": [],
   "source": [
    "from collections import deque\n",
    "\n",
    "class Stack:\n",
    "    def __init__(self):\n",
    "        self.container = deque()\n",
    "    \n",
    "    ## Insert an element inside the stack \n",
    "    def push(self, val):\n",
    "        self.container.append(val)\n",
    "        \n",
    "    ## Return the top most element from the stack \n",
    "    ## Delete an element from the stack\n",
    "    def pop(self):\n",
    "        if self.is_empty():\n",
    "            print(\"Stack is already empty\")\n",
    "        else:\n",
    "            return self.container.pop()\n",
    "    \n",
    "    ## Return the top most element from the stack \n",
    "    def peek(self):\n",
    "        if self.is_empty():\n",
    "            print(\"Stack is empty\")\n",
    "        else:\n",
    "            return self.container[-1]\n",
    "    \n",
    "    def is_empty(self):\n",
    "        return len(self.container) == 0 \n",
    "    \n",
    "    ## Check the size of the stack \n",
    "    def size(self):\n",
    "        return len(self.container)\n"
   ]
  },
  {
   "cell_type": "code",
   "execution_count": 17,
   "id": "095dfa74-9048-485a-a256-70d1989c29f3",
   "metadata": {},
   "outputs": [],
   "source": [
    "## Create an object of the stack class \n",
    "s = Stack()\n",
    "s.push(5)\n",
    "s.push(10)\n",
    "s.push(15)\n",
    "s.push(20)"
   ]
  },
  {
   "cell_type": "code",
   "execution_count": 18,
   "id": "a025af55-79ba-4b67-bdfd-b1e7b66d104f",
   "metadata": {},
   "outputs": [
    {
     "data": {
      "text/plain": [
       "20"
      ]
     },
     "execution_count": 18,
     "metadata": {},
     "output_type": "execute_result"
    }
   ],
   "source": [
    "## Check the top most element in the stack .\n",
    "s.peek()"
   ]
  },
  {
   "cell_type": "code",
   "execution_count": 19,
   "id": "bb30975c-4457-4e2d-ac63-97b8bc6ec6cd",
   "metadata": {},
   "outputs": [
    {
     "data": {
      "text/plain": [
       "20"
      ]
     },
     "execution_count": 19,
     "metadata": {},
     "output_type": "execute_result"
    }
   ],
   "source": [
    "## Delete the top most element in the stack .\n",
    "s.pop()"
   ]
  },
  {
   "cell_type": "code",
   "execution_count": 20,
   "id": "bdda6d48-b3ba-47fc-ba5d-163c9c9dbd65",
   "metadata": {},
   "outputs": [
    {
     "data": {
      "text/plain": [
       "3"
      ]
     },
     "execution_count": 20,
     "metadata": {},
     "output_type": "execute_result"
    }
   ],
   "source": [
    "s.size()"
   ]
  },
  {
   "cell_type": "code",
   "execution_count": 21,
   "id": "c90bf8a9-6e40-4762-8994-0d43103a13e7",
   "metadata": {},
   "outputs": [
    {
     "data": {
      "text/plain": [
       "False"
      ]
     },
     "execution_count": 21,
     "metadata": {},
     "output_type": "execute_result"
    }
   ],
   "source": [
    "s.is_empty()"
   ]
  },
  {
   "cell_type": "code",
   "execution_count": 22,
   "id": "24262524-2877-4e06-9763-d677185254e8",
   "metadata": {},
   "outputs": [
    {
     "data": {
      "text/plain": [
       "15"
      ]
     },
     "execution_count": 22,
     "metadata": {},
     "output_type": "execute_result"
    }
   ],
   "source": [
    "s.pop()"
   ]
  },
  {
   "cell_type": "code",
   "execution_count": 23,
   "id": "129dc62d-0b59-42ff-a157-9d79c9eaa0c1",
   "metadata": {},
   "outputs": [
    {
     "data": {
      "text/plain": [
       "10"
      ]
     },
     "execution_count": 23,
     "metadata": {},
     "output_type": "execute_result"
    }
   ],
   "source": [
    "s.pop()"
   ]
  },
  {
   "cell_type": "code",
   "execution_count": 24,
   "id": "70441bbf-daf6-4ad0-8832-7413fddfffd8",
   "metadata": {},
   "outputs": [
    {
     "data": {
      "text/plain": [
       "5"
      ]
     },
     "execution_count": 24,
     "metadata": {},
     "output_type": "execute_result"
    }
   ],
   "source": [
    "s.pop()"
   ]
  },
  {
   "cell_type": "code",
   "execution_count": 25,
   "id": "69c084e4-aba2-4e50-8e5e-a87eeafdeccb",
   "metadata": {},
   "outputs": [],
   "source": [
    "s.push(2)"
   ]
  },
  {
   "cell_type": "code",
   "execution_count": 26,
   "id": "7ac35af3-ef35-4223-997b-9eb9e4de690c",
   "metadata": {},
   "outputs": [
    {
     "data": {
      "text/plain": [
       "2"
      ]
     },
     "execution_count": 26,
     "metadata": {},
     "output_type": "execute_result"
    }
   ],
   "source": [
    "s.peek()"
   ]
  },
  {
   "cell_type": "code",
   "execution_count": 27,
   "id": "d7673689-2725-4cac-ad1d-2b23bf629aa5",
   "metadata": {},
   "outputs": [
    {
     "data": {
      "text/plain": [
       "2"
      ]
     },
     "execution_count": 27,
     "metadata": {},
     "output_type": "execute_result"
    }
   ],
   "source": [
    "s.pop()"
   ]
  },
  {
   "cell_type": "code",
   "execution_count": 28,
   "id": "853b9782-0cd6-4b24-8049-64b5ed75c233",
   "metadata": {},
   "outputs": [
    {
     "name": "stdout",
     "output_type": "stream",
     "text": [
      "Stack is already empty\n"
     ]
    }
   ],
   "source": [
    "s.pop()"
   ]
  },
  {
   "cell_type": "markdown",
   "id": "5a69a8de-8089-4d03-a787-a758bbc13bae",
   "metadata": {},
   "source": [
    "## Insertion in queue Data Structure"
   ]
  },
  {
   "cell_type": "code",
   "execution_count": 29,
   "id": "bb3a4f13-f771-4cd9-8256-758345778f54",
   "metadata": {},
   "outputs": [],
   "source": [
    "relianceStock = []\n",
    "relianceStock.insert(0 ,147)\n",
    "relianceStock.insert(0 ,150)\n",
    "relianceStock.insert(0 ,162)\n"
   ]
  },
  {
   "cell_type": "code",
   "execution_count": 30,
   "id": "c424223a-da36-49a0-8c6d-5d83449a8b3b",
   "metadata": {},
   "outputs": [
    {
     "data": {
      "text/plain": [
       "[162, 150, 147]"
      ]
     },
     "execution_count": 30,
     "metadata": {},
     "output_type": "execute_result"
    }
   ],
   "source": [
    "relianceStock "
   ]
  },
  {
   "cell_type": "code",
   "execution_count": 31,
   "id": "f6f89b05-80ed-4e6f-8614-ae5da2bfd52e",
   "metadata": {},
   "outputs": [
    {
     "data": {
      "text/plain": [
       "147"
      ]
     },
     "execution_count": 31,
     "metadata": {},
     "output_type": "execute_result"
    }
   ],
   "source": [
    "relianceStock.pop()"
   ]
  },
  {
   "cell_type": "markdown",
   "id": "436bbf9a-a92d-452a-a378-1844c8c0981b",
   "metadata": {},
   "source": [
    "### Insertion of Queue Data Structure using deque\n"
   ]
  },
  {
   "cell_type": "code",
   "execution_count": 32,
   "id": "069e069d-b5ef-47e1-9f60-28ab2aaeaed9",
   "metadata": {},
   "outputs": [],
   "source": [
    "from collections import deque\n",
    "queue = deque()"
   ]
  },
  {
   "cell_type": "markdown",
   "id": "4e4feb72-5e03-49b1-89af-d2975a4611b6",
   "metadata": {},
   "source": [
    "dir(queue)"
   ]
  },
  {
   "cell_type": "markdown",
   "id": "9c309894-1826-4c3d-a3b0-9bbc6217e7a9",
   "metadata": {},
   "source": [
    "## Approach 1: FIFO\n"
   ]
  },
  {
   "cell_type": "code",
   "execution_count": 34,
   "id": "b31bec31-bd38-468f-bc56-80f84a00de3b",
   "metadata": {},
   "outputs": [],
   "source": [
    "queue.append(5)\n",
    "queue.append(10)\n",
    "queue.append(15)\n"
   ]
  },
  {
   "cell_type": "code",
   "execution_count": 35,
   "id": "dd416677-5e68-475e-a6d3-ef5d775e6967",
   "metadata": {},
   "outputs": [
    {
     "data": {
      "text/plain": [
       "deque([5, 10, 15])"
      ]
     },
     "execution_count": 35,
     "metadata": {},
     "output_type": "execute_result"
    }
   ],
   "source": [
    "queue"
   ]
  },
  {
   "cell_type": "markdown",
   "id": "73c87109-fc53-4548-afa0-ee3fea48774b",
   "metadata": {},
   "source": [
    "## Approach 2"
   ]
  },
  {
   "cell_type": "code",
   "execution_count": 36,
   "id": "01a14294-6405-41e5-b060-af1ad846f894",
   "metadata": {},
   "outputs": [],
   "source": [
    "queue.appendleft(5000)\n",
    "queue.appendleft(10000)\n",
    "queue.appendleft(15000)\n"
   ]
  },
  {
   "cell_type": "code",
   "execution_count": 37,
   "id": "6c431bea-5881-4c6c-be34-6a91a5f67174",
   "metadata": {},
   "outputs": [
    {
     "data": {
      "text/plain": [
       "deque([15000, 10000, 5000, 5, 10, 15])"
      ]
     },
     "execution_count": 37,
     "metadata": {},
     "output_type": "execute_result"
    }
   ],
   "source": [
    "queue"
   ]
  },
  {
   "cell_type": "code",
   "execution_count": 39,
   "id": "cf91d62e-d7f4-4467-aae2-95b7f69d5db5",
   "metadata": {},
   "outputs": [
    {
     "data": {
      "text/plain": [
       "15"
      ]
     },
     "execution_count": 39,
     "metadata": {},
     "output_type": "execute_result"
    }
   ],
   "source": [
    "queue.pop()"
   ]
  },
  {
   "cell_type": "markdown",
   "id": "eb5fff75-bf97-4513-9686-20297ea0fed6",
   "metadata": {},
   "source": [
    "- apppend -> insertion right side \n",
    "- pop -> deletion right side"
   ]
  },
  {
   "cell_type": "markdown",
   "id": "e9ab57a4-f05c-49b6-ae9e-894c23be4784",
   "metadata": {},
   "source": [
    "- appendleft -> insertion left side  \n",
    "- popleft -> delete left side"
   ]
  },
  {
   "cell_type": "code",
   "execution_count": 41,
   "id": "cd2fef15-c568-43cb-9fdb-e56e996a827f",
   "metadata": {},
   "outputs": [
    {
     "data": {
      "text/plain": [
       "15000"
      ]
     },
     "execution_count": 41,
     "metadata": {},
     "output_type": "execute_result"
    }
   ],
   "source": [
    "queue.popleft()"
   ]
  },
  {
   "cell_type": "code",
   "execution_count": 42,
   "id": "5dcc5b0e-19e6-4f9f-8035-eb75db915521",
   "metadata": {},
   "outputs": [],
   "source": [
    "from collections import deque\n",
    "class Queue:\n",
    "    def __init__(self):\n",
    "        self.container = deque()\n",
    "    \n",
    "    def enqueue(self , val):\n",
    "        return self.container.appendleft(val)\n",
    "    \n",
    "    def dequeue(self):\n",
    "        return self.container.pop()\n",
    "    \n",
    "    def is_Empty(self):\n",
    "        return len(self.container) ==0 \n",
    "    \n",
    "    def size(self):\n",
    "        return len(self.container)\n",
    "        "
   ]
  },
  {
   "cell_type": "code",
   "execution_count": 45,
   "id": "f34b0b25-b494-4a5e-8c13-9d4d7583974e",
   "metadata": {},
   "outputs": [],
   "source": [
    "q = Queue()\n",
    "q.enqueue({\n",
    "    'Company':'Reliance',\n",
    "     'timestamp': '02-06-2024 , 10:50',\n",
    "      'price': 141.38})\n",
    "q.enqueue({\n",
    "    'Company':'Reliance',\n",
    "     'timestamp': '02-06-2024  , 10:50',\n",
    "      'price': 151.38})\n",
    "q.enqueue({\n",
    "    'Company':'Reliance',\n",
    "     'timestamp': '02-06-2024  , 10:50',\n",
    "      'price': 161.38})"
   ]
  },
  {
   "cell_type": "code",
   "execution_count": 46,
   "id": "40c6e5a9-754f-4fe8-ae0d-136eacfbf1b8",
   "metadata": {},
   "outputs": [
    {
     "data": {
      "text/plain": [
       "3"
      ]
     },
     "execution_count": 46,
     "metadata": {},
     "output_type": "execute_result"
    }
   ],
   "source": [
    "q.size()"
   ]
  },
  {
   "cell_type": "code",
   "execution_count": 47,
   "id": "34786596-5ca5-4eed-a34c-507dd95cd112",
   "metadata": {},
   "outputs": [
    {
     "data": {
      "text/plain": [
       "deque([{'Company': 'Reliance',\n",
       "        'timestamp': '02-06-2024  , 10:50',\n",
       "        'price': 161.38},\n",
       "       {'Company': 'Reliance',\n",
       "        'timestamp': '02-06-2024  , 10:50',\n",
       "        'price': 151.38},\n",
       "       {'Company': 'Reliance',\n",
       "        'timestamp': '02-06-2024 , 10:50',\n",
       "        'price': 141.38}])"
      ]
     },
     "execution_count": 47,
     "metadata": {},
     "output_type": "execute_result"
    }
   ],
   "source": [
    "q.container"
   ]
  },
  {
   "cell_type": "code",
   "execution_count": 48,
   "id": "15a31b49-00cf-4a3b-88f9-94a67545cff5",
   "metadata": {},
   "outputs": [
    {
     "data": {
      "text/plain": [
       "{'Company': 'Reliance', 'timestamp': '02-06-2024 , 10:50', 'price': 141.38}"
      ]
     },
     "execution_count": 48,
     "metadata": {},
     "output_type": "execute_result"
    }
   ],
   "source": [
    "q.dequeue()"
   ]
  },
  {
   "cell_type": "code",
   "execution_count": 49,
   "id": "39215446-5ad0-49f4-9f0f-29f12d4f75bf",
   "metadata": {},
   "outputs": [
    {
     "data": {
      "text/plain": [
       "{'Company': 'Reliance', 'timestamp': '02-06-2024  , 10:50', 'price': 151.38}"
      ]
     },
     "execution_count": 49,
     "metadata": {},
     "output_type": "execute_result"
    }
   ],
   "source": [
    "q.dequeue()"
   ]
  },
  {
   "cell_type": "code",
   "execution_count": 50,
   "id": "bdd5c3ac-e60a-4d55-add0-44087517a74b",
   "metadata": {},
   "outputs": [
    {
     "data": {
      "text/plain": [
       "{'Company': 'Reliance', 'timestamp': '02-06-2024  , 10:50', 'price': 161.38}"
      ]
     },
     "execution_count": 50,
     "metadata": {},
     "output_type": "execute_result"
    }
   ],
   "source": [
    "q.dequeue()"
   ]
  },
  {
   "cell_type": "code",
   "execution_count": 51,
   "id": "9bb1d6db-fcfc-45ad-8433-8d4a6877f77b",
   "metadata": {},
   "outputs": [
    {
     "data": {
      "text/plain": [
       "True"
      ]
     },
     "execution_count": 51,
     "metadata": {},
     "output_type": "execute_result"
    }
   ],
   "source": [
    "q.is_Empty()"
   ]
  },
  {
   "cell_type": "code",
   "execution_count": 5,
   "id": "e42d4122-8f60-4517-b34e-b9b7a8ae8fdf",
   "metadata": {},
   "outputs": [
    {
     "name": "stdout",
     "output_type": "stream",
     "text": [
      "1 10 11 100 101 110 111 1000 1001 1010 "
     ]
    }
   ],
   "source": [
    "from collections import deque\n",
    "\n",
    "class Queue:\n",
    "    def __init__(self):\n",
    "        self.container = deque()\n",
    "        \n",
    "    def enqueue(self, val):\n",
    "        self.container.appendleft(val)\n",
    "        \n",
    "    def dequeue(self):\n",
    "        if self.is_empty():\n",
    "            print(\"Queue is already empty\")\n",
    "        else:\n",
    "            return self.container.pop()\n",
    "    \n",
    "    def is_empty(self):\n",
    "        return len(self.container) == 0\n",
    "    \n",
    "    def size(self):\n",
    "        return len(self.container)\n",
    "    \n",
    "    def front(self):\n",
    "        if self.is_empty():\n",
    "            print(\"Queue is empty\")\n",
    "        else:\n",
    "            return self.container[-1]\n",
    "    \n",
    "## Method Definition \n",
    "def produce_binary_num(n):\n",
    "    q = Queue()\n",
    "    q.enqueue(\"1\")\n",
    "    \n",
    "    for i in range(n):\n",
    "        front = q.front()\n",
    "        print(front, end=\" \")\n",
    "        q.enqueue(front + \"0\")\n",
    "        q.enqueue(front + \"1\")\n",
    "        q.dequeue()\n",
    "\n",
    "## Driver Code \n",
    "n = 10 \n",
    "produce_binary_num(n)\n"
   ]
  },
  {
   "cell_type": "code",
   "execution_count": null,
   "id": "b559924e-bab5-4d66-b385-89356513e82d",
   "metadata": {},
   "outputs": [],
   "source": []
  }
 ],
 "metadata": {
  "kernelspec": {
   "display_name": "Python 3 (ipykernel)",
   "language": "python",
   "name": "python3"
  },
  "language_info": {
   "codemirror_mode": {
    "name": "ipython",
    "version": 3
   },
   "file_extension": ".py",
   "mimetype": "text/x-python",
   "name": "python",
   "nbconvert_exporter": "python",
   "pygments_lexer": "ipython3",
   "version": "3.10.8"
  }
 },
 "nbformat": 4,
 "nbformat_minor": 5
}

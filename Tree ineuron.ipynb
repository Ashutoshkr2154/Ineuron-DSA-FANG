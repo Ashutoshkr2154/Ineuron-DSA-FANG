{
 "cells": [
  {
   "cell_type": "code",
   "execution_count": 1,
   "id": "1788657b-bc1c-46a5-87af-13d80355d348",
   "metadata": {},
   "outputs": [
    {
     "name": "stdout",
     "output_type": "stream",
     "text": [
      "preorder Traversal of the given tree is \n",
      "1  2  4  5  3  \n",
      "Inorder Traversal of the given tree is \n",
      "4  2  5  1  3  \n",
      "postOrder Traversal of the given tree is \n",
      "4  5  2  3  1  \n"
     ]
    }
   ],
   "source": [
    "## Create a node which contains data , left pointer of a node \n",
    "class Node:\n",
    "    def __init__(self, data):\n",
    "        self.left = None\n",
    "        self.right = None \n",
    "        self.data = data \n",
    "        \n",
    "        \n",
    "    ## Implementation of preorder traversal \n",
    "def preOrder(root):\n",
    "    if root :\n",
    "        print(str(root.data) + \" \"  , end = \" \" )\n",
    "        ## using a recursive function call for left subtree \n",
    "        preOrder(root.left)\n",
    "            ## using a recursive function call for right subtree \n",
    "        preOrder(root.right)\n",
    "\n",
    "## Implementation of InOrder traversal \n",
    "\n",
    "def inOrder(root):\n",
    "    if root:\n",
    "        ## Using a recursive function call for left subtree\n",
    "        inOrder(root.left)\n",
    "        print(str(root.data) + \" \" , end =\" \" )\n",
    "        ## Using a recursive function call for the right subtree \n",
    "        inOrder(root.right)\n",
    "\n",
    "## Implementation of postORder traversal \n",
    "def postOrder (root):\n",
    "    if root :\n",
    "        ## using a recursive function call from left subtree \n",
    "        postOrder(root.left)\n",
    "        ## Using a recursive function call from right subtree \n",
    "        postOrder(root.right)\n",
    "        print(str(root.data)+ \" \" , end =\" \")\n",
    "## Drivers Code \n",
    "root = Node(1)\n",
    "root.left = Node(2)\n",
    "root.right = Node(3)\n",
    "root.left.left = Node(4)\n",
    "root.left.right = Node(5)\n",
    "\n",
    "print('preorder Traversal of the given tree is ')\n",
    "preOrder(root)\n",
    "print()\n",
    "\n",
    "print('Inorder Traversal of the given tree is ')\n",
    "inOrder(root)\n",
    "print()\n",
    "\n",
    "\n",
    "print('postOrder Traversal of the given tree is ')\n",
    "postOrder(root)\n",
    "print()\n"
   ]
  },
  {
   "cell_type": "markdown",
   "id": "3d77cc98-abdf-43dd-ad56-4c69fd4e1625",
   "metadata": {},
   "source": [
    "### Iterative appraoch of preorder \n"
   ]
  },
  {
   "cell_type": "code",
   "execution_count": 2,
   "id": "554725b9-1a65-49ab-ae9e-35ee7d18b5d1",
   "metadata": {},
   "outputs": [
    {
     "name": "stdout",
     "output_type": "stream",
     "text": [
      "Iterative Preorder Traversal of the given tree is \n"
     ]
    },
    {
     "data": {
      "text/plain": [
       "<function __main__.iterativePreOrder(root)>"
      ]
     },
     "execution_count": 2,
     "metadata": {},
     "output_type": "execute_result"
    }
   ],
   "source": [
    "class Node:\n",
    "    def __init__(self, data):\n",
    "        self.left = None\n",
    "        self.right = None\n",
    "        self.data = data \n",
    "    \n",
    "def iterativePreOrder(root):\n",
    "    if root is None :\n",
    "        return \n",
    "    \n",
    "    stack = [root]\n",
    "    while stack :\n",
    "        node = stack.pop()\n",
    "        print(str( node.data)+\" \" , end = \" \" )\n",
    "        \n",
    "        if node.right:\n",
    "            stack.append(node.right)\n",
    "        if node.left:\n",
    "            stack.append(node.left)\n",
    "\n",
    "## Drivers Code\n",
    "root = Node(1)\n",
    "root.left = Node(2)\n",
    "root.right = Node(3)\n",
    "root.left.left= Node(4)\n",
    "root.left.right = Node(5)\n",
    "\n",
    "print(\"Iterative Preorder Traversal of the given tree is \")\n",
    "iterativePreOrder"
   ]
  },
  {
   "cell_type": "markdown",
   "id": "69576869-e05e-4408-b592-6bad3b67f217",
   "metadata": {},
   "source": [
    "## Iterative Inorder Traversal\n",
    "In inorder traversal , we visit the left subtree first, then the root node and finally the right subtree , Using a stack we can achieve this iteratively .\n"
   ]
  },
  {
   "cell_type": "code",
   "execution_count": 3,
   "id": "99ad0aae-501d-45b7-9042-96b2502df23e",
   "metadata": {},
   "outputs": [
    {
     "name": "stdout",
     "output_type": "stream",
     "text": [
      "Iterative approach of Inorder Traversal of the given tree is :\n",
      "4  2  5  1  3  \n"
     ]
    }
   ],
   "source": [
    "def iterativeInOrder(root):\n",
    "    stack = []\n",
    "    current = root \n",
    "\n",
    "    while True :\n",
    "        if current is not None :\n",
    "            stack.append(current)\n",
    "            current = current.left \n",
    "        \n",
    "        elif stack :\n",
    "            current = stack.pop()\n",
    "            print(str (current.data) + \" \" , end = \" \" )\n",
    "            current = current.right \n",
    "        else:\n",
    "            break \n",
    "## Drivers Code \n",
    "print(\"Iterative approach of Inorder Traversal of the given tree is :\")\n",
    "iterativeInOrder(root)\n",
    "print()"
   ]
  },
  {
   "cell_type": "markdown",
   "id": "662551d3-58db-4504-b867-23d490dd4390",
   "metadata": {},
   "source": [
    "## Iterative PostOrder Traversal \n",
    "In PostOrder Traversal , we visit the left subtree first , then the right subtree , and finally the root node , Using a stack , we can achive this iteratively."
   ]
  },
  {
   "cell_type": "code",
   "execution_count": 5,
   "id": "3db22530-acf3-411f-b07d-dcb933dc5e05",
   "metadata": {},
   "outputs": [
    {
     "name": "stdout",
     "output_type": "stream",
     "text": [
      "Iterative PostOrder Traversal of the given tree is :\n",
      "4  5  2  3  1  \n"
     ]
    }
   ],
   "source": [
    "def iterativePostOrder(root):\n",
    "    if root is None :\n",
    "        return \n",
    "    \n",
    "    stack1 = [root]\n",
    "    stack2 = []\n",
    "    \n",
    "    \n",
    "    while stack1:\n",
    "        node= stack1.pop()\n",
    "        stack2.append(node)\n",
    "        \n",
    "        if node.left:\n",
    "            stack1.append(node.left)\n",
    "        if node.right:\n",
    "            stack1.append(node.right)\n",
    "            \n",
    "    while stack2:\n",
    "        node = stack2.pop()\n",
    "        print(str(node.data)+ \" \" , end = \" \" )\n",
    "        \n",
    "## Drivers Code \n",
    "print(\"Iterative PostOrder Traversal of the given tree is :\")\n",
    "iterativePostOrder(root)\n",
    "print()\n"
   ]
  },
  {
   "cell_type": "markdown",
   "id": "5460515d-e0ce-4b21-ab67-80a83172216e",
   "metadata": {},
   "source": [
    "## PreOrder Traversal iterative appraoch "
   ]
  },
  {
   "cell_type": "code",
   "execution_count": 13,
   "id": "2ab2ff2b-148d-4c3d-9cde-e0f96d6e1a83",
   "metadata": {},
   "outputs": [
    {
     "name": "stdout",
     "output_type": "stream",
     "text": [
      "PreOrder Traversal of the given binary tree \n",
      "10  20  40  50  30  60  70  \n"
     ]
    }
   ],
   "source": [
    "### Pre Order Traversal without using recursion \n",
    "class Node :\n",
    "    def __init__(self , data):\n",
    "        self.left = None\n",
    "        self.right = None\n",
    "        self.data = data \n",
    "        \n",
    "## Iterative approach to implement preorder traversal \n",
    "def preOrder(root):\n",
    "    if root is None:\n",
    "        return \n",
    "    \n",
    "    stack = []\n",
    "    ## Append the root node in the stack \n",
    "    stack.append(root)\n",
    "    \n",
    "    \n",
    "    while len(stack)>0:\n",
    "        popped = stack.pop()\n",
    "        print(str(popped.data)+ \" \" , end= ' ' )\n",
    "        \n",
    "        if popped.right:\n",
    "            stack.append(popped.right)\n",
    "            \n",
    "        if popped.left:\n",
    "            stack.append(popped.left)\n",
    "## Drivers Code \n",
    "root = Node(10)\n",
    "root.left = Node(20)\n",
    "root.right = Node(30)\n",
    "root.left.left = Node(40)\n",
    "root.left.right = Node(50)\n",
    "root.right.left = Node(60)\n",
    "root.right.right = Node(70)\n",
    "\n",
    "print('PreOrder Traversal of the given binary tree ')\n",
    "preOrder(root)\n",
    "print()"
   ]
  },
  {
   "cell_type": "code",
   "execution_count": 14,
   "id": "2f1ce3e6-148c-4637-a1a4-89045f5166ca",
   "metadata": {},
   "outputs": [
    {
     "name": "stdout",
     "output_type": "stream",
     "text": [
      "PreOrder Traversal of the given binary tree\n",
      "10  20  40  50  30  60  70  \n",
      "PostOrder Traversal of the given binary tree\n",
      "40 50 20 60 70 30 10 \n",
      "inOrder Traversal of the given binary tree\n",
      "40  20  50  10  60  30  70  \n"
     ]
    }
   ],
   "source": [
    "class Node :\n",
    "    def __init__ (self , data):\n",
    "        self.left = None\n",
    "        self.right = None\n",
    "        self.data = data \n",
    "        \n",
    "## Iterative approach to implement preorder Traversal \n",
    "## Time complexity : O(n)\n",
    "## Space Complexity : O(n)\n",
    "def preOrder(root):\n",
    "    if root  is None:\n",
    "        return \n",
    "    \n",
    "    stack = []\n",
    "    ## Append the root node to the stack \n",
    "    \n",
    "    stack.append(root)\n",
    "    \n",
    "    while len(stack) > 0 :\n",
    "        popped = stack.pop()\n",
    "        print(str(popped.data) + \" \" , end = ' ')\n",
    "        \n",
    "\n",
    "        ## push right child first so that left child is processed first \n",
    "        if popped.right:\n",
    "            stack.append(popped.right)\n",
    "            \n",
    "        if popped.left:\n",
    "            stack.append(popped.left)\n",
    "            \n",
    "## Iterative approach to implement PostOrder traversal\n",
    "## Time Complexity : O(n)\n",
    "## Apace Complexity : O(n)\n",
    "\n",
    "def postOrder(root):\n",
    "    if root is None:\n",
    "        return \n",
    "    \n",
    "    s1 =[]\n",
    "    s2 =[]\n",
    "    s1.append(root)\n",
    "    \n",
    "    while len(s1) > 0:\n",
    "        node = s1.pop()\n",
    "        s2.append(node)\n",
    "        \n",
    "        if node.left is not None:\n",
    "            s1.append(node.left)\n",
    "        if node.right is not None:\n",
    "            s1.append(node.right)\n",
    "            \n",
    "    while len(s2) > 0:\n",
    "        node = s2.pop()\n",
    "        print(node.data , end = \" \" )\n",
    "## Implementation of inOrder traversal with using recursion \n",
    "\n",
    "def inOrder(root):\n",
    "    current = root \n",
    "    stack = []\n",
    "    while(True) :\n",
    "        if current is not None:\n",
    "            stack.append(current)\n",
    "            current = current.left \n",
    "\n",
    "        elif len(stack) > 0 :\n",
    "            current = stack.pop()\n",
    "            print(str(current.data)+ \" \" , end  = ' ')\n",
    "            current = current.right\n",
    "        else :\n",
    "            break\n",
    "\n",
    "    ## Drivers Code \n",
    "root = Node(10)\n",
    "root.left = Node(20)\n",
    "root.right = Node(30)\n",
    "root.left.left = Node(40)\n",
    "root.left.right = Node(50)\n",
    "root.right.left = Node(60)\n",
    "root.right.right  = Node(70)\n",
    "\n",
    "print('PreOrder Traversal of the given binary tree')\n",
    "preOrder(root)\n",
    "print()\n",
    "\n",
    "print('PostOrder Traversal of the given binary tree')\n",
    "postOrder(root)\n",
    "print()\n",
    "\n",
    "\n",
    "print('inOrder Traversal of the given binary tree')\n",
    "inOrder(root)\n",
    "print()\n"
   ]
  },
  {
   "cell_type": "code",
   "execution_count": null,
   "id": "5bfc4396-3238-412c-aca5-a328edbef09c",
   "metadata": {},
   "outputs": [],
   "source": []
  }
 ],
 "metadata": {
  "kernelspec": {
   "display_name": "Python 3 (ipykernel)",
   "language": "python",
   "name": "python3"
  },
  "language_info": {
   "codemirror_mode": {
    "name": "ipython",
    "version": 3
   },
   "file_extension": ".py",
   "mimetype": "text/x-python",
   "name": "python",
   "nbconvert_exporter": "python",
   "pygments_lexer": "ipython3",
   "version": "3.10.8"
  }
 },
 "nbformat": 4,
 "nbformat_minor": 5
}

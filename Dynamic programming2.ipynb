{
 "cells": [
  {
   "cell_type": "code",
   "execution_count": 4,
   "id": "5d2d30ef-e938-4dd8-8e14-2e3598b8a1c7",
   "metadata": {},
   "outputs": [
    {
     "name": "stdout",
     "output_type": "stream",
     "text": [
      "{1: 0, 2: 1, 3: 3, 4: 5, 5: 0, 6: 4, 7: 3}\n"
     ]
    }
   ],
   "source": [
    "from collections import defaultdict\n",
    "\n",
    "class Graph:\n",
    "    def __init__(self, vertices):\n",
    "        self.v = vertices \n",
    "        self.graph = []\n",
    "        \n",
    "    def addEdge(self, u, v, w):\n",
    "        self.graph.append([u, v, w])\n",
    "            \n",
    "    def bellmanFord(self, source):\n",
    "        # Initializing distances to all vertices as infinite and source as 0\n",
    "        distances = {i: float('inf') for i in range(1, self.v + 1)}\n",
    "        distances[source] = 0\n",
    "        \n",
    "        # Relax all edges |V| - 1 times\n",
    "        for _ in range(self.v - 1):\n",
    "            for u, v, w in self.graph:\n",
    "                if distances[u] != float('inf') and distances[u] + w < distances[v]:\n",
    "                    distances[v] = distances[u] + w\n",
    "                \n",
    "        # Check for negative-weight cycles\n",
    "        for u, v, w in self.graph:\n",
    "            if distances[u] != float('inf') and distances[u] + w < distances[v]:\n",
    "                print(\"Graph contains negative weight cycle\")\n",
    "                return \n",
    "\n",
    "        # Print all distances\n",
    "        print(distances)\n",
    "               \n",
    "# Create a graph given in the above diagram\n",
    "g = Graph(7)\n",
    "g.addEdge(1, 2, 6)\n",
    "g.addEdge(1, 3, 5)\n",
    "g.addEdge(1, 4, 5)\n",
    "g.addEdge(2, 5, -1)\n",
    "g.addEdge(3, 2, -2)\n",
    "g.addEdge(3, 5, 1)\n",
    "g.addEdge(4, 3, -2)\n",
    "g.addEdge(4, 6, -1)\n",
    "g.addEdge(5, 7, 3)\n",
    "g.addEdge(6, 7, 3)\n",
    "\n",
    "g.bellmanFord(1)  # Output should be distances from node 1\n"
   ]
  },
  {
   "cell_type": "markdown",
   "id": "1384bc22-cfab-4cc1-8fba-564fea67f43d",
   "metadata": {},
   "source": [
    "## Implementation of counting sort algorithm "
   ]
  },
  {
   "cell_type": "code",
   "execution_count": 1,
   "id": "1fd272f1-6edd-4e41-9ef6-d5dd58394a71",
   "metadata": {},
   "outputs": [
    {
     "name": "stdout",
     "output_type": "stream",
     "text": [
      "[1, 1, 2, 2, 4, 5, 7, 8, 9]\n"
     ]
    }
   ],
   "source": [
    "def counting_sort(arr):\n",
    "    ## Find the maximum value in the array to define the range of counting array \n",
    "    max_value = max(arr)\n",
    "    counting_array = [0] * (max_value + 1)\n",
    "    \n",
    "    ## Count the occurences of each number in the array \n",
    "    for num in arr :\n",
    "        counting_array[num] += 1\n",
    "        \n",
    "    ## updating the counting array to contain the positions of each number \n",
    "    for i in range(1 , len(counting_array)):\n",
    "        counting_array[i] += counting_array[i-1]\n",
    "        \n",
    "    ## Creating the sorted array \n",
    "    sorted_array = [0] * len(arr)\n",
    "    \n",
    "    ## palce the elements in the sorted array to reverse order to maintain stability \n",
    "    for unsorted_array_pos in range (len(arr) -1 , -1 , -1):\n",
    "        sorted_array [counting_array[arr[unsorted_array_pos]] -1 ] = arr[unsorted_array_pos]\n",
    "        counting_array[arr[unsorted_array_pos]] -= 1 \n",
    "    return sorted_array\n",
    "\n",
    "## Example usage \n",
    "arr = [1 ,4 , 1, 2 , 7, 5, 2 , 9, 8]\n",
    "print(counting_sort(arr))"
   ]
  },
  {
   "cell_type": "code",
   "execution_count": null,
   "id": "4af762ad-88bb-4d7d-baae-5200116e8666",
   "metadata": {},
   "outputs": [],
   "source": []
  }
 ],
 "metadata": {
  "kernelspec": {
   "display_name": "Python 3 (ipykernel)",
   "language": "python",
   "name": "python3"
  },
  "language_info": {
   "codemirror_mode": {
    "name": "ipython",
    "version": 3
   },
   "file_extension": ".py",
   "mimetype": "text/x-python",
   "name": "python",
   "nbconvert_exporter": "python",
   "pygments_lexer": "ipython3",
   "version": "3.10.8"
  }
 },
 "nbformat": 4,
 "nbformat_minor": 5
}

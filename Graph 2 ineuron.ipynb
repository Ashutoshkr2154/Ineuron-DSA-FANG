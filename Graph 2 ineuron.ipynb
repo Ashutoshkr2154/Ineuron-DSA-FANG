{
 "cells": [
  {
   "cell_type": "code",
   "execution_count": 16,
   "id": "28e86e4f-69c6-448e-a528-6cc4c7688c38",
   "metadata": {},
   "outputs": [
    {
     "name": "stdout",
     "output_type": "stream",
     "text": [
      "{'A': 0, 'B': 2, 'C': 4, 'D': 2, 'E': 3, 'F': 5}\n"
     ]
    }
   ],
   "source": [
    "import heapq \n",
    "\n",
    "def calculte_distance(graph , starting_vertex):\n",
    "    distances = {vertex : float('infinity') for vertex in graph}\n",
    "    distances[starting_vertex]= 0 \n",
    "    \n",
    "    pq = [(0 , starting_vertex)]\n",
    "    while len(pq) > 0 :\n",
    "        current_distance , current_vertex = heapq.heappop(pq)\n",
    "        \n",
    "        if current_distance > distances[current_vertex]:\n",
    "            continue\n",
    "        \n",
    "        for neighbor , weight in graph[current_vertex].items():\n",
    "            distance = current_distance + weight \n",
    "            \n",
    "            ## only consider this new path if its better than path we have alerady found the relaxation of edges\n",
    "            if distance < distances[neighbor]:\n",
    "                distances[neighbor] = distance\n",
    "                heapq.heappush(pq , (distance , neighbor))\n",
    "        return distances \n",
    "    \n",
    "    \n",
    "##Storage of the graph via adjacency list\n",
    "distances = {\n",
    "    'A': {'B': 2, 'C': 5, 'D': 2, 'E': 7, 'F': 50},\n",
    "    'B': {'C': 2, 'D': 1, 'E': 2, 'F': 60},\n",
    "    'C': {'B': 3, 'E': 2, 'F': 90},\n",
    "    'D': {'E': 1, 'F': 3},\n",
    "    'E': {'D': 4, 'F': 4},\n",
    "    'F': {}\n",
    "}\n",
    "\n",
    "print(calculate_distance(distances, 'A'))"
   ]
  },
  {
   "cell_type": "markdown",
   "id": "c4680b57-498f-4b47-af42-d8251358806d",
   "metadata": {},
   "source": [
    "## Assignment 15 "
   ]
  },
  {
   "cell_type": "markdown",
   "id": "5678719b-c78d-4aa6-8da4-9fd4a1d1c490",
   "metadata": {},
   "source": [
    "## Find If path Exists in Graph "
   ]
  },
  {
   "cell_type": "code",
   "execution_count": 3,
   "id": "6ba94fa4-220c-478c-9f6a-c6c55a6fb43f",
   "metadata": {},
   "outputs": [
    {
     "name": "stdout",
     "output_type": "stream",
     "text": [
      "False\n"
     ]
    }
   ],
   "source": [
    "from collections import defaultdict, deque\n",
    "from typing import List \n",
    "\n",
    "class Solution:\n",
    "    def validPath(self , n : int , edge: List[List[int]] , source : int , destination: int)-> bool :\n",
    "        graph = defaultdict(list)\n",
    "        for a , b in edges: \n",
    "            graph[a].append(b)\n",
    "            graph[b].append(a)\n",
    "            \n",
    "        ## Breathe-First traversal \n",
    "        visited  = [False]*n\n",
    "        visited[source] = True \n",
    "        queue = deque([source])\n",
    "        \n",
    "        while queue:\n",
    "            node = queue.popleft()\n",
    "            ## Important condition to check whether a direct path exists or not \n",
    "            if node == destination:\n",
    "                return True \n",
    "            \n",
    "            for adjacent_node in graph[node]:\n",
    "                if not visited[adjacent_node]:\n",
    "                    visited[adjacent_node] = True \n",
    "                    queue.append(adjacent_node)\n",
    "        return False\n",
    "sol= Solution()\n",
    "n = 6 \n",
    "edges =[[0,1],[0,2],[3,5],[5,4],[4,3]]\n",
    "source = 0 \n",
    "destination = 5\n",
    "\n",
    "print(sol.validPath(n,edges , source , destination))"
   ]
  },
  {
   "cell_type": "markdown",
   "id": "bd6b0484-4ebb-4f3e-b80c-92567519c799",
   "metadata": {},
   "source": [
    "## Invert Bianary Tree \n"
   ]
  },
  {
   "cell_type": "code",
   "execution_count": 8,
   "id": "301832bd-16ca-4cbc-99b9-f05797d5963f",
   "metadata": {},
   "outputs": [
    {
     "name": "stdout",
     "output_type": "stream",
     "text": [
      "[9, 7, 6, 4, 3, 2, 1]\n"
     ]
    }
   ],
   "source": [
    "from typing import Optional\n",
    "\n",
    "# Definition for a binary tree node\n",
    "class TreeNode:\n",
    "    def __init__(self, val=0, left=None, right=None):\n",
    "        self.val = val\n",
    "        self.left = left\n",
    "        self.right = right\n",
    "\n",
    "class Solution:\n",
    "    def invertTree(self, root: Optional[TreeNode]) -> Optional[TreeNode]:\n",
    "        if root is not None:\n",
    "            rightSubtree = self.invertTree(root.right)\n",
    "            leftSubtree = self.invertTree(root.left)\n",
    "\n",
    "            root.left = rightSubtree\n",
    "            root.right = leftSubtree\n",
    "\n",
    "        return root\n",
    "\n",
    "# Helper function to print the tree in-order for checking the result\n",
    "def in_order_traversal(root):\n",
    "    return in_order_traversal(root.left) + [root.val] + in_order_traversal(root.right) if root else []\n",
    "\n",
    "# Example usage\n",
    "root = TreeNode(4)\n",
    "root.left = TreeNode(2)\n",
    "root.right = TreeNode(7)\n",
    "root.left.left = TreeNode(1)\n",
    "root.left.right = TreeNode(3)\n",
    "root.right.left = TreeNode(6)  # Fixing the child assignment\n",
    "root.right.right = TreeNode(9)\n",
    "\n",
    "sol = Solution()\n",
    "inverted_root = sol.invertTree(root)\n",
    "\n",
    "print(in_order_traversal(inverted_root))  # Output should be the in-order traversal of the inverted tree\n"
   ]
  },
  {
   "cell_type": "markdown",
   "id": "37035602-0536-40a6-998d-1a4a1019c193",
   "metadata": {},
   "source": [
    "## Graph Cycle detection \n"
   ]
  },
  {
   "cell_type": "code",
   "execution_count": 2,
   "id": "b1e48f4e-8361-46ec-bf9b-6cc81bfa1d1b",
   "metadata": {},
   "outputs": [
    {
     "name": "stdout",
     "output_type": "stream",
     "text": [
      "Graph contains cycle\n"
     ]
    }
   ],
   "source": [
    "from collections import defaultdict\n",
    "\n",
    "class Graph:\n",
    "    def __init__(self, num_of_v):\n",
    "        self.num_of_v = num_of_v\n",
    "        self.edges = defaultdict(list)\n",
    "    \n",
    "    # graph is represented as an array of edges\n",
    "    def add_edge(self, u, v):\n",
    "        self.edges[u].append(v)\n",
    "\n",
    "class Subset:\n",
    "    def __init__(self, parent, rank):\n",
    "        self.parent = parent\n",
    "        self.rank = rank\n",
    "\n",
    "# Path compression technique\n",
    "def find(subsets, node):\n",
    "    if subsets[node].parent != node:\n",
    "        # Recursion plays a vital role in giving the ultimate parent of that node\n",
    "        subsets[node].parent = find(subsets, subsets[node].parent)\n",
    "    return subsets[node].parent\n",
    "\n",
    "# A function that does union of two sets of u and v (uses union by rank)\n",
    "def union(subsets, u, v):\n",
    "    # Attach smaller rank tree under root of u and v (union by rank)\n",
    "    if subsets[u].rank > subsets[v].rank:\n",
    "        subsets[v].parent = u\n",
    "    elif subsets[v].rank > subsets[u].rank:\n",
    "        subsets[u].parent = v\n",
    "    else:\n",
    "        subsets[v].parent = u\n",
    "        subsets[u].rank += 1\n",
    "\n",
    "def isCycle(graph):\n",
    "    # Allocate memory for creating sets\n",
    "    subsets = [Subset(i, 0) for i in range(graph.num_of_v)]\n",
    "    \n",
    "    # Iterate through all edges of graph\n",
    "    # Find sets of both vertices of every edge, if sets are same, then there is a cycle in graph\n",
    "    for u in graph.edges:\n",
    "        u_rep = find(subsets, u)\n",
    "        for v in graph.edges[u]:\n",
    "            v_rep = find(subsets, v)\n",
    "            if u_rep == v_rep:\n",
    "                return True\n",
    "            else:\n",
    "                union(subsets, u_rep, v_rep)\n",
    "    \n",
    "    return False\n",
    "\n",
    "# Driver Code\n",
    "g = Graph(3)\n",
    "\n",
    "# Add edge 0-1\n",
    "g.add_edge(0, 1)\n",
    "\n",
    "# Add edge 1-2\n",
    "g.add_edge(1, 2)\n",
    "\n",
    "# Add edge 0-2\n",
    "g.add_edge(0, 2)\n",
    "\n",
    "if isCycle(g):\n",
    "    print('Graph contains cycle')\n",
    "else:\n",
    "    print('Graph does not contain cycle')\n"
   ]
  },
  {
   "cell_type": "code",
   "execution_count": null,
   "id": "b1b85075-7733-4e08-a0b0-af845f80bb0a",
   "metadata": {},
   "outputs": [],
   "source": []
  }
 ],
 "metadata": {
  "kernelspec": {
   "display_name": "Python 3 (ipykernel)",
   "language": "python",
   "name": "python3"
  },
  "language_info": {
   "codemirror_mode": {
    "name": "ipython",
    "version": 3
   },
   "file_extension": ".py",
   "mimetype": "text/x-python",
   "name": "python",
   "nbconvert_exporter": "python",
   "pygments_lexer": "ipython3",
   "version": "3.10.8"
  }
 },
 "nbformat": 4,
 "nbformat_minor": 5
}

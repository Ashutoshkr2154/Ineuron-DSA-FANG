{
 "cells": [
  {
   "cell_type": "code",
   "execution_count": 4,
   "id": "df3e9525-1fc0-419c-abd7-c681678292a6",
   "metadata": {},
   "outputs": [
    {
     "name": "stdout",
     "output_type": "stream",
     "text": [
      "5 3 2 4 8 7 "
     ]
    }
   ],
   "source": [
    "## Method Difinition for depth first Traversal \n",
    "def depth_first_traversal(visited , graph , node):\n",
    "    if node not in visited:\n",
    "        print(node , end =\" \")\n",
    "        visited.add(node)\n",
    "        for adjacent_node in graph[node]:\n",
    "            ## Recursion call\n",
    "            depth_first_traversal(visited , graph , adjacent_node)\n",
    "\n",
    "## Visited set to keep track of all the visited nodes \n",
    "visited = set()\n",
    "\n",
    "## Drivers Code \n",
    "graph = {\n",
    "    '5': ['3' ,'7'],\n",
    "    '3': ['2' ,'4'],\n",
    "    '7': ['8'],\n",
    "    '2': [],\n",
    "    '4': ['8'],\n",
    "    '8':[]\n",
    "}\n",
    "depth_first_traversal(visited , graph , '5')"
   ]
  },
  {
   "cell_type": "markdown",
   "id": "06e55780-85e0-4c7e-b9f3-e5a0e38919a7",
   "metadata": {},
   "source": [
    "## BFS"
   ]
  },
  {
   "cell_type": "code",
   "execution_count": 7,
   "id": "5e8de7d4-ab10-4bb8-85c3-184d08933397",
   "metadata": {},
   "outputs": [
    {
     "name": "stdout",
     "output_type": "stream",
     "text": [
      "A B C D E F G "
     ]
    }
   ],
   "source": [
    "## Method definition \n",
    "from collections import deque\n",
    "queue = deque()\n",
    "\n",
    "def breadth_first_traversal(graph , visited , node):\n",
    "    visited.add(node)\n",
    "    ## Queue - FIFO\n",
    "    ## FIFO - appendleft and pop or append and pop left \n",
    "    queue.appendleft(node)\n",
    "    \n",
    "    while queue:\n",
    "        node = queue.pop()\n",
    "        print(node , end = \" \")\n",
    "        \n",
    "        for adjacent_node in graph[node]:\n",
    "            if adjacent_node not in visited:\n",
    "                visited.add(adjacent_node)\n",
    "                queue.appendleft(adjacent_node)\n",
    "\n",
    "## Drivers Code \n",
    "## Adjancey list\n",
    "graph = {\n",
    "    'A' : ['B' ,'C' , 'D'],\n",
    "    'B' : ['E'],\n",
    "    'C' : ['E' ,'F'],\n",
    "    'D' : ['F'],\n",
    "    'E' : ['G'],\n",
    "    'F' : ['G'],\n",
    "    'G' : []\n",
    "} \n",
    "## Visited set to take care of all the visited node that we have\n",
    "visited =set()\n",
    "\n",
    "## Fucntion calling \n",
    "breadth_first_traversal(graph, visited, 'A')\n",
    "    "
   ]
  },
  {
   "cell_type": "markdown",
   "id": "cb8e78b6-d8c8-4d8f-a8ee-cb190cb108a8",
   "metadata": {},
   "source": [
    "## Greedy algorithm \n",
    "## Implementation of Fractional Knapsack Problem "
   ]
  },
  {
   "cell_type": "code",
   "execution_count": 16,
   "id": "a19396fd-58a3-4b89-86ab-99e815a5242d",
   "metadata": {},
   "outputs": [
    {
     "name": "stdout",
     "output_type": "stream",
     "text": [
      "Maximum Profit using greedy algorithm is 400.0\n"
     ]
    }
   ],
   "source": [
    "class Item:\n",
    "    def __init__(self, profit, weight):\n",
    "        self.profit = profit\n",
    "        self.weight = weight  # Corrected attribute name\n",
    "\n",
    "def fractionalKnapsack(arr, M):\n",
    "    maxProfit = 0  # Initialize maxProfit\n",
    "    arr.sort(key=lambda x: (x.profit / x.weight), reverse=True)  # Corrected lambda function\n",
    "    \n",
    "    for item in arr:\n",
    "        if item.weight <= M:\n",
    "            M -= item.weight\n",
    "            maxProfit += item.profit\n",
    "        else:\n",
    "            maxProfit += item.profit * (M / item.weight)\n",
    "            break\n",
    "\n",
    "    return maxProfit\n",
    "\n",
    "# Drivers Code \n",
    "M = 37 \n",
    "arr = [Item(25, 5), Item(75, 10), Item(100, 2), Item(50, 4), Item(45, 7), Item(90, 9), Item(30, 3)]\n",
    "\n",
    "# Function Call \n",
    "maxProfit = fractionalKnapsack(arr, M)  # Calculate maxProfit\n",
    "print('Maximum Profit using greedy algorithm is', maxProfit)\n"
   ]
  },
  {
   "cell_type": "markdown",
   "id": "bd9d6e61-1381-4900-af3a-be306db7b186",
   "metadata": {},
   "source": [
    "## Binary Seasrch interview questions "
   ]
  },
  {
   "cell_type": "markdown",
   "id": "36744457-1b6e-4a0a-be5f-328abee3afd7",
   "metadata": {},
   "source": [
    "#### lowest Common Ancestor of a binary Search Tree"
   ]
  },
  {
   "cell_type": "code",
   "execution_count": 4,
   "id": "7a6784b5-26da-4d1d-a286-19f9025debdf",
   "metadata": {},
   "outputs": [
    {
     "name": "stdout",
     "output_type": "stream",
     "text": [
      "The lowest common ancestor of nodes 2 and 8 is 6.\n"
     ]
    }
   ],
   "source": [
    "# Definition for a binary tree node\n",
    "class TreeNode:\n",
    "    def __init__(self, x):\n",
    "        self.val = x\n",
    "        self.left = None\n",
    "        self.right = None\n",
    "\n",
    "class Solution:\n",
    "    def lowestCommonAncestor(self, root: 'TreeNode', p: 'TreeNode', q: 'TreeNode') -> 'TreeNode':\n",
    "        parent_val = root.val\n",
    "        p_val = p.val\n",
    "        q_val = q.val\n",
    "\n",
    "        if p_val > parent_val and q_val > parent_val:\n",
    "            # Both p and q are in the right subtree\n",
    "            return self.lowestCommonAncestor(root.right, p, q)\n",
    "        elif p_val < parent_val and q_val < parent_val:\n",
    "            # Both p and q are in the left subtree\n",
    "            return self.lowestCommonAncestor(root.left, p, q)\n",
    "        else:\n",
    "            # We have found the split point, i.e., the LCA node.\n",
    "            return root\n",
    "\n",
    "# Helper function to insert nodes in the BST\n",
    "def insert_into_bst(root, val):\n",
    "    if root is None:\n",
    "        return TreeNode(val)\n",
    "    if val < root.val:\n",
    "        root.left = insert_into_bst(root.left, val)\n",
    "    else:\n",
    "        root.right = insert_into_bst(root.right, val)\n",
    "    return root\n",
    "\n",
    "# Driver code\n",
    "if __name__ == \"__main__\":\n",
    "    # Create a binary search tree\n",
    "    bst_root = None\n",
    "    values = [6, 2, 8, 0, 4, 7, 9, 3, 5]\n",
    "    for value in values:\n",
    "        bst_root = insert_into_bst(bst_root, value)\n",
    "\n",
    "    # Define the nodes for which to find the LCA\n",
    "    p = TreeNode(2)\n",
    "    q = TreeNode(8)\n",
    "\n",
    "    # Find the LCA\n",
    "    solution = Solution()\n",
    "    lca = solution.lowestCommonAncestor(bst_root, p, q)\n",
    "\n",
    "    print(f\"The lowest common ancestor of nodes {p.val} and {q.val} is {lca.val}.\")\n"
   ]
  },
  {
   "cell_type": "markdown",
   "id": "d7d1e7d2-648d-4788-a782-104bb340d317",
   "metadata": {},
   "source": [
    "## Recover Bianry Tree "
   ]
  },
  {
   "cell_type": "code",
   "execution_count": 11,
   "id": "865da485-b70f-474c-b961-e70e139644b0",
   "metadata": {},
   "outputs": [
    {
     "name": "stdout",
     "output_type": "stream",
     "text": [
      "1 2 3 4 "
     ]
    }
   ],
   "source": [
    "from typing import Optional\n",
    "\n",
    "# Definition for a binary tree node.\n",
    "class TreeNode:\n",
    "    def __init__(self, val=0, left=None, right=None):\n",
    "        self.val = val\n",
    "        self.left = left\n",
    "        self.right = right\n",
    "\n",
    "class Solution:\n",
    "    def inOrder(self, root: Optional[TreeNode], list1: list) -> list:\n",
    "        if root is None:\n",
    "            return list1\n",
    "        \n",
    "        list1 = self.inOrder(root.left, list1)\n",
    "        list1.append(root)\n",
    "        list1 = self.inOrder(root.right, list1)\n",
    "        \n",
    "        return list1\n",
    "    \n",
    "    def recoverTree(self, root: Optional[TreeNode]) -> None:\n",
    "        list1 = self.inOrder(root, [])\n",
    "        n = len(list1)\n",
    "        \n",
    "        # Find the first and second nodes that are out of order\n",
    "        a = None\n",
    "        b = None\n",
    "        for i in range(1, n):\n",
    "            if list1[i].val < list1[i-1].val:\n",
    "                if a is None:\n",
    "                    a = list1[i-1]\n",
    "                    b = list1[i]  # In case the swapped nodes are adjacent\n",
    "                else:\n",
    "                    b = list1[i]\n",
    "                    break\n",
    "        \n",
    "        # Swap the values of the two nodes\n",
    "        if a and b:\n",
    "            a.val, b.val = b.val, a.val\n",
    "\n",
    "# Example usage\n",
    "if __name__ == \"__main__\":\n",
    "    # Construct the tree\n",
    "    #      3\n",
    "    #     / \\\n",
    "    #    1   4\n",
    "    #       /\n",
    "    #      2\n",
    "    root = TreeNode(3)\n",
    "    root.left = TreeNode(1)\n",
    "    root.right = TreeNode(4)\n",
    "    root.right.left = TreeNode(2)\n",
    "    \n",
    "    # Recover the tree\n",
    "    solution = Solution()\n",
    "    solution.recoverTree(root)\n",
    "    \n",
    "    # Print the inorder traversal of the recovered tree\n",
    "    def print_inorder(root):\n",
    "        if root is not None:\n",
    "            print_inorder(root.left)\n",
    "            print(root.val, end=' ')\n",
    "            print_inorder(root.right)\n",
    "    \n",
    "    print_inorder(root)  # Output should be 1 2 3 4\n"
   ]
  },
  {
   "cell_type": "markdown",
   "id": "5e4d611d-eb7b-4aba-875e-85fff95de6c6",
   "metadata": {},
   "source": [
    "## Greedy Algorithm \n",
    "## Job Sequencing with Deadline "
   ]
  },
  {
   "cell_type": "code",
   "execution_count": 1,
   "id": "80d722a7-4d2d-437b-856e-56eee474ca56",
   "metadata": {},
   "outputs": [
    {
     "name": "stdout",
     "output_type": "stream",
     "text": [
      "job Sequence to get the maximum profit : ['J2', 'J5', 'J4', 'J7', 'J8', -1, 'J3']\n"
     ]
    }
   ],
   "source": [
    "## Time Complexity :O(n^2)\n",
    "## Space Complexity:O(n)\n",
    "## Solve the same part using Heap Data Structure (Minheap/Maxheap)\n",
    "## Method Definition\n",
    "\n",
    "def jobScheduling(arr, maxDeadline):\n",
    "    n = len(arr)\n",
    "    ## Sorting the arr on the basis of profit desc order \n",
    "    arr.sort(key = lambda x: x[1] , reverse= True )\n",
    "    \n",
    "    ## REsults shows that whether a job is already occupied on that day or not \n",
    "    ## JOB stores the actual jobs inside the list\n",
    "    \n",
    "    result = [False]*maxDeadline\n",
    "    job = [-1]*maxDeadline\n",
    "    \n",
    "    for i in range(n):\n",
    "        ## Find a free slot for this job(we start from the last possible slot)\n",
    "        for j in range(min(maxDeadline -1 ,arr[i][2]-1) , -1 ,-1):\n",
    "            if result [j] is False:\n",
    "                result[j] = True \n",
    "                job[j] = arr[i][0]\n",
    "                break \n",
    "    print(\"job Sequence to get the maximum profit :\" , job)\n",
    "            \n",
    "        ##Drivers Code\n",
    "        # arr contains 3 columns: [Job Number, Profit, Deadline]\n",
    "# Constraint: Every job needs to be completed before or equal to the given deadlines\n",
    "# Optimization: Maximum profit \n",
    "arr = [['J1', 55, 5],\n",
    "       ['J2', 65, 2],\n",
    "       ['J3', 75, 7],\n",
    "       ['J4', 60, 3],\n",
    "       ['J5', 70, 2],\n",
    "       ['J6', 50, 1],\n",
    "       ['J7', 85, 4],\n",
    "       ['J8', 68, 5],\n",
    "       ['J9', 45, 3]]\n",
    "\n",
    "maxDeadline = 7\n",
    "# Function Calling \n",
    "jobScheduling(arr, maxDeadline)"
   ]
  },
  {
   "cell_type": "code",
   "execution_count": 2,
   "id": "6e07c244-76aa-41bb-9072-8cbfaa3510b8",
   "metadata": {},
   "outputs": [],
   "source": [
    "## Job Sequencing with Deadline using heap Data Structure\n"
   ]
  },
  {
   "cell_type": "code",
   "execution_count": 3,
   "id": "6347095f-1d7e-40d7-a778-1e6cfe062fac",
   "metadata": {},
   "outputs": [
    {
     "name": "stdout",
     "output_type": "stream",
     "text": [
      "Job sequence to get the maximum profit: ['J7', 'J3', 'J5', 'J8', 'J2', 'J4']\n"
     ]
    }
   ],
   "source": [
    "import heapq\n",
    "\n",
    "def jobScheduling(arr, maxDeadline):\n",
    "    n = len(arr)\n",
    "    # Sort the jobs based on their deadlines\n",
    "    arr.sort(key=lambda x: x[2])\n",
    "    \n",
    "    # Max heap for keeping track of the maximum profit jobs\n",
    "    max_heap = []\n",
    "    \n",
    "    for i in range(n):\n",
    "        # If the number of jobs in the heap is less than the job's deadline, we can add this job\n",
    "        if len(max_heap) < arr[i][2]:\n",
    "            heapq.heappush(max_heap, (arr[i][1], arr[i][0]))\n",
    "        # Otherwise, we check if the current job's profit is greater than the minimum profit job in the heap\n",
    "        # If it is, we replace the minimum profit job with the current job\n",
    "        elif arr[i][1] > max_heap[0][0]:\n",
    "            heapq.heappop(max_heap)\n",
    "            heapq.heappush(max_heap, (arr[i][1], arr[i][0]))\n",
    "    \n",
    "    # Extract jobs from the heap to get the job sequence\n",
    "    job_sequence = [heapq.heappop(max_heap)[1] for _ in range(len(max_heap))]\n",
    "    job_sequence.reverse()  # The jobs are extracted in increasing order of profit\n",
    "    \n",
    "    print(\"Job sequence to get the maximum profit:\", job_sequence)\n",
    "\n",
    "# Driver code\n",
    "arr = [['J1', 55, 5],\n",
    "       ['J2', 65, 2],\n",
    "       ['J3', 75, 7],\n",
    "       ['J4', 60, 3],\n",
    "       ['J5', 70, 2],\n",
    "       ['J6', 50, 1],\n",
    "       ['J7', 85, 4],\n",
    "       ['J8', 68, 5],\n",
    "       ['J9', 45, 3]]\n",
    "\n",
    "maxDeadline = 7\n",
    "# Function calling\n",
    "jobScheduling(arr, maxDeadline)\n"
   ]
  },
  {
   "cell_type": "code",
   "execution_count": null,
   "id": "f0642f16-e469-4612-b922-0c8607f47d65",
   "metadata": {},
   "outputs": [],
   "source": []
  }
 ],
 "metadata": {
  "kernelspec": {
   "display_name": "Python 3 (ipykernel)",
   "language": "python",
   "name": "python3"
  },
  "language_info": {
   "codemirror_mode": {
    "name": "ipython",
    "version": 3
   },
   "file_extension": ".py",
   "mimetype": "text/x-python",
   "name": "python",
   "nbconvert_exporter": "python",
   "pygments_lexer": "ipython3",
   "version": "3.10.8"
  }
 },
 "nbformat": 4,
 "nbformat_minor": 5
}
